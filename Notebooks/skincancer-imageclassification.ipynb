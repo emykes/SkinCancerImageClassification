{
 "cells": [
  {
   "cell_type": "code",
   "execution_count": null,
   "metadata": {
    "_cell_guid": "b1076dfc-b9ad-4769-8c92-a6c4dae69d19",
    "_uuid": "8f2839f25d086af736a60e9eeb907d3b93b6e0e5"
   },
   "outputs": [],
   "source": [
    "# # This Python 3 environment comes with many helpful analytics libraries installed\n",
    "# # It is defined by the kaggle/python Docker image: https://github.com/kaggle/docker-python\n",
    "# # For example, here's several helpful packages to load\n",
    "\n",
    "# import numpy as np # linear algebra\n",
    "# import pandas as pd # data processing, CSV file I/O (e.g. pd.read_csv)\n",
    "\n",
    "# # Input data files are available in the read-only \"../input/\" directory\n",
    "# # For example, running this (by clicking run or pressing Shift+Enter) will list all files under the input directory\n",
    "\n",
    "# import os\n",
    "# for dirname, _, filenames in os.walk('/kaggle/input'):\n",
    "#     for filename in filenames:\n",
    "#         print(os.path.join(dirname, filename))\n",
    "\n",
    "# # You can write up to 20GB to the current directory (/kaggle/working/) that gets preserved as output when you create a version using \"Save & Run All\" \n",
    "# # You can also write temporary files to /kaggle/temp/, but they won't be saved outside of the current session"
   ]
  },
  {
   "cell_type": "markdown",
   "metadata": {},
   "source": [
    "**SKIN CANCER IMAGE CLASSIFICATION**"
   ]
  },
  {
   "cell_type": "code",
   "execution_count": 1,
   "metadata": {
    "execution": {
     "iopub.execute_input": "2021-11-22T19:06:41.827351Z",
     "iopub.status.busy": "2021-11-22T19:06:41.826927Z",
     "iopub.status.idle": "2021-11-22T19:06:50.076605Z",
     "shell.execute_reply": "2021-11-22T19:06:50.074923Z",
     "shell.execute_reply.started": "2021-11-22T19:06:41.827230Z"
    }
   },
   "outputs": [],
   "source": [
    "# Import Relevant Libraries\n",
    "import pandas as pd\n",
    "import numpy as np\n",
    "import matplotlib.pyplot as plt\n",
    "\n",
    "from sklearn.model_selection import train_test_split\n",
    "\n",
    "from tensorflow import keras\n",
    "from tensorflow.keras import layers\n",
    "\n",
    "import warnings\n",
    "warnings.filterwarnings('ignore')"
   ]
  },
  {
   "cell_type": "code",
   "execution_count": 2,
   "metadata": {
    "execution": {
     "iopub.execute_input": "2021-11-22T19:06:50.079147Z",
     "iopub.status.busy": "2021-11-22T19:06:50.078569Z",
     "iopub.status.idle": "2021-11-22T19:06:50.211827Z",
     "shell.execute_reply": "2021-11-22T19:06:50.211024Z",
     "shell.execute_reply.started": "2021-11-22T19:06:50.079106Z"
    }
   },
   "outputs": [],
   "source": [
    "#Data1 is from: https://www.kaggle.com/c/siim-isic-melanoma-classification/overview\n",
    "\n",
    "# define the file path\n",
    "train1_directory='../input/siim-isic-melanoma-classification/jpeg/train'\n",
    "test1_directory = '../input/siim-isic-melanoma-classification/jpeg/test'\n",
    "\n",
    "# define train and test set\n",
    "train1 = pd.read_csv('../input/siim-isic-melanoma-classification/train.csv')\n",
    "test1 = pd.read_csv('../input/siim-isic-melanoma-classification/test.csv')"
   ]
  },
  {
   "cell_type": "code",
   "execution_count": 3,
   "metadata": {
    "execution": {
     "iopub.execute_input": "2021-11-22T19:06:50.214260Z",
     "iopub.status.busy": "2021-11-22T19:06:50.213252Z",
     "iopub.status.idle": "2021-11-22T19:06:50.254312Z",
     "shell.execute_reply": "2021-11-22T19:06:50.252950Z",
     "shell.execute_reply.started": "2021-11-22T19:06:50.214199Z"
    }
   },
   "outputs": [],
   "source": [
    "train1"
   ]
  },
  {
   "cell_type": "code",
   "execution_count": 4,
   "metadata": {
    "execution": {
     "iopub.execute_input": "2021-11-22T19:06:50.256864Z",
     "iopub.status.busy": "2021-11-22T19:06:50.256604Z",
     "iopub.status.idle": "2021-11-22T19:06:50.289513Z",
     "shell.execute_reply": "2021-11-22T19:06:50.288712Z",
     "shell.execute_reply.started": "2021-11-22T19:06:50.256833Z"
    }
   },
   "outputs": [],
   "source": [
    "# add image's path data to train and test set\n",
    "train1['path'] = train1_directory + train1['image_name'] + \".jpg\"\n",
    "test1['path'] = test1_directory + test1['image_name'] + \".jpg\""
   ]
  },
  {
   "cell_type": "code",
   "execution_count": 5,
   "metadata": {
    "execution": {
     "iopub.execute_input": "2021-11-22T19:06:50.291179Z",
     "iopub.status.busy": "2021-11-22T19:06:50.290888Z",
     "iopub.status.idle": "2021-11-22T19:06:50.313105Z",
     "shell.execute_reply": "2021-11-22T19:06:50.312486Z",
     "shell.execute_reply.started": "2021-11-22T19:06:50.291144Z"
    }
   },
   "outputs": [],
   "source": [
    "train1"
   ]
  },
  {
   "cell_type": "code",
   "execution_count": 6,
   "metadata": {
    "execution": {
     "iopub.execute_input": "2021-11-22T19:06:50.314674Z",
     "iopub.status.busy": "2021-11-22T19:06:50.314074Z",
     "iopub.status.idle": "2021-11-22T19:06:50.327826Z",
     "shell.execute_reply": "2021-11-22T19:06:50.326463Z",
     "shell.execute_reply.started": "2021-11-22T19:06:50.314638Z"
    }
   },
   "outputs": [],
   "source": [
    "# Visualize target distribution\n",
    "train1['target'].value_counts(normalize=True)"
   ]
  },
  {
   "cell_type": "markdown",
   "metadata": {},
   "source": [
    "We have class imbalance problem in the dataset."
   ]
  },
  {
   "cell_type": "code",
   "execution_count": 7,
   "metadata": {
    "execution": {
     "iopub.execute_input": "2021-11-22T19:06:50.330939Z",
     "iopub.status.busy": "2021-11-22T19:06:50.329584Z",
     "iopub.status.idle": "2021-11-22T19:06:50.415025Z",
     "shell.execute_reply": "2021-11-22T19:06:50.413904Z",
     "shell.execute_reply.started": "2021-11-22T19:06:50.330868Z"
    }
   },
   "outputs": [],
   "source": [
    "# Add new dataset Data 2 is from: https://www.kaggle.com/nodoubttome/skin-cancer9-classesisic\n",
    "\n",
    "# define image directory\n",
    "train2_directory='../input/jpeg-isic2019-512x512/train'\n",
    "\n",
    "# define train set\n",
    "train2 = pd.read_csv('../input/jpeg-isic2019-512x512/train.csv')"
   ]
  },
  {
   "cell_type": "code",
   "execution_count": 8,
   "metadata": {
    "execution": {
     "iopub.execute_input": "2021-11-22T19:06:50.417072Z",
     "iopub.status.busy": "2021-11-22T19:06:50.416791Z",
     "iopub.status.idle": "2021-11-22T19:06:50.448408Z",
     "shell.execute_reply": "2021-11-22T19:06:50.447522Z",
     "shell.execute_reply.started": "2021-11-22T19:06:50.417041Z"
    }
   },
   "outputs": [],
   "source": [
    "# add only malignants from second dataset:\n",
    "train2_malig = train2[train2['target']==1]  \n",
    "train2_malig"
   ]
  },
  {
   "cell_type": "code",
   "execution_count": 9,
   "metadata": {
    "execution": {
     "iopub.execute_input": "2021-11-22T19:06:50.450724Z",
     "iopub.status.busy": "2021-11-22T19:06:50.449914Z",
     "iopub.status.idle": "2021-11-22T19:06:50.461113Z",
     "shell.execute_reply": "2021-11-22T19:06:50.460011Z",
     "shell.execute_reply.started": "2021-11-22T19:06:50.450667Z"
    }
   },
   "outputs": [],
   "source": [
    "# add image's path to the dataset\n",
    "train2_malig['path'] = train2_directory + train2_malig['image_name'] + \".jpg\""
   ]
  },
  {
   "cell_type": "code",
   "execution_count": 10,
   "metadata": {
    "execution": {
     "iopub.execute_input": "2021-11-22T19:06:50.464660Z",
     "iopub.status.busy": "2021-11-22T19:06:50.464349Z",
     "iopub.status.idle": "2021-11-22T19:06:50.490153Z",
     "shell.execute_reply": "2021-11-22T19:06:50.489480Z",
     "shell.execute_reply.started": "2021-11-22T19:06:50.464625Z"
    }
   },
   "outputs": [],
   "source": [
    "train2_malig"
   ]
  },
  {
   "cell_type": "code",
   "execution_count": 11,
   "metadata": {
    "execution": {
     "iopub.execute_input": "2021-11-22T19:06:50.492142Z",
     "iopub.status.busy": "2021-11-22T19:06:50.491510Z",
     "iopub.status.idle": "2021-11-22T19:06:50.503698Z",
     "shell.execute_reply": "2021-11-22T19:06:50.502620Z",
     "shell.execute_reply.started": "2021-11-22T19:06:50.492106Z"
    }
   },
   "outputs": [],
   "source": [
    "#visualize the target distribution in the second dataset\n",
    "train2['benign_malignant'].value_counts()"
   ]
  },
  {
   "cell_type": "code",
   "execution_count": 12,
   "metadata": {
    "execution": {
     "iopub.execute_input": "2021-11-22T19:06:50.505850Z",
     "iopub.status.busy": "2021-11-22T19:06:50.504945Z",
     "iopub.status.idle": "2021-11-22T19:06:50.523001Z",
     "shell.execute_reply": "2021-11-22T19:06:50.521779Z",
     "shell.execute_reply.started": "2021-11-22T19:06:50.505817Z"
    }
   },
   "outputs": [],
   "source": [
    "# Concat two dataset, we only add malignant data into original data:\n",
    "df_final = pd.concat([train1, train2_malig], axis=0)"
   ]
  },
  {
   "cell_type": "code",
   "execution_count": 13,
   "metadata": {
    "execution": {
     "iopub.execute_input": "2021-11-22T19:06:50.524685Z",
     "iopub.status.busy": "2021-11-22T19:06:50.524407Z",
     "iopub.status.idle": "2021-11-22T19:06:50.815551Z",
     "shell.execute_reply": "2021-11-22T19:06:50.814474Z",
     "shell.execute_reply.started": "2021-11-22T19:06:50.524654Z"
    }
   },
   "outputs": [],
   "source": [
    "df_final"
   ]
  },
  {
   "cell_type": "code",
   "execution_count": 14,
   "metadata": {
    "execution": {
     "iopub.execute_input": "2021-11-22T19:06:50.817785Z",
     "iopub.status.busy": "2021-11-22T19:06:50.817398Z",
     "iopub.status.idle": "2021-11-22T19:06:50.849854Z",
     "shell.execute_reply": "2021-11-22T19:06:50.848741Z",
     "shell.execute_reply.started": "2021-11-22T19:06:50.817732Z"
    }
   },
   "outputs": [],
   "source": [
    "#Drop dublicates\n",
    "df_final.drop_duplicates(subset=['image_name'], keep='first', inplace=True)"
   ]
  },
  {
   "cell_type": "code",
   "execution_count": 15,
   "metadata": {
    "execution": {
     "iopub.execute_input": "2021-11-22T19:06:50.852761Z",
     "iopub.status.busy": "2021-11-22T19:06:50.852175Z",
     "iopub.status.idle": "2021-11-22T19:06:50.862271Z",
     "shell.execute_reply": "2021-11-22T19:06:50.861249Z",
     "shell.execute_reply.started": "2021-11-22T19:06:50.852719Z"
    }
   },
   "outputs": [],
   "source": [
    "# Dataset still has class imbalance problem:\n",
    "df_final['target'].value_counts(normalize=True)"
   ]
  },
  {
   "cell_type": "code",
   "execution_count": 16,
   "metadata": {
    "execution": {
     "iopub.execute_input": "2021-11-22T19:06:54.310709Z",
     "iopub.status.busy": "2021-11-22T19:06:54.310425Z",
     "iopub.status.idle": "2021-11-22T19:06:54.321095Z",
     "shell.execute_reply": "2021-11-22T19:06:54.320428Z",
     "shell.execute_reply.started": "2021-11-22T19:06:54.310680Z"
    }
   },
   "outputs": [],
   "source": [
    "df_final.drop(columns= ['patient_id', 'diagnosis', 'tfrecord', 'width', 'height'], inplace=True)"
   ]
  },
  {
   "cell_type": "code",
   "execution_count": 17,
   "metadata": {
    "execution": {
     "iopub.execute_input": "2021-11-22T19:06:56.922513Z",
     "iopub.status.busy": "2021-11-22T19:06:56.922208Z",
     "iopub.status.idle": "2021-11-22T19:06:56.946625Z",
     "shell.execute_reply": "2021-11-22T19:06:56.945449Z",
     "shell.execute_reply.started": "2021-11-22T19:06:56.922483Z"
    }
   },
   "outputs": [],
   "source": [
    "df_final"
   ]
  },
  {
   "cell_type": "code",
   "execution_count": null,
   "metadata": {},
   "outputs": [],
   "source": []
  }
 ],
 "metadata": {
  "kernelspec": {
   "display_name": "Python 3",
   "language": "python",
   "name": "python3"
  },
  "language_info": {
   "codemirror_mode": {
    "name": "ipython",
    "version": 3
   },
   "file_extension": ".py",
   "mimetype": "text/x-python",
   "name": "python",
   "nbconvert_exporter": "python",
   "pygments_lexer": "ipython3",
   "version": "3.8.5"
  }
 },
 "nbformat": 4,
 "nbformat_minor": 4
}
