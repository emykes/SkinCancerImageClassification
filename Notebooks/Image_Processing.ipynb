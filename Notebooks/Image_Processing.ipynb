{
 "cells": [
  {
   "cell_type": "markdown",
   "metadata": {},
   "source": [
    "# Skin Cancer Image Processing and Baseline Model"
   ]
  },
  {
   "cell_type": "code",
   "execution_count": 13,
   "metadata": {},
   "outputs": [],
   "source": [
    "# Import Relevant Libraries\n",
    "import pandas as pd\n",
    "import numpy as np\n",
    "import matplotlib.pyplot as plt\n",
    "\n",
    "from sklearn.model_selection import train_test_split\n",
    "\n",
    "from tensorflow import keras\n",
    "from tensorflow.keras import layers\n",
    "\n",
    "import warnings\n",
    "warnings.filterwarnings('ignore')\n",
    "\n",
    "import matplotlib.image as mpimg\n",
    "from keras.preprocessing.image import ImageDataGenerator, array_to_img, img_to_array, load_img\n",
    "\n",
    "from sklearn.metrics import mean_squared_error\n",
    "from sklearn.metrics import confusion_matrix, ConfusionMatrixDisplay\n",
    "\n",
    "from keras import models\n",
    "from keras import layers\n",
    "np.random.seed(123)"
   ]
  },
  {
   "cell_type": "code",
   "execution_count": 35,
   "metadata": {},
   "outputs": [],
   "source": [
    "# Defining a results visualization function\n",
    "def visualize_training_results(history):\n",
    "    '''\n",
    "    From https://machinelearningmastery.com/display-deep-learning-model-training-history-in-keras/\n",
    "    \n",
    "    Input: keras history object (output from trained model)\n",
    "    '''\n",
    "    fig, (ax1, ax2) = plt.subplots(2, sharex=True)\n",
    "    fig.suptitle('Model Results')\n",
    "\n",
    "    # summarize history for accuracy\n",
    "    ax1.plot(history.history['accuracy'])\n",
    "    ax1.plot(history.history['val_accuracy'])\n",
    "    ax1.set_ylabel('Accuracy')\n",
    "    ax1.legend(['train', 'test'], loc='upper left')\n",
    "    # summarize history for loss\n",
    "    ax2.plot(history.history['loss'])\n",
    "    ax2.plot(history.history['val_loss'])\n",
    "    ax2.set_ylabel('Loss')\n",
    "    ax2.legend(['train', 'test'], loc='upper left')\n",
    "    \n",
    "    plt.xlabel('Epoch')\n",
    "    plt.show()"
   ]
  },
  {
   "cell_type": "code",
   "execution_count": 14,
   "metadata": {},
   "outputs": [
    {
     "name": "stdout",
     "output_type": "stream",
     "text": [
      "Additional_malignant\n",
      "ISIC_2019_512x512\n",
      "ISIC_2019_512x512.csv\n",
      "ISIC_2019_Training_GroundTruth.csv\n",
      "ISIC_2019_Training_Input\n",
      "ISIC_2019_Training_Metadata.csv\n",
      "ISIC_2020_Training_GroundTruth.csv\n",
      "ISIC_2020_Training_JPEG\n",
      "ISIC_FINAL_DATASET.csv\n",
      "add_train_malig_2.csv\n"
     ]
    }
   ],
   "source": [
    "!ls ../data"
   ]
  },
  {
   "cell_type": "code",
   "execution_count": 15,
   "metadata": {},
   "outputs": [
    {
     "data": {
      "text/html": [
       "<div>\n",
       "<style scoped>\n",
       "    .dataframe tbody tr th:only-of-type {\n",
       "        vertical-align: middle;\n",
       "    }\n",
       "\n",
       "    .dataframe tbody tr th {\n",
       "        vertical-align: top;\n",
       "    }\n",
       "\n",
       "    .dataframe thead th {\n",
       "        text-align: right;\n",
       "    }\n",
       "</style>\n",
       "<table border=\"1\" class=\"dataframe\">\n",
       "  <thead>\n",
       "    <tr style=\"text-align: right;\">\n",
       "      <th></th>\n",
       "      <th>Unnamed: 0</th>\n",
       "      <th>image_name</th>\n",
       "      <th>patient_id</th>\n",
       "      <th>sex</th>\n",
       "      <th>age_approx</th>\n",
       "      <th>anatom_site_general_challenge</th>\n",
       "      <th>diagnosis</th>\n",
       "      <th>benign_malignant</th>\n",
       "      <th>target</th>\n",
       "      <th>path</th>\n",
       "      <th>lesion_id</th>\n",
       "      <th>width</th>\n",
       "      <th>height</th>\n",
       "      <th>source</th>\n",
       "      <th>ext</th>\n",
       "      <th>tfrecord</th>\n",
       "    </tr>\n",
       "  </thead>\n",
       "  <tbody>\n",
       "    <tr>\n",
       "      <th>0</th>\n",
       "      <td>0</td>\n",
       "      <td>ISIC_2637011</td>\n",
       "      <td>IP_7279968</td>\n",
       "      <td>male</td>\n",
       "      <td>45.0</td>\n",
       "      <td>head/neck</td>\n",
       "      <td>unknown</td>\n",
       "      <td>benign</td>\n",
       "      <td>0</td>\n",
       "      <td>../data/ISIC_2020_Training_JPEG/ISIC_2637011.jpg</td>\n",
       "      <td>NaN</td>\n",
       "      <td>NaN</td>\n",
       "      <td>NaN</td>\n",
       "      <td>NaN</td>\n",
       "      <td>NaN</td>\n",
       "      <td>NaN</td>\n",
       "    </tr>\n",
       "    <tr>\n",
       "      <th>1</th>\n",
       "      <td>1</td>\n",
       "      <td>ISIC_0015719</td>\n",
       "      <td>IP_3075186</td>\n",
       "      <td>female</td>\n",
       "      <td>45.0</td>\n",
       "      <td>upper extremity</td>\n",
       "      <td>unknown</td>\n",
       "      <td>benign</td>\n",
       "      <td>0</td>\n",
       "      <td>../data/ISIC_2020_Training_JPEG/ISIC_0015719.jpg</td>\n",
       "      <td>NaN</td>\n",
       "      <td>NaN</td>\n",
       "      <td>NaN</td>\n",
       "      <td>NaN</td>\n",
       "      <td>NaN</td>\n",
       "      <td>NaN</td>\n",
       "    </tr>\n",
       "    <tr>\n",
       "      <th>2</th>\n",
       "      <td>2</td>\n",
       "      <td>ISIC_0052212</td>\n",
       "      <td>IP_2842074</td>\n",
       "      <td>female</td>\n",
       "      <td>50.0</td>\n",
       "      <td>lower extremity</td>\n",
       "      <td>nevus</td>\n",
       "      <td>benign</td>\n",
       "      <td>0</td>\n",
       "      <td>../data/ISIC_2020_Training_JPEG/ISIC_0052212.jpg</td>\n",
       "      <td>NaN</td>\n",
       "      <td>NaN</td>\n",
       "      <td>NaN</td>\n",
       "      <td>NaN</td>\n",
       "      <td>NaN</td>\n",
       "      <td>NaN</td>\n",
       "    </tr>\n",
       "    <tr>\n",
       "      <th>3</th>\n",
       "      <td>3</td>\n",
       "      <td>ISIC_0068279</td>\n",
       "      <td>IP_6890425</td>\n",
       "      <td>female</td>\n",
       "      <td>45.0</td>\n",
       "      <td>head/neck</td>\n",
       "      <td>unknown</td>\n",
       "      <td>benign</td>\n",
       "      <td>0</td>\n",
       "      <td>../data/ISIC_2020_Training_JPEG/ISIC_0068279.jpg</td>\n",
       "      <td>NaN</td>\n",
       "      <td>NaN</td>\n",
       "      <td>NaN</td>\n",
       "      <td>NaN</td>\n",
       "      <td>NaN</td>\n",
       "      <td>NaN</td>\n",
       "    </tr>\n",
       "    <tr>\n",
       "      <th>4</th>\n",
       "      <td>4</td>\n",
       "      <td>ISIC_0074268</td>\n",
       "      <td>IP_8723313</td>\n",
       "      <td>female</td>\n",
       "      <td>55.0</td>\n",
       "      <td>upper extremity</td>\n",
       "      <td>unknown</td>\n",
       "      <td>benign</td>\n",
       "      <td>0</td>\n",
       "      <td>../data/ISIC_2020_Training_JPEG/ISIC_0074268.jpg</td>\n",
       "      <td>NaN</td>\n",
       "      <td>NaN</td>\n",
       "      <td>NaN</td>\n",
       "      <td>NaN</td>\n",
       "      <td>NaN</td>\n",
       "      <td>NaN</td>\n",
       "    </tr>\n",
       "    <tr>\n",
       "      <th>...</th>\n",
       "      <td>...</td>\n",
       "      <td>...</td>\n",
       "      <td>...</td>\n",
       "      <td>...</td>\n",
       "      <td>...</td>\n",
       "      <td>...</td>\n",
       "      <td>...</td>\n",
       "      <td>...</td>\n",
       "      <td>...</td>\n",
       "      <td>...</td>\n",
       "      <td>...</td>\n",
       "      <td>...</td>\n",
       "      <td>...</td>\n",
       "      <td>...</td>\n",
       "      <td>...</td>\n",
       "      <td>...</td>\n",
       "    </tr>\n",
       "    <tr>\n",
       "      <th>58779</th>\n",
       "      <td>58779</td>\n",
       "      <td>ISIC_0024302</td>\n",
       "      <td>-1</td>\n",
       "      <td>female</td>\n",
       "      <td>25.0</td>\n",
       "      <td>NaN</td>\n",
       "      <td>melanoma</td>\n",
       "      <td>malignant</td>\n",
       "      <td>1</td>\n",
       "      <td>../data/Additional_malignant/ISIC_0024302.jpg</td>\n",
       "      <td>NaN</td>\n",
       "      <td>3008.0</td>\n",
       "      <td>2000.0</td>\n",
       "      <td>2018 JID Editorial Images</td>\n",
       "      <td>jpg</td>\n",
       "      <td>29.0</td>\n",
       "    </tr>\n",
       "    <tr>\n",
       "      <th>58780</th>\n",
       "      <td>58780</td>\n",
       "      <td>ISIC_0024303</td>\n",
       "      <td>-1</td>\n",
       "      <td>male</td>\n",
       "      <td>60.0</td>\n",
       "      <td>NaN</td>\n",
       "      <td>squamous cell carcinoma</td>\n",
       "      <td>malignant</td>\n",
       "      <td>1</td>\n",
       "      <td>../data/Additional_malignant/ISIC_0024303.jpg</td>\n",
       "      <td>NaN</td>\n",
       "      <td>3008.0</td>\n",
       "      <td>2000.0</td>\n",
       "      <td>2018 JID Editorial Images</td>\n",
       "      <td>jpg</td>\n",
       "      <td>29.0</td>\n",
       "    </tr>\n",
       "    <tr>\n",
       "      <th>58781</th>\n",
       "      <td>58781</td>\n",
       "      <td>ISIC_0024304</td>\n",
       "      <td>-1</td>\n",
       "      <td>male</td>\n",
       "      <td>70.0</td>\n",
       "      <td>NaN</td>\n",
       "      <td>squamous cell carcinoma</td>\n",
       "      <td>malignant</td>\n",
       "      <td>1</td>\n",
       "      <td>../data/Additional_malignant/ISIC_0024304.jpg</td>\n",
       "      <td>NaN</td>\n",
       "      <td>3008.0</td>\n",
       "      <td>2000.0</td>\n",
       "      <td>2018 JID Editorial Images</td>\n",
       "      <td>jpg</td>\n",
       "      <td>29.0</td>\n",
       "    </tr>\n",
       "    <tr>\n",
       "      <th>58782</th>\n",
       "      <td>58782</td>\n",
       "      <td>ISIC_0024305</td>\n",
       "      <td>-1</td>\n",
       "      <td>male</td>\n",
       "      <td>85.0</td>\n",
       "      <td>NaN</td>\n",
       "      <td>squamous cell carcinoma</td>\n",
       "      <td>malignant</td>\n",
       "      <td>1</td>\n",
       "      <td>../data/Additional_malignant/ISIC_0024305.jpg</td>\n",
       "      <td>NaN</td>\n",
       "      <td>4288.0</td>\n",
       "      <td>2848.0</td>\n",
       "      <td>2018 JID Editorial Images</td>\n",
       "      <td>jpg</td>\n",
       "      <td>29.0</td>\n",
       "    </tr>\n",
       "    <tr>\n",
       "      <th>58783</th>\n",
       "      <td>58783</td>\n",
       "      <td>ISIC_0036065</td>\n",
       "      <td>-1</td>\n",
       "      <td>male</td>\n",
       "      <td>80.0</td>\n",
       "      <td>NaN</td>\n",
       "      <td>melanoma</td>\n",
       "      <td>malignant</td>\n",
       "      <td>1</td>\n",
       "      <td>../data/Additional_malignant/ISIC_0036065.jpg</td>\n",
       "      <td>NaN</td>\n",
       "      <td>2880.0</td>\n",
       "      <td>1800.0</td>\n",
       "      <td>2018 JID Editorial Images</td>\n",
       "      <td>png</td>\n",
       "      <td>29.0</td>\n",
       "    </tr>\n",
       "  </tbody>\n",
       "</table>\n",
       "<p>58784 rows × 16 columns</p>\n",
       "</div>"
      ],
      "text/plain": [
       "       Unnamed: 0    image_name  patient_id     sex  age_approx  \\\n",
       "0               0  ISIC_2637011  IP_7279968    male        45.0   \n",
       "1               1  ISIC_0015719  IP_3075186  female        45.0   \n",
       "2               2  ISIC_0052212  IP_2842074  female        50.0   \n",
       "3               3  ISIC_0068279  IP_6890425  female        45.0   \n",
       "4               4  ISIC_0074268  IP_8723313  female        55.0   \n",
       "...           ...           ...         ...     ...         ...   \n",
       "58779       58779  ISIC_0024302          -1  female        25.0   \n",
       "58780       58780  ISIC_0024303          -1    male        60.0   \n",
       "58781       58781  ISIC_0024304          -1    male        70.0   \n",
       "58782       58782  ISIC_0024305          -1    male        85.0   \n",
       "58783       58783  ISIC_0036065          -1    male        80.0   \n",
       "\n",
       "      anatom_site_general_challenge                diagnosis benign_malignant  \\\n",
       "0                         head/neck                  unknown           benign   \n",
       "1                   upper extremity                  unknown           benign   \n",
       "2                   lower extremity                    nevus           benign   \n",
       "3                         head/neck                  unknown           benign   \n",
       "4                   upper extremity                  unknown           benign   \n",
       "...                             ...                      ...              ...   \n",
       "58779                           NaN                 melanoma        malignant   \n",
       "58780                           NaN  squamous cell carcinoma        malignant   \n",
       "58781                           NaN  squamous cell carcinoma        malignant   \n",
       "58782                           NaN  squamous cell carcinoma        malignant   \n",
       "58783                           NaN                 melanoma        malignant   \n",
       "\n",
       "       target                                              path lesion_id  \\\n",
       "0           0  ../data/ISIC_2020_Training_JPEG/ISIC_2637011.jpg       NaN   \n",
       "1           0  ../data/ISIC_2020_Training_JPEG/ISIC_0015719.jpg       NaN   \n",
       "2           0  ../data/ISIC_2020_Training_JPEG/ISIC_0052212.jpg       NaN   \n",
       "3           0  ../data/ISIC_2020_Training_JPEG/ISIC_0068279.jpg       NaN   \n",
       "4           0  ../data/ISIC_2020_Training_JPEG/ISIC_0074268.jpg       NaN   \n",
       "...       ...                                               ...       ...   \n",
       "58779       1     ../data/Additional_malignant/ISIC_0024302.jpg       NaN   \n",
       "58780       1     ../data/Additional_malignant/ISIC_0024303.jpg       NaN   \n",
       "58781       1     ../data/Additional_malignant/ISIC_0024304.jpg       NaN   \n",
       "58782       1     ../data/Additional_malignant/ISIC_0024305.jpg       NaN   \n",
       "58783       1     ../data/Additional_malignant/ISIC_0036065.jpg       NaN   \n",
       "\n",
       "        width  height                     source  ext  tfrecord  \n",
       "0         NaN     NaN                        NaN  NaN       NaN  \n",
       "1         NaN     NaN                        NaN  NaN       NaN  \n",
       "2         NaN     NaN                        NaN  NaN       NaN  \n",
       "3         NaN     NaN                        NaN  NaN       NaN  \n",
       "4         NaN     NaN                        NaN  NaN       NaN  \n",
       "...       ...     ...                        ...  ...       ...  \n",
       "58779  3008.0  2000.0  2018 JID Editorial Images  jpg      29.0  \n",
       "58780  3008.0  2000.0  2018 JID Editorial Images  jpg      29.0  \n",
       "58781  3008.0  2000.0  2018 JID Editorial Images  jpg      29.0  \n",
       "58782  4288.0  2848.0  2018 JID Editorial Images  jpg      29.0  \n",
       "58783  2880.0  1800.0  2018 JID Editorial Images  png      29.0  \n",
       "\n",
       "[58784 rows x 16 columns]"
      ]
     },
     "execution_count": 15,
     "metadata": {},
     "output_type": "execute_result"
    }
   ],
   "source": [
    "# Reading in the final dataset from Data_Exploration.ipynb\n",
    "df = pd.read_csv('../data/ISIC_FINAL_DATASET.csv')\n",
    "df"
   ]
  },
  {
   "cell_type": "code",
   "execution_count": 16,
   "metadata": {},
   "outputs": [],
   "source": [
    "# Define X and y \n",
    "X = df[['image_name', 'path', 'sex', 'age_approx', 'anatom_site_general_challenge']]\n",
    "y = df['benign_malignant']"
   ]
  },
  {
   "cell_type": "code",
   "execution_count": 17,
   "metadata": {},
   "outputs": [
    {
     "data": {
      "text/html": [
       "<div>\n",
       "<style scoped>\n",
       "    .dataframe tbody tr th:only-of-type {\n",
       "        vertical-align: middle;\n",
       "    }\n",
       "\n",
       "    .dataframe tbody tr th {\n",
       "        vertical-align: top;\n",
       "    }\n",
       "\n",
       "    .dataframe thead th {\n",
       "        text-align: right;\n",
       "    }\n",
       "</style>\n",
       "<table border=\"1\" class=\"dataframe\">\n",
       "  <thead>\n",
       "    <tr style=\"text-align: right;\">\n",
       "      <th></th>\n",
       "      <th>image_name</th>\n",
       "      <th>path</th>\n",
       "      <th>sex</th>\n",
       "      <th>age_approx</th>\n",
       "      <th>anatom_site_general_challenge</th>\n",
       "    </tr>\n",
       "  </thead>\n",
       "  <tbody>\n",
       "    <tr>\n",
       "      <th>0</th>\n",
       "      <td>ISIC_2637011</td>\n",
       "      <td>../data/ISIC_2020_Training_JPEG/ISIC_2637011.jpg</td>\n",
       "      <td>male</td>\n",
       "      <td>45.0</td>\n",
       "      <td>head/neck</td>\n",
       "    </tr>\n",
       "    <tr>\n",
       "      <th>1</th>\n",
       "      <td>ISIC_0015719</td>\n",
       "      <td>../data/ISIC_2020_Training_JPEG/ISIC_0015719.jpg</td>\n",
       "      <td>female</td>\n",
       "      <td>45.0</td>\n",
       "      <td>upper extremity</td>\n",
       "    </tr>\n",
       "    <tr>\n",
       "      <th>2</th>\n",
       "      <td>ISIC_0052212</td>\n",
       "      <td>../data/ISIC_2020_Training_JPEG/ISIC_0052212.jpg</td>\n",
       "      <td>female</td>\n",
       "      <td>50.0</td>\n",
       "      <td>lower extremity</td>\n",
       "    </tr>\n",
       "    <tr>\n",
       "      <th>3</th>\n",
       "      <td>ISIC_0068279</td>\n",
       "      <td>../data/ISIC_2020_Training_JPEG/ISIC_0068279.jpg</td>\n",
       "      <td>female</td>\n",
       "      <td>45.0</td>\n",
       "      <td>head/neck</td>\n",
       "    </tr>\n",
       "    <tr>\n",
       "      <th>4</th>\n",
       "      <td>ISIC_0074268</td>\n",
       "      <td>../data/ISIC_2020_Training_JPEG/ISIC_0074268.jpg</td>\n",
       "      <td>female</td>\n",
       "      <td>55.0</td>\n",
       "      <td>upper extremity</td>\n",
       "    </tr>\n",
       "    <tr>\n",
       "      <th>...</th>\n",
       "      <td>...</td>\n",
       "      <td>...</td>\n",
       "      <td>...</td>\n",
       "      <td>...</td>\n",
       "      <td>...</td>\n",
       "    </tr>\n",
       "    <tr>\n",
       "      <th>58779</th>\n",
       "      <td>ISIC_0024302</td>\n",
       "      <td>../data/Additional_malignant/ISIC_0024302.jpg</td>\n",
       "      <td>female</td>\n",
       "      <td>25.0</td>\n",
       "      <td>NaN</td>\n",
       "    </tr>\n",
       "    <tr>\n",
       "      <th>58780</th>\n",
       "      <td>ISIC_0024303</td>\n",
       "      <td>../data/Additional_malignant/ISIC_0024303.jpg</td>\n",
       "      <td>male</td>\n",
       "      <td>60.0</td>\n",
       "      <td>NaN</td>\n",
       "    </tr>\n",
       "    <tr>\n",
       "      <th>58781</th>\n",
       "      <td>ISIC_0024304</td>\n",
       "      <td>../data/Additional_malignant/ISIC_0024304.jpg</td>\n",
       "      <td>male</td>\n",
       "      <td>70.0</td>\n",
       "      <td>NaN</td>\n",
       "    </tr>\n",
       "    <tr>\n",
       "      <th>58782</th>\n",
       "      <td>ISIC_0024305</td>\n",
       "      <td>../data/Additional_malignant/ISIC_0024305.jpg</td>\n",
       "      <td>male</td>\n",
       "      <td>85.0</td>\n",
       "      <td>NaN</td>\n",
       "    </tr>\n",
       "    <tr>\n",
       "      <th>58783</th>\n",
       "      <td>ISIC_0036065</td>\n",
       "      <td>../data/Additional_malignant/ISIC_0036065.jpg</td>\n",
       "      <td>male</td>\n",
       "      <td>80.0</td>\n",
       "      <td>NaN</td>\n",
       "    </tr>\n",
       "  </tbody>\n",
       "</table>\n",
       "<p>58784 rows × 5 columns</p>\n",
       "</div>"
      ],
      "text/plain": [
       "         image_name                                              path     sex  \\\n",
       "0      ISIC_2637011  ../data/ISIC_2020_Training_JPEG/ISIC_2637011.jpg    male   \n",
       "1      ISIC_0015719  ../data/ISIC_2020_Training_JPEG/ISIC_0015719.jpg  female   \n",
       "2      ISIC_0052212  ../data/ISIC_2020_Training_JPEG/ISIC_0052212.jpg  female   \n",
       "3      ISIC_0068279  ../data/ISIC_2020_Training_JPEG/ISIC_0068279.jpg  female   \n",
       "4      ISIC_0074268  ../data/ISIC_2020_Training_JPEG/ISIC_0074268.jpg  female   \n",
       "...             ...                                               ...     ...   \n",
       "58779  ISIC_0024302     ../data/Additional_malignant/ISIC_0024302.jpg  female   \n",
       "58780  ISIC_0024303     ../data/Additional_malignant/ISIC_0024303.jpg    male   \n",
       "58781  ISIC_0024304     ../data/Additional_malignant/ISIC_0024304.jpg    male   \n",
       "58782  ISIC_0024305     ../data/Additional_malignant/ISIC_0024305.jpg    male   \n",
       "58783  ISIC_0036065     ../data/Additional_malignant/ISIC_0036065.jpg    male   \n",
       "\n",
       "       age_approx anatom_site_general_challenge  \n",
       "0            45.0                     head/neck  \n",
       "1            45.0               upper extremity  \n",
       "2            50.0               lower extremity  \n",
       "3            45.0                     head/neck  \n",
       "4            55.0               upper extremity  \n",
       "...           ...                           ...  \n",
       "58779        25.0                           NaN  \n",
       "58780        60.0                           NaN  \n",
       "58781        70.0                           NaN  \n",
       "58782        85.0                           NaN  \n",
       "58783        80.0                           NaN  \n",
       "\n",
       "[58784 rows x 5 columns]"
      ]
     },
     "execution_count": 17,
     "metadata": {},
     "output_type": "execute_result"
    }
   ],
   "source": [
    "X"
   ]
  },
  {
   "cell_type": "code",
   "execution_count": 18,
   "metadata": {},
   "outputs": [],
   "source": [
    "# Train - Holdout Set Split\n",
    "X_train, X_hold, y_train, y_hold = train_test_split(X, y, test_size=0.1, random_state=42, stratify=y)"
   ]
  },
  {
   "cell_type": "code",
   "execution_count": 19,
   "metadata": {},
   "outputs": [],
   "source": [
    "# Regular Train - Test Split\n",
    "X_tr, X_te, y_tr, y_te = train_test_split(X_train, y_train, test_size=0.2, random_state=42, stratify=y_train)"
   ]
  },
  {
   "cell_type": "code",
   "execution_count": 20,
   "metadata": {},
   "outputs": [
    {
     "name": "stdout",
     "output_type": "stream",
     "text": [
      "Train dataset: \n",
      " benign       35386\n",
      "malignant     6938\n",
      "Name: benign_malignant, dtype: int64\n"
     ]
    },
    {
     "data": {
      "text/html": [
       "<div>\n",
       "<style scoped>\n",
       "    .dataframe tbody tr th:only-of-type {\n",
       "        vertical-align: middle;\n",
       "    }\n",
       "\n",
       "    .dataframe tbody tr th {\n",
       "        vertical-align: top;\n",
       "    }\n",
       "\n",
       "    .dataframe thead th {\n",
       "        text-align: right;\n",
       "    }\n",
       "</style>\n",
       "<table border=\"1\" class=\"dataframe\">\n",
       "  <thead>\n",
       "    <tr style=\"text-align: right;\">\n",
       "      <th></th>\n",
       "      <th>image_name</th>\n",
       "      <th>path</th>\n",
       "      <th>sex</th>\n",
       "      <th>age_approx</th>\n",
       "      <th>anatom_site_general_challenge</th>\n",
       "      <th>benign_malignant</th>\n",
       "    </tr>\n",
       "  </thead>\n",
       "  <tbody>\n",
       "    <tr>\n",
       "      <th>9434</th>\n",
       "      <td>ISIC_2925481</td>\n",
       "      <td>../data/ISIC_2020_Training_JPEG/ISIC_2925481.jpg</td>\n",
       "      <td>female</td>\n",
       "      <td>50.0</td>\n",
       "      <td>lower extremity</td>\n",
       "      <td>benign</td>\n",
       "    </tr>\n",
       "    <tr>\n",
       "      <th>22571</th>\n",
       "      <td>ISIC_6847618</td>\n",
       "      <td>../data/ISIC_2020_Training_JPEG/ISIC_6847618.jpg</td>\n",
       "      <td>female</td>\n",
       "      <td>50.0</td>\n",
       "      <td>torso</td>\n",
       "      <td>benign</td>\n",
       "    </tr>\n",
       "    <tr>\n",
       "      <th>20461</th>\n",
       "      <td>ISIC_6225557</td>\n",
       "      <td>../data/ISIC_2020_Training_JPEG/ISIC_6225557.jpg</td>\n",
       "      <td>female</td>\n",
       "      <td>55.0</td>\n",
       "      <td>torso</td>\n",
       "      <td>benign</td>\n",
       "    </tr>\n",
       "    <tr>\n",
       "      <th>18738</th>\n",
       "      <td>ISIC_5689428</td>\n",
       "      <td>../data/ISIC_2020_Training_JPEG/ISIC_5689428.jpg</td>\n",
       "      <td>female</td>\n",
       "      <td>45.0</td>\n",
       "      <td>lower extremity</td>\n",
       "      <td>benign</td>\n",
       "    </tr>\n",
       "    <tr>\n",
       "      <th>26607</th>\n",
       "      <td>ISIC_8065339</td>\n",
       "      <td>../data/ISIC_2020_Training_JPEG/ISIC_8065339.jpg</td>\n",
       "      <td>female</td>\n",
       "      <td>50.0</td>\n",
       "      <td>torso</td>\n",
       "      <td>benign</td>\n",
       "    </tr>\n",
       "    <tr>\n",
       "      <th>...</th>\n",
       "      <td>...</td>\n",
       "      <td>...</td>\n",
       "      <td>...</td>\n",
       "      <td>...</td>\n",
       "      <td>...</td>\n",
       "      <td>...</td>\n",
       "    </tr>\n",
       "    <tr>\n",
       "      <th>34</th>\n",
       "      <td>ISIC_0086632</td>\n",
       "      <td>../data/ISIC_2020_Training_JPEG/ISIC_0086632.jpg</td>\n",
       "      <td>male</td>\n",
       "      <td>40.0</td>\n",
       "      <td>torso</td>\n",
       "      <td>benign</td>\n",
       "    </tr>\n",
       "    <tr>\n",
       "      <th>49365</th>\n",
       "      <td>ISIC_0059066</td>\n",
       "      <td>../data/ISIC_2019_Training_Input/ISIC_0059066.jpg</td>\n",
       "      <td>male</td>\n",
       "      <td>55.0</td>\n",
       "      <td>anterior torso</td>\n",
       "      <td>malignant</td>\n",
       "    </tr>\n",
       "    <tr>\n",
       "      <th>27016</th>\n",
       "      <td>ISIC_8185167</td>\n",
       "      <td>../data/ISIC_2020_Training_JPEG/ISIC_8185167.jpg</td>\n",
       "      <td>female</td>\n",
       "      <td>65.0</td>\n",
       "      <td>palms/soles</td>\n",
       "      <td>benign</td>\n",
       "    </tr>\n",
       "    <tr>\n",
       "      <th>45712</th>\n",
       "      <td>ISIC_0034129</td>\n",
       "      <td>../data/ISIC_2019_Training_Input/ISIC_0034129.jpg</td>\n",
       "      <td>male</td>\n",
       "      <td>60.0</td>\n",
       "      <td>NaN</td>\n",
       "      <td>benign</td>\n",
       "    </tr>\n",
       "    <tr>\n",
       "      <th>53574</th>\n",
       "      <td>ISIC_0065854</td>\n",
       "      <td>../data/ISIC_2019_Training_Input/ISIC_0065854.jpg</td>\n",
       "      <td>female</td>\n",
       "      <td>20.0</td>\n",
       "      <td>anterior torso</td>\n",
       "      <td>benign</td>\n",
       "    </tr>\n",
       "  </tbody>\n",
       "</table>\n",
       "<p>42324 rows × 6 columns</p>\n",
       "</div>"
      ],
      "text/plain": [
       "         image_name                                               path  \\\n",
       "9434   ISIC_2925481   ../data/ISIC_2020_Training_JPEG/ISIC_2925481.jpg   \n",
       "22571  ISIC_6847618   ../data/ISIC_2020_Training_JPEG/ISIC_6847618.jpg   \n",
       "20461  ISIC_6225557   ../data/ISIC_2020_Training_JPEG/ISIC_6225557.jpg   \n",
       "18738  ISIC_5689428   ../data/ISIC_2020_Training_JPEG/ISIC_5689428.jpg   \n",
       "26607  ISIC_8065339   ../data/ISIC_2020_Training_JPEG/ISIC_8065339.jpg   \n",
       "...             ...                                                ...   \n",
       "34     ISIC_0086632   ../data/ISIC_2020_Training_JPEG/ISIC_0086632.jpg   \n",
       "49365  ISIC_0059066  ../data/ISIC_2019_Training_Input/ISIC_0059066.jpg   \n",
       "27016  ISIC_8185167   ../data/ISIC_2020_Training_JPEG/ISIC_8185167.jpg   \n",
       "45712  ISIC_0034129  ../data/ISIC_2019_Training_Input/ISIC_0034129.jpg   \n",
       "53574  ISIC_0065854  ../data/ISIC_2019_Training_Input/ISIC_0065854.jpg   \n",
       "\n",
       "          sex  age_approx anatom_site_general_challenge benign_malignant  \n",
       "9434   female        50.0               lower extremity           benign  \n",
       "22571  female        50.0                         torso           benign  \n",
       "20461  female        55.0                         torso           benign  \n",
       "18738  female        45.0               lower extremity           benign  \n",
       "26607  female        50.0                         torso           benign  \n",
       "...       ...         ...                           ...              ...  \n",
       "34       male        40.0                         torso           benign  \n",
       "49365    male        55.0                anterior torso        malignant  \n",
       "27016  female        65.0                   palms/soles           benign  \n",
       "45712    male        60.0                           NaN           benign  \n",
       "53574  female        20.0                anterior torso           benign  \n",
       "\n",
       "[42324 rows x 6 columns]"
      ]
     },
     "execution_count": 20,
     "metadata": {},
     "output_type": "execute_result"
    }
   ],
   "source": [
    "# Train dataframe\n",
    "df_tr = pd.concat([X_tr, y_tr], axis=1)\n",
    "print(f'Train dataset: \\n {df_tr.benign_malignant.value_counts()}')\n",
    "df_tr"
   ]
  },
  {
   "cell_type": "code",
   "execution_count": 21,
   "metadata": {},
   "outputs": [
    {
     "name": "stdout",
     "output_type": "stream",
     "text": [
      "Test dataset: \n",
      " benign       8846\n",
      "malignant    1735\n",
      "Name: benign_malignant, dtype: int64\n"
     ]
    },
    {
     "data": {
      "text/html": [
       "<div>\n",
       "<style scoped>\n",
       "    .dataframe tbody tr th:only-of-type {\n",
       "        vertical-align: middle;\n",
       "    }\n",
       "\n",
       "    .dataframe tbody tr th {\n",
       "        vertical-align: top;\n",
       "    }\n",
       "\n",
       "    .dataframe thead th {\n",
       "        text-align: right;\n",
       "    }\n",
       "</style>\n",
       "<table border=\"1\" class=\"dataframe\">\n",
       "  <thead>\n",
       "    <tr style=\"text-align: right;\">\n",
       "      <th></th>\n",
       "      <th>image_name</th>\n",
       "      <th>path</th>\n",
       "      <th>sex</th>\n",
       "      <th>age_approx</th>\n",
       "      <th>anatom_site_general_challenge</th>\n",
       "      <th>benign_malignant</th>\n",
       "    </tr>\n",
       "  </thead>\n",
       "  <tbody>\n",
       "    <tr>\n",
       "      <th>3750</th>\n",
       "      <td>ISIC_1233016</td>\n",
       "      <td>../data/ISIC_2020_Training_JPEG/ISIC_1233016.jpg</td>\n",
       "      <td>female</td>\n",
       "      <td>45.0</td>\n",
       "      <td>torso</td>\n",
       "      <td>benign</td>\n",
       "    </tr>\n",
       "    <tr>\n",
       "      <th>48547</th>\n",
       "      <td>ISIC_0057785</td>\n",
       "      <td>../data/ISIC_2019_Training_Input/ISIC_0057785.jpg</td>\n",
       "      <td>male</td>\n",
       "      <td>75.0</td>\n",
       "      <td>upper extremity</td>\n",
       "      <td>benign</td>\n",
       "    </tr>\n",
       "    <tr>\n",
       "      <th>10510</th>\n",
       "      <td>ISIC_3249783</td>\n",
       "      <td>../data/ISIC_2020_Training_JPEG/ISIC_3249783.jpg</td>\n",
       "      <td>male</td>\n",
       "      <td>35.0</td>\n",
       "      <td>upper extremity</td>\n",
       "      <td>benign</td>\n",
       "    </tr>\n",
       "    <tr>\n",
       "      <th>11115</th>\n",
       "      <td>ISIC_3427677</td>\n",
       "      <td>../data/ISIC_2020_Training_JPEG/ISIC_3427677.jpg</td>\n",
       "      <td>female</td>\n",
       "      <td>45.0</td>\n",
       "      <td>upper extremity</td>\n",
       "      <td>benign</td>\n",
       "    </tr>\n",
       "    <tr>\n",
       "      <th>29627</th>\n",
       "      <td>ISIC_8962773</td>\n",
       "      <td>../data/ISIC_2020_Training_JPEG/ISIC_8962773.jpg</td>\n",
       "      <td>male</td>\n",
       "      <td>50.0</td>\n",
       "      <td>upper extremity</td>\n",
       "      <td>benign</td>\n",
       "    </tr>\n",
       "    <tr>\n",
       "      <th>...</th>\n",
       "      <td>...</td>\n",
       "      <td>...</td>\n",
       "      <td>...</td>\n",
       "      <td>...</td>\n",
       "      <td>...</td>\n",
       "      <td>...</td>\n",
       "    </tr>\n",
       "    <tr>\n",
       "      <th>16877</th>\n",
       "      <td>ISIC_5162699</td>\n",
       "      <td>../data/ISIC_2020_Training_JPEG/ISIC_5162699.jpg</td>\n",
       "      <td>female</td>\n",
       "      <td>50.0</td>\n",
       "      <td>torso</td>\n",
       "      <td>benign</td>\n",
       "    </tr>\n",
       "    <tr>\n",
       "      <th>12251</th>\n",
       "      <td>ISIC_3768804</td>\n",
       "      <td>../data/ISIC_2020_Training_JPEG/ISIC_3768804.jpg</td>\n",
       "      <td>female</td>\n",
       "      <td>45.0</td>\n",
       "      <td>lower extremity</td>\n",
       "      <td>benign</td>\n",
       "    </tr>\n",
       "    <tr>\n",
       "      <th>43136</th>\n",
       "      <td>ISIC_0031507</td>\n",
       "      <td>../data/ISIC_2019_Training_Input/ISIC_0031507.jpg</td>\n",
       "      <td>male</td>\n",
       "      <td>65.0</td>\n",
       "      <td>NaN</td>\n",
       "      <td>benign</td>\n",
       "    </tr>\n",
       "    <tr>\n",
       "      <th>15427</th>\n",
       "      <td>ISIC_4722884</td>\n",
       "      <td>../data/ISIC_2020_Training_JPEG/ISIC_4722884.jpg</td>\n",
       "      <td>male</td>\n",
       "      <td>55.0</td>\n",
       "      <td>torso</td>\n",
       "      <td>benign</td>\n",
       "    </tr>\n",
       "    <tr>\n",
       "      <th>23853</th>\n",
       "      <td>ISIC_7242339</td>\n",
       "      <td>../data/ISIC_2020_Training_JPEG/ISIC_7242339.jpg</td>\n",
       "      <td>male</td>\n",
       "      <td>40.0</td>\n",
       "      <td>upper extremity</td>\n",
       "      <td>benign</td>\n",
       "    </tr>\n",
       "  </tbody>\n",
       "</table>\n",
       "<p>10581 rows × 6 columns</p>\n",
       "</div>"
      ],
      "text/plain": [
       "         image_name                                               path  \\\n",
       "3750   ISIC_1233016   ../data/ISIC_2020_Training_JPEG/ISIC_1233016.jpg   \n",
       "48547  ISIC_0057785  ../data/ISIC_2019_Training_Input/ISIC_0057785.jpg   \n",
       "10510  ISIC_3249783   ../data/ISIC_2020_Training_JPEG/ISIC_3249783.jpg   \n",
       "11115  ISIC_3427677   ../data/ISIC_2020_Training_JPEG/ISIC_3427677.jpg   \n",
       "29627  ISIC_8962773   ../data/ISIC_2020_Training_JPEG/ISIC_8962773.jpg   \n",
       "...             ...                                                ...   \n",
       "16877  ISIC_5162699   ../data/ISIC_2020_Training_JPEG/ISIC_5162699.jpg   \n",
       "12251  ISIC_3768804   ../data/ISIC_2020_Training_JPEG/ISIC_3768804.jpg   \n",
       "43136  ISIC_0031507  ../data/ISIC_2019_Training_Input/ISIC_0031507.jpg   \n",
       "15427  ISIC_4722884   ../data/ISIC_2020_Training_JPEG/ISIC_4722884.jpg   \n",
       "23853  ISIC_7242339   ../data/ISIC_2020_Training_JPEG/ISIC_7242339.jpg   \n",
       "\n",
       "          sex  age_approx anatom_site_general_challenge benign_malignant  \n",
       "3750   female        45.0                         torso           benign  \n",
       "48547    male        75.0               upper extremity           benign  \n",
       "10510    male        35.0               upper extremity           benign  \n",
       "11115  female        45.0               upper extremity           benign  \n",
       "29627    male        50.0               upper extremity           benign  \n",
       "...       ...         ...                           ...              ...  \n",
       "16877  female        50.0                         torso           benign  \n",
       "12251  female        45.0               lower extremity           benign  \n",
       "43136    male        65.0                           NaN           benign  \n",
       "15427    male        55.0                         torso           benign  \n",
       "23853    male        40.0               upper extremity           benign  \n",
       "\n",
       "[10581 rows x 6 columns]"
      ]
     },
     "execution_count": 21,
     "metadata": {},
     "output_type": "execute_result"
    }
   ],
   "source": [
    "# Test dataframe\n",
    "df_te = pd.concat([X_te, y_te], axis=1)\n",
    "print(f'Test dataset: \\n {df_te.benign_malignant.value_counts()}')\n",
    "df_te"
   ]
  },
  {
   "cell_type": "code",
   "execution_count": 22,
   "metadata": {},
   "outputs": [
    {
     "name": "stdout",
     "output_type": "stream",
     "text": [
      "Hold-out dataset: \n",
      " benign       4915\n",
      "malignant     964\n",
      "Name: benign_malignant, dtype: int64\n"
     ]
    },
    {
     "data": {
      "text/html": [
       "<div>\n",
       "<style scoped>\n",
       "    .dataframe tbody tr th:only-of-type {\n",
       "        vertical-align: middle;\n",
       "    }\n",
       "\n",
       "    .dataframe tbody tr th {\n",
       "        vertical-align: top;\n",
       "    }\n",
       "\n",
       "    .dataframe thead th {\n",
       "        text-align: right;\n",
       "    }\n",
       "</style>\n",
       "<table border=\"1\" class=\"dataframe\">\n",
       "  <thead>\n",
       "    <tr style=\"text-align: right;\">\n",
       "      <th></th>\n",
       "      <th>image_name</th>\n",
       "      <th>path</th>\n",
       "      <th>sex</th>\n",
       "      <th>age_approx</th>\n",
       "      <th>anatom_site_general_challenge</th>\n",
       "      <th>benign_malignant</th>\n",
       "    </tr>\n",
       "  </thead>\n",
       "  <tbody>\n",
       "    <tr>\n",
       "      <th>4856</th>\n",
       "      <td>ISIC_1560455</td>\n",
       "      <td>../data/ISIC_2020_Training_JPEG/ISIC_1560455.jpg</td>\n",
       "      <td>female</td>\n",
       "      <td>50.0</td>\n",
       "      <td>lower extremity</td>\n",
       "      <td>benign</td>\n",
       "    </tr>\n",
       "    <tr>\n",
       "      <th>26256</th>\n",
       "      <td>ISIC_7969673</td>\n",
       "      <td>../data/ISIC_2020_Training_JPEG/ISIC_7969673.jpg</td>\n",
       "      <td>female</td>\n",
       "      <td>45.0</td>\n",
       "      <td>lower extremity</td>\n",
       "      <td>benign</td>\n",
       "    </tr>\n",
       "    <tr>\n",
       "      <th>7187</th>\n",
       "      <td>ISIC_2248231</td>\n",
       "      <td>../data/ISIC_2020_Training_JPEG/ISIC_2248231.jpg</td>\n",
       "      <td>male</td>\n",
       "      <td>55.0</td>\n",
       "      <td>torso</td>\n",
       "      <td>benign</td>\n",
       "    </tr>\n",
       "    <tr>\n",
       "      <th>54145</th>\n",
       "      <td>ISIC_0066776</td>\n",
       "      <td>../data/ISIC_2019_Training_Input/ISIC_0066776.jpg</td>\n",
       "      <td>female</td>\n",
       "      <td>85.0</td>\n",
       "      <td>lower extremity</td>\n",
       "      <td>malignant</td>\n",
       "    </tr>\n",
       "    <tr>\n",
       "      <th>10518</th>\n",
       "      <td>ISIC_3251421</td>\n",
       "      <td>../data/ISIC_2020_Training_JPEG/ISIC_3251421.jpg</td>\n",
       "      <td>male</td>\n",
       "      <td>55.0</td>\n",
       "      <td>upper extremity</td>\n",
       "      <td>benign</td>\n",
       "    </tr>\n",
       "    <tr>\n",
       "      <th>...</th>\n",
       "      <td>...</td>\n",
       "      <td>...</td>\n",
       "      <td>...</td>\n",
       "      <td>...</td>\n",
       "      <td>...</td>\n",
       "      <td>...</td>\n",
       "    </tr>\n",
       "    <tr>\n",
       "      <th>50860</th>\n",
       "      <td>ISIC_0061478</td>\n",
       "      <td>../data/ISIC_2019_Training_Input/ISIC_0061478.jpg</td>\n",
       "      <td>female</td>\n",
       "      <td>10.0</td>\n",
       "      <td>lower extremity</td>\n",
       "      <td>benign</td>\n",
       "    </tr>\n",
       "    <tr>\n",
       "      <th>47994</th>\n",
       "      <td>ISIC_0056875</td>\n",
       "      <td>../data/ISIC_2019_Training_Input/ISIC_0056875.jpg</td>\n",
       "      <td>male</td>\n",
       "      <td>75.0</td>\n",
       "      <td>head/neck</td>\n",
       "      <td>malignant</td>\n",
       "    </tr>\n",
       "    <tr>\n",
       "      <th>21759</th>\n",
       "      <td>ISIC_6588881</td>\n",
       "      <td>../data/ISIC_2020_Training_JPEG/ISIC_6588881.jpg</td>\n",
       "      <td>male</td>\n",
       "      <td>55.0</td>\n",
       "      <td>torso</td>\n",
       "      <td>benign</td>\n",
       "    </tr>\n",
       "    <tr>\n",
       "      <th>30088</th>\n",
       "      <td>ISIC_9091415</td>\n",
       "      <td>../data/ISIC_2020_Training_JPEG/ISIC_9091415.jpg</td>\n",
       "      <td>male</td>\n",
       "      <td>60.0</td>\n",
       "      <td>lower extremity</td>\n",
       "      <td>benign</td>\n",
       "    </tr>\n",
       "    <tr>\n",
       "      <th>12230</th>\n",
       "      <td>ISIC_3763008</td>\n",
       "      <td>../data/ISIC_2020_Training_JPEG/ISIC_3763008.jpg</td>\n",
       "      <td>male</td>\n",
       "      <td>30.0</td>\n",
       "      <td>lower extremity</td>\n",
       "      <td>benign</td>\n",
       "    </tr>\n",
       "  </tbody>\n",
       "</table>\n",
       "<p>5879 rows × 6 columns</p>\n",
       "</div>"
      ],
      "text/plain": [
       "         image_name                                               path  \\\n",
       "4856   ISIC_1560455   ../data/ISIC_2020_Training_JPEG/ISIC_1560455.jpg   \n",
       "26256  ISIC_7969673   ../data/ISIC_2020_Training_JPEG/ISIC_7969673.jpg   \n",
       "7187   ISIC_2248231   ../data/ISIC_2020_Training_JPEG/ISIC_2248231.jpg   \n",
       "54145  ISIC_0066776  ../data/ISIC_2019_Training_Input/ISIC_0066776.jpg   \n",
       "10518  ISIC_3251421   ../data/ISIC_2020_Training_JPEG/ISIC_3251421.jpg   \n",
       "...             ...                                                ...   \n",
       "50860  ISIC_0061478  ../data/ISIC_2019_Training_Input/ISIC_0061478.jpg   \n",
       "47994  ISIC_0056875  ../data/ISIC_2019_Training_Input/ISIC_0056875.jpg   \n",
       "21759  ISIC_6588881   ../data/ISIC_2020_Training_JPEG/ISIC_6588881.jpg   \n",
       "30088  ISIC_9091415   ../data/ISIC_2020_Training_JPEG/ISIC_9091415.jpg   \n",
       "12230  ISIC_3763008   ../data/ISIC_2020_Training_JPEG/ISIC_3763008.jpg   \n",
       "\n",
       "          sex  age_approx anatom_site_general_challenge benign_malignant  \n",
       "4856   female        50.0               lower extremity           benign  \n",
       "26256  female        45.0               lower extremity           benign  \n",
       "7187     male        55.0                         torso           benign  \n",
       "54145  female        85.0               lower extremity        malignant  \n",
       "10518    male        55.0               upper extremity           benign  \n",
       "...       ...         ...                           ...              ...  \n",
       "50860  female        10.0               lower extremity           benign  \n",
       "47994    male        75.0                     head/neck        malignant  \n",
       "21759    male        55.0                         torso           benign  \n",
       "30088    male        60.0               lower extremity           benign  \n",
       "12230    male        30.0               lower extremity           benign  \n",
       "\n",
       "[5879 rows x 6 columns]"
      ]
     },
     "execution_count": 22,
     "metadata": {},
     "output_type": "execute_result"
    }
   ],
   "source": [
    "# Hold-out dataframe:\n",
    "df_hold = pd.concat([X_hold, y_hold], axis=1)\n",
    "print(f'Hold-out dataset: \\n {df_hold.benign_malignant.value_counts()}')\n",
    "df_hold"
   ]
  },
  {
   "cell_type": "markdown",
   "metadata": {},
   "source": [
    "## Step 1: Baseline Model "
   ]
  },
  {
   "cell_type": "code",
   "execution_count": 11,
   "metadata": {},
   "outputs": [
    {
     "name": "stdout",
     "output_type": "stream",
     "text": [
      "Found 42324 validated image filenames belonging to 2 classes.\n",
      "Found 10581 validated image filenames belonging to 2 classes.\n",
      "Found 5879 validated image filenames belonging to 2 classes.\n"
     ]
    }
   ],
   "source": [
    "# Instantiating a generator object and normalizing the RGB values, and creating the generator:\n",
    "\n",
    "# Creating the generator for the training data\n",
    "train_generator = ImageDataGenerator(rescale=1./255).flow_from_dataframe(df_tr,\n",
    "                                                                             x_col='path',\n",
    "                                                                             y_col='benign_malignant',\n",
    "                                                                             # Re-sizing images to 256x256\n",
    "                                                                             target_size=(256, 256),\n",
    "                                                                             batch_size= int(len(df_tr)/5))\n",
    "\n",
    "# Creating the generator for the testing data\n",
    "test_generator = ImageDataGenerator(rescale=1./255).flow_from_dataframe(df_te,\n",
    "                                                                             x_col='path',\n",
    "                                                                             y_col='benign_malignant',\n",
    "                                                                             # Re-sizing images to 256x256\n",
    "                                                                             target_size=(256, 256), \n",
    "                                                                             batch_size= int(len(df_te)/5))\n",
    "# Setting aside a hold-out set\n",
    "hold_generator =  ImageDataGenerator(rescale=1./255).flow_from_dataframe(df_hold,\n",
    "                                                                             x_col='path',\n",
    "                                                                             y_col='benign_malignant',\n",
    "                                                                             # Re-sizing images to 256x256\n",
    "                                                                             target_size=(256, 256),\n",
    "                                                                             batch_size= int(len(df_hold)/5))\n"
   ]
  },
  {
   "cell_type": "code",
   "execution_count": 12,
   "metadata": {},
   "outputs": [],
   "source": [
    "# This cell took ~20 min to run!\n",
    "# create the data sets\n",
    "train_images, train_labels = next(train_generator)\n",
    "test_images, test_labels = next(test_generator)\n",
    "hold_images, hold_labels = next(hold_generator)"
   ]
  },
  {
   "cell_type": "code",
   "execution_count": 13,
   "metadata": {},
   "outputs": [
    {
     "name": "stdout",
     "output_type": "stream",
     "text": [
      "Train data set classes, {'benign': 0, 'malignant': 1}\n",
      "Test data set classes, {'benign': 0, 'malignant': 1}\n",
      "Hold-out data set classes, {'benign': 0, 'malignant': 1}\n"
     ]
    }
   ],
   "source": [
    "# Check classes\n",
    "print(f\"Train data set classes, {train_generator.class_indices}\")\n",
    "print(f\"Test data set classes, {test_generator.class_indices}\")\n",
    "print(f\"Hold-out data set classes, {hold_generator.class_indices}\")"
   ]
  },
  {
   "cell_type": "code",
   "execution_count": 14,
   "metadata": {},
   "outputs": [
    {
     "name": "stdout",
     "output_type": "stream",
     "text": [
      "Number of training samples: 8464\n",
      "Number of testing samples: 2116\n",
      "Number of validation samples: 1175\n",
      "train_images shape: (8464, 256, 256, 3)\n",
      "train_labels shape: (8464, 2)\n",
      "test_images shape: (2116, 256, 256, 3)\n",
      "test_labels shape: (2116, 2)\n",
      "hold_images shape: (1175, 256, 256, 3)\n",
      "hold_labels shape: (1175, 2)\n"
     ]
    }
   ],
   "source": [
    "# Explore dataset again\n",
    "m_train = train_images.shape[0]\n",
    "m_test = test_images.shape[0]\n",
    "m_hold = hold_images.shape[0]\n",
    "\n",
    "print (\"Number of training samples: \" + str(m_train))\n",
    "print (\"Number of testing samples: \" + str(m_test))\n",
    "print (\"Number of validation samples: \" + str(m_hold))\n",
    "\n",
    "print (\"train_images shape: \" + str(train_images.shape))   # batch_size=int(len(df_tr)/5) --> 42324/5 = 8464\n",
    "print (\"train_labels shape: \" + str(train_labels.shape))\n",
    "\n",
    "print (\"test_images shape: \" + str(test_images.shape))\n",
    "print (\"test_labels shape: \" + str(test_labels.shape))\n",
    "\n",
    "print (\"hold_images shape: \" + str(hold_images.shape))\n",
    "print (\"hold_labels shape: \" + str(hold_labels.shape))"
   ]
  },
  {
   "cell_type": "code",
   "execution_count": 15,
   "metadata": {},
   "outputs": [
    {
     "name": "stdout",
     "output_type": "stream",
     "text": [
      "(8464, 196608)\n",
      "(2116, 196608)\n",
      "(1175, 196608)\n"
     ]
    }
   ],
   "source": [
    "train_img = train_images.reshape(train_images.shape[0], -1)\n",
    "test_img = test_images.reshape(test_images.shape[0], -1)\n",
    "hold_img = hold_images.reshape(hold_images.shape[0], -1)\n",
    "\n",
    "print(train_img.shape)\n",
    "print(test_img.shape)\n",
    "print(hold_img.shape)"
   ]
  },
  {
   "cell_type": "code",
   "execution_count": 16,
   "metadata": {},
   "outputs": [],
   "source": [
    "train_y = np.reshape(train_labels[:, 0], (8464, 1))\n",
    "test_y = np.reshape(test_labels[:, 0], (2116, 1))\n",
    "hold_y = np.reshape(hold_labels[:, 0], (1175, 1))"
   ]
  },
  {
   "cell_type": "code",
   "execution_count": 19,
   "metadata": {},
   "outputs": [],
   "source": [
    "# Fitting a Neural Network Model\n",
    "model = models.Sequential()\n",
    "\n",
    "# Adding layers\n",
    "model.add(layers.Dense(20, activation='relu', input_shape=(196608,))) # input layer\n",
    "model.add(layers.Dense(7, activation='relu')) # hidden layer\n",
    "model.add(layers.Dense(5, activation='relu')) # hidden layer\n",
    "model.add(layers.Dense(1, activation='sigmoid')) # output layer"
   ]
  },
  {
   "cell_type": "code",
   "execution_count": 20,
   "metadata": {
    "scrolled": true
   },
   "outputs": [
    {
     "name": "stdout",
     "output_type": "stream",
     "text": [
      "Epoch 1/50\n",
      "265/265 [==============================] - 7s 25ms/step - loss: 0.4186 - accuracy: 0.8318 - val_loss: 0.3576 - val_accuracy: 0.8511\n",
      "Epoch 2/50\n",
      "265/265 [==============================] - 6s 22ms/step - loss: 0.3850 - accuracy: 0.8375 - val_loss: 0.3377 - val_accuracy: 0.8563\n",
      "Epoch 3/50\n",
      "265/265 [==============================] - 6s 22ms/step - loss: 0.3758 - accuracy: 0.8358 - val_loss: 0.3326 - val_accuracy: 0.8615\n",
      "Epoch 4/50\n",
      "265/265 [==============================] - 6s 21ms/step - loss: 0.3683 - accuracy: 0.8367 - val_loss: 0.3313 - val_accuracy: 0.8639\n",
      "Epoch 5/50\n",
      "265/265 [==============================] - 6s 22ms/step - loss: 0.3642 - accuracy: 0.8367 - val_loss: 0.3410 - val_accuracy: 0.8639\n",
      "Epoch 6/50\n",
      "265/265 [==============================] - 6s 22ms/step - loss: 0.3626 - accuracy: 0.8379 - val_loss: 0.3372 - val_accuracy: 0.8582\n",
      "Epoch 7/50\n",
      "265/265 [==============================] - 6s 24ms/step - loss: 0.3567 - accuracy: 0.8361 - val_loss: 0.3334 - val_accuracy: 0.8686\n",
      "Epoch 8/50\n",
      "265/265 [==============================] - 7s 25ms/step - loss: 0.3575 - accuracy: 0.8368 - val_loss: 0.3303 - val_accuracy: 0.8606\n",
      "Epoch 9/50\n",
      "265/265 [==============================] - 7s 25ms/step - loss: 0.3515 - accuracy: 0.8372 - val_loss: 0.3218 - val_accuracy: 0.8625\n",
      "Epoch 10/50\n",
      "265/265 [==============================] - 7s 26ms/step - loss: 0.3484 - accuracy: 0.8419 - val_loss: 0.3299 - val_accuracy: 0.8715\n",
      "Epoch 11/50\n",
      "265/265 [==============================] - 7s 25ms/step - loss: 0.3488 - accuracy: 0.8368 - val_loss: 0.3218 - val_accuracy: 0.8578\n",
      "Epoch 12/50\n",
      "265/265 [==============================] - 6s 24ms/step - loss: 0.3470 - accuracy: 0.8407 - val_loss: 0.3192 - val_accuracy: 0.8639\n",
      "Epoch 13/50\n",
      "265/265 [==============================] - 7s 25ms/step - loss: 0.3465 - accuracy: 0.8405 - val_loss: 0.3242 - val_accuracy: 0.8563\n",
      "Epoch 14/50\n",
      "265/265 [==============================] - 7s 25ms/step - loss: 0.3460 - accuracy: 0.8417 - val_loss: 0.3267 - val_accuracy: 0.8705\n",
      "Epoch 15/50\n",
      "265/265 [==============================] - 7s 25ms/step - loss: 0.3416 - accuracy: 0.8469 - val_loss: 0.3182 - val_accuracy: 0.8639\n",
      "Epoch 16/50\n",
      "265/265 [==============================] - 7s 26ms/step - loss: 0.3418 - accuracy: 0.8409 - val_loss: 0.3647 - val_accuracy: 0.8568\n",
      "Epoch 17/50\n",
      "265/265 [==============================] - 6s 24ms/step - loss: 0.3405 - accuracy: 0.8411 - val_loss: 0.3157 - val_accuracy: 0.8686\n",
      "Epoch 18/50\n",
      "265/265 [==============================] - 6s 24ms/step - loss: 0.3415 - accuracy: 0.8417 - val_loss: 0.3176 - val_accuracy: 0.8705\n",
      "Epoch 19/50\n",
      "265/265 [==============================] - 7s 25ms/step - loss: 0.3370 - accuracy: 0.8436 - val_loss: 0.3282 - val_accuracy: 0.8497\n",
      "Epoch 20/50\n",
      "265/265 [==============================] - 6s 24ms/step - loss: 0.3362 - accuracy: 0.8462 - val_loss: 0.3240 - val_accuracy: 0.8502\n",
      "Epoch 21/50\n",
      "265/265 [==============================] - 7s 25ms/step - loss: 0.3359 - accuracy: 0.8405 - val_loss: 0.3246 - val_accuracy: 0.8615\n",
      "Epoch 22/50\n",
      "265/265 [==============================] - 7s 26ms/step - loss: 0.3367 - accuracy: 0.8457 - val_loss: 0.3308 - val_accuracy: 0.8407\n",
      "Epoch 23/50\n",
      "265/265 [==============================] - 8s 30ms/step - loss: 0.3346 - accuracy: 0.8461 - val_loss: 0.3236 - val_accuracy: 0.8705\n",
      "Epoch 24/50\n",
      "265/265 [==============================] - 9s 33ms/step - loss: 0.3357 - accuracy: 0.8407 - val_loss: 0.4201 - val_accuracy: 0.7831\n",
      "Epoch 25/50\n",
      "265/265 [==============================] - 11s 40ms/step - loss: 0.3376 - accuracy: 0.8414 - val_loss: 0.3324 - val_accuracy: 0.8578\n",
      "Epoch 26/50\n",
      "265/265 [==============================] - 10s 37ms/step - loss: 0.3336 - accuracy: 0.8469 - val_loss: 0.3143 - val_accuracy: 0.8639\n",
      "Epoch 27/50\n",
      "265/265 [==============================] - 10s 38ms/step - loss: 0.3318 - accuracy: 0.8430 - val_loss: 0.3426 - val_accuracy: 0.8332\n",
      "Epoch 28/50\n",
      "265/265 [==============================] - 10s 37ms/step - loss: 0.3327 - accuracy: 0.8461 - val_loss: 0.3161 - val_accuracy: 0.8629\n",
      "Epoch 29/50\n",
      "265/265 [==============================] - 10s 37ms/step - loss: 0.3337 - accuracy: 0.8462 - val_loss: 0.3483 - val_accuracy: 0.8294\n",
      "Epoch 30/50\n",
      "265/265 [==============================] - 10s 37ms/step - loss: 0.3303 - accuracy: 0.8479 - val_loss: 0.3306 - val_accuracy: 0.8733\n",
      "Epoch 31/50\n",
      "265/265 [==============================] - 10s 39ms/step - loss: 0.3279 - accuracy: 0.8469 - val_loss: 0.3133 - val_accuracy: 0.8686\n",
      "Epoch 32/50\n",
      "265/265 [==============================] - 11s 43ms/step - loss: 0.3290 - accuracy: 0.8487 - val_loss: 0.3140 - val_accuracy: 0.8634\n",
      "Epoch 33/50\n",
      "265/265 [==============================] - 9s 36ms/step - loss: 0.3303 - accuracy: 0.8483 - val_loss: 0.3168 - val_accuracy: 0.8606\n",
      "Epoch 34/50\n",
      "265/265 [==============================] - 11s 40ms/step - loss: 0.3265 - accuracy: 0.8508 - val_loss: 0.3095 - val_accuracy: 0.8677\n",
      "Epoch 35/50\n",
      "265/265 [==============================] - 10s 37ms/step - loss: 0.3302 - accuracy: 0.8483 - val_loss: 0.3296 - val_accuracy: 0.8757\n",
      "Epoch 36/50\n",
      "265/265 [==============================] - 10s 38ms/step - loss: 0.3273 - accuracy: 0.8484 - val_loss: 0.3151 - val_accuracy: 0.8611\n",
      "Epoch 37/50\n",
      "265/265 [==============================] - 9s 35ms/step - loss: 0.3311 - accuracy: 0.8446 - val_loss: 0.3097 - val_accuracy: 0.8634\n",
      "Epoch 38/50\n",
      "265/265 [==============================] - 8s 31ms/step - loss: 0.3248 - accuracy: 0.8517 - val_loss: 0.3264 - val_accuracy: 0.8483\n",
      "Epoch 39/50\n",
      "265/265 [==============================] - 7s 28ms/step - loss: 0.3278 - accuracy: 0.8458 - val_loss: 0.3091 - val_accuracy: 0.8710\n",
      "Epoch 40/50\n",
      "265/265 [==============================] - 6s 24ms/step - loss: 0.3256 - accuracy: 0.8502 - val_loss: 0.3135 - val_accuracy: 0.8578\n",
      "Epoch 41/50\n",
      "265/265 [==============================] - 6s 23ms/step - loss: 0.3257 - accuracy: 0.8495 - val_loss: 0.3153 - val_accuracy: 0.8492\n",
      "Epoch 42/50\n",
      "265/265 [==============================] - 6s 23ms/step - loss: 0.3261 - accuracy: 0.8497 - val_loss: 0.3478 - val_accuracy: 0.8237\n",
      "Epoch 43/50\n",
      "265/265 [==============================] - 6s 23ms/step - loss: 0.3233 - accuracy: 0.8527 - val_loss: 0.3092 - val_accuracy: 0.8686\n",
      "Epoch 44/50\n",
      "265/265 [==============================] - 6s 23ms/step - loss: 0.3241 - accuracy: 0.8477 - val_loss: 0.3144 - val_accuracy: 0.8743\n",
      "Epoch 45/50\n",
      "265/265 [==============================] - 6s 23ms/step - loss: 0.3209 - accuracy: 0.8481 - val_loss: 0.3194 - val_accuracy: 0.8719\n",
      "Epoch 46/50\n",
      "265/265 [==============================] - 6s 24ms/step - loss: 0.3220 - accuracy: 0.8491 - val_loss: 0.3468 - val_accuracy: 0.8313\n",
      "Epoch 47/50\n",
      "265/265 [==============================] - 7s 26ms/step - loss: 0.3253 - accuracy: 0.8492 - val_loss: 0.3238 - val_accuracy: 0.8615\n",
      "Epoch 48/50\n",
      "265/265 [==============================] - 8s 30ms/step - loss: 0.3208 - accuracy: 0.8533 - val_loss: 0.3125 - val_accuracy: 0.8672\n",
      "Epoch 49/50\n",
      "265/265 [==============================] - 9s 35ms/step - loss: 0.3197 - accuracy: 0.8511 - val_loss: 0.5028 - val_accuracy: 0.7268\n",
      "Epoch 50/50\n",
      "265/265 [==============================] - 11s 42ms/step - loss: 0.3251 - accuracy: 0.8484 - val_loss: 0.3110 - val_accuracy: 0.8582\n"
     ]
    }
   ],
   "source": [
    "model.compile(optimizer='sgd',\n",
    "              loss='binary_crossentropy',\n",
    "              metrics=['accuracy'])\n",
    "\n",
    "history = model.fit(train_img,\n",
    "                    train_y,\n",
    "                    epochs=50,\n",
    "                    batch_size=32,  # mini batches of 32 units!\n",
    "                    validation_data=(test_img, test_y))"
   ]
  },
  {
   "cell_type": "code",
   "execution_count": 21,
   "metadata": {},
   "outputs": [
    {
     "name": "stdout",
     "output_type": "stream",
     "text": [
      "265/265 [==============================] - 2s 9ms/step - loss: 0.3103 - accuracy: 0.8570\n"
     ]
    }
   ],
   "source": [
    "results_train = model.evaluate(train_img, train_y)"
   ]
  },
  {
   "cell_type": "code",
   "execution_count": 22,
   "metadata": {},
   "outputs": [
    {
     "name": "stdout",
     "output_type": "stream",
     "text": [
      "67/67 [==============================] - 1s 8ms/step - loss: 0.3110 - accuracy: 0.8582\n"
     ]
    }
   ],
   "source": [
    "results_test = model.evaluate(test_img, test_y)"
   ]
  },
  {
   "cell_type": "code",
   "execution_count": 23,
   "metadata": {},
   "outputs": [
    {
     "data": {
      "text/plain": [
       "[0.3103067874908447, 0.857041597366333]"
      ]
     },
     "execution_count": 23,
     "metadata": {},
     "output_type": "execute_result"
    }
   ],
   "source": [
    "results_train\n",
    "# training accuracy 85%"
   ]
  },
  {
   "cell_type": "code",
   "execution_count": 24,
   "metadata": {},
   "outputs": [
    {
     "data": {
      "text/plain": [
       "[0.3110007345676422, 0.8582230806350708]"
      ]
     },
     "execution_count": 24,
     "metadata": {},
     "output_type": "execute_result"
    }
   ],
   "source": [
    "results_test\n",
    "# test set accuracy 85%"
   ]
  },
  {
   "cell_type": "code",
   "execution_count": 26,
   "metadata": {},
   "outputs": [
    {
     "data": {
      "image/png": "[encoded data removed]",
      "text/plain": [
       "<Figure size 432x288 with 2 Axes>"
      ]
     },
     "metadata": {
      "needs_background": "light"
     },
     "output_type": "display_data"
    }
   ],
   "source": [
    "# Visualize the trainong results:\n",
    "visualize_training_results(history)"
   ]
  },
  {
   "cell_type": "code",
   "execution_count": 38,
   "metadata": {},
   "outputs": [
    {
     "data": {
      "image/png": "[encoded data removed]",
      "text/plain": [
       "<Figure size 432x288 with 2 Axes>"
      ]
     },
     "metadata": {
      "needs_background": "light"
     },
     "output_type": "display_data"
    }
   ],
   "source": [
    "# confusion matrix for test set:\n",
    "predictions = model.predict_classes(test_img)\n",
    "cm = confusion_matrix(test_y, predictions, labels=[0, 1], normalize='true')\n",
    "disp = ConfusionMatrixDisplay(confusion_matrix=cm, display_labels=['benign', 'malignant'])\n",
    "disp.plot()\n",
    "plt.show()"
   ]
  },
  {
   "cell_type": "markdown",
   "metadata": {},
   "source": [
    "- We have 85% accuracy score for both train and test set. \n",
    "- I will do more preprocessing to images to see if will help to improve accuracy score of both train and test set."
   ]
  },
  {
   "cell_type": "markdown",
   "metadata": {},
   "source": [
    "## Step 2: Modeling with More Image Preprocessing "
   ]
  },
  {
   "cell_type": "code",
   "execution_count": 51,
   "metadata": {},
   "outputs": [
    {
     "name": "stdout",
     "output_type": "stream",
     "text": [
      "Found 42324 validated image filenames belonging to 2 classes.\n",
      "Found 10581 validated image filenames belonging to 2 classes.\n",
      "Found 5879 validated image filenames belonging to 2 classes.\n"
     ]
    }
   ],
   "source": [
    "# Instantiating a generator object and normalizing the RGB values, and creating the generator:\n",
    "\n",
    "# Creating the generator for the training data\n",
    "train_generator = ImageDataGenerator(rescale=1./255, zoom_range=0.3, rotation_range=50,\n",
    "                                   width_shift_range=0.2, height_shift_range=0.2, shear_range=0.2, \n",
    "                                   horizontal_flip=True).flow_from_dataframe(df_tr,\n",
    "                                                                             x_col='path',\n",
    "                                                                             y_col='benign_malignant',\n",
    "                                                                             # Re-sizing images to 256x256\n",
    "                                                                             target_size=(256, 256),\n",
    "                                                                             batch_size= int(len(df_tr)/5))\n",
    "\n",
    "# Creating the generator for the testing data\n",
    "test_generator = ImageDataGenerator(rescale=1./255).flow_from_dataframe(df_te,\n",
    "                                                                             x_col='path',\n",
    "                                                                             y_col='benign_malignant',\n",
    "                                                                             # Re-sizing images to 256x256\n",
    "                                                                             target_size=(256, 256), \n",
    "                                                                             batch_size= int(len(df_te)/5))\n",
    "# Setting aside a hold-out set\n",
    "hold_generator =  ImageDataGenerator(rescale=1./255).flow_from_dataframe(df_hold,\n",
    "                                                                             x_col='path',\n",
    "                                                                             y_col='benign_malignant',\n",
    "                                                                             # Re-sizing images to 256x256\n",
    "                                                                             target_size=(256, 256),\n",
    "                                                                             batch_size= int(len(df_hold)/5))"
   ]
  },
  {
   "cell_type": "code",
   "execution_count": 52,
   "metadata": {},
   "outputs": [],
   "source": [
    "# This cell took ~20 min to run!\n",
    "# create the data sets\n",
    "train_images, train_labels = next(train_generator)\n",
    "test_images, test_labels = next(test_generator)\n",
    "hold_images, hold_labels = next(hold_generator)"
   ]
  },
  {
   "cell_type": "code",
   "execution_count": 53,
   "metadata": {},
   "outputs": [
    {
     "name": "stdout",
     "output_type": "stream",
     "text": [
      "Train data set classes, {'benign': 0, 'malignant': 1}\n",
      "Test data set classes, {'benign': 0, 'malignant': 1}\n",
      "Hold-out data set classes, {'benign': 0, 'malignant': 1}\n"
     ]
    }
   ],
   "source": [
    "# Check classes\n",
    "print(f\"Train data set classes, {train_generator.class_indices}\")\n",
    "print(f\"Test data set classes, {test_generator.class_indices}\")\n",
    "print(f\"Hold-out data set classes, {hold_generator.class_indices}\")"
   ]
  },
  {
   "cell_type": "code",
   "execution_count": 54,
   "metadata": {},
   "outputs": [
    {
     "name": "stdout",
     "output_type": "stream",
     "text": [
      "Number of training samples: 8464\n",
      "Number of testing samples: 2116\n",
      "Number of validation samples: 1175\n",
      "train_images shape: (8464, 256, 256, 3)\n",
      "train_labels shape: (8464, 2)\n",
      "test_images shape: (2116, 256, 256, 3)\n",
      "test_labels shape: (2116, 2)\n",
      "hold_images shape: (1175, 256, 256, 3)\n",
      "hold_labels shape: (1175, 2)\n"
     ]
    }
   ],
   "source": [
    "# Explore dataset again\n",
    "m_train = train_images.shape[0]\n",
    "m_test = test_images.shape[0]\n",
    "m_hold = hold_images.shape[0]\n",
    "\n",
    "print (\"Number of training samples: \" + str(m_train))\n",
    "print (\"Number of testing samples: \" + str(m_test))\n",
    "print (\"Number of validation samples: \" + str(m_hold))\n",
    "\n",
    "print (\"train_images shape: \" + str(train_images.shape))   # batch_size=int(len(df_tr)/5) --> 42324/5 = 8464\n",
    "print (\"train_labels shape: \" + str(train_labels.shape))\n",
    "\n",
    "print (\"test_images shape: \" + str(test_images.shape))\n",
    "print (\"test_labels shape: \" + str(test_labels.shape))\n",
    "\n",
    "print (\"hold_images shape: \" + str(hold_images.shape))\n",
    "print (\"hold_labels shape: \" + str(hold_labels.shape))"
   ]
  },
  {
   "cell_type": "code",
   "execution_count": 55,
   "metadata": {},
   "outputs": [
    {
     "name": "stdout",
     "output_type": "stream",
     "text": [
      "(8464, 196608)\n",
      "(2116, 196608)\n",
      "(1175, 196608)\n"
     ]
    }
   ],
   "source": [
    "train_img = train_images.reshape(train_images.shape[0], -1)\n",
    "test_img = test_images.reshape(test_images.shape[0], -1)\n",
    "hold_img = hold_images.reshape(hold_images.shape[0], -1)\n",
    "\n",
    "print(train_img.shape)\n",
    "print(test_img.shape)\n",
    "print(hold_img.shape)"
   ]
  },
  {
   "cell_type": "code",
   "execution_count": 56,
   "metadata": {},
   "outputs": [],
   "source": [
    "train_y = np.reshape(train_labels[:, 0], (8464, 1))\n",
    "test_y = np.reshape(test_labels[:, 0], (2116, 1))\n",
    "hold_y = np.reshape(hold_labels[:, 0], (1175, 1))"
   ]
  },
  {
   "cell_type": "code",
   "execution_count": 57,
   "metadata": {},
   "outputs": [],
   "source": [
    "# Fitting a Neural Network Model\n",
    "model2 = models.Sequential()\n",
    "\n",
    "# Adding layers\n",
    "model2.add(layers.Dense(20, activation='relu', input_shape=(196608,))) # input layer\n",
    "model2.add(layers.Dense(7, activation='relu')) # hidden layer\n",
    "model2.add(layers.Dense(5, activation='relu')) # hidden layer\n",
    "model2.add(layers.Dense(1, activation='sigmoid')) # output layer"
   ]
  },
  {
   "cell_type": "code",
   "execution_count": 58,
   "metadata": {
    "scrolled": true
   },
   "outputs": [
    {
     "name": "stdout",
     "output_type": "stream",
     "text": [
      "Epoch 1/50\n",
      "265/265 [==============================] - 6s 23ms/step - loss: 0.7059 - accuracy: 0.8287 - val_loss: 0.3896 - val_accuracy: 0.8483\n",
      "Epoch 2/50\n",
      "265/265 [==============================] - 6s 21ms/step - loss: 0.4172 - accuracy: 0.8331 - val_loss: 0.3896 - val_accuracy: 0.8507\n",
      "Epoch 3/50\n",
      "265/265 [==============================] - 6s 21ms/step - loss: 0.4092 - accuracy: 0.8352 - val_loss: 0.3668 - val_accuracy: 0.8526\n",
      "Epoch 4/50\n",
      "265/265 [==============================] - 6s 21ms/step - loss: 0.3972 - accuracy: 0.8367 - val_loss: 0.3599 - val_accuracy: 0.8540\n",
      "Epoch 5/50\n",
      "265/265 [==============================] - 6s 21ms/step - loss: 0.3931 - accuracy: 0.8352 - val_loss: 0.3504 - val_accuracy: 0.8540\n",
      "Epoch 6/50\n",
      "265/265 [==============================] - 6s 23ms/step - loss: 0.3864 - accuracy: 0.8372 - val_loss: 0.3584 - val_accuracy: 0.8554\n",
      "Epoch 7/50\n",
      "265/265 [==============================] - 6s 24ms/step - loss: 0.3851 - accuracy: 0.8380 - val_loss: 0.3504 - val_accuracy: 0.8559\n",
      "Epoch 8/50\n",
      "265/265 [==============================] - 6s 23ms/step - loss: 0.3835 - accuracy: 0.8367 - val_loss: 0.3484 - val_accuracy: 0.8497\n",
      "Epoch 9/50\n",
      "265/265 [==============================] - 6s 24ms/step - loss: 0.3825 - accuracy: 0.8388 - val_loss: 0.3473 - val_accuracy: 0.8568\n",
      "Epoch 10/50\n",
      "265/265 [==============================] - 6s 24ms/step - loss: 0.3822 - accuracy: 0.8392 - val_loss: 0.3456 - val_accuracy: 0.8549\n",
      "Epoch 11/50\n",
      "265/265 [==============================] - 7s 25ms/step - loss: 0.3787 - accuracy: 0.8368 - val_loss: 0.3495 - val_accuracy: 0.8497\n",
      "Epoch 12/50\n",
      "265/265 [==============================] - 7s 27ms/step - loss: 0.3784 - accuracy: 0.8366 - val_loss: 0.3452 - val_accuracy: 0.8502\n",
      "Epoch 13/50\n",
      "265/265 [==============================] - 8s 30ms/step - loss: 0.3761 - accuracy: 0.8396 - val_loss: 0.3783 - val_accuracy: 0.8346\n",
      "Epoch 14/50\n",
      "265/265 [==============================] - 9s 35ms/step - loss: 0.3775 - accuracy: 0.8404 - val_loss: 0.3471 - val_accuracy: 0.8573\n",
      "Epoch 15/50\n",
      "265/265 [==============================] - 10s 39ms/step - loss: 0.3780 - accuracy: 0.8410 - val_loss: 0.3472 - val_accuracy: 0.8464\n",
      "Epoch 16/50\n",
      "265/265 [==============================] - 10s 38ms/step - loss: 0.3776 - accuracy: 0.8390 - val_loss: 0.3516 - val_accuracy: 0.8450\n",
      "Epoch 17/50\n",
      "265/265 [==============================] - 10s 39ms/step - loss: 0.3761 - accuracy: 0.8366 - val_loss: 0.3471 - val_accuracy: 0.8455\n",
      "Epoch 18/50\n",
      "265/265 [==============================] - 10s 38ms/step - loss: 0.3744 - accuracy: 0.8394 - val_loss: 0.3434 - val_accuracy: 0.8507\n",
      "Epoch 19/50\n",
      "265/265 [==============================] - 10s 38ms/step - loss: 0.3736 - accuracy: 0.8391 - val_loss: 0.3628 - val_accuracy: 0.8450\n",
      "Epoch 20/50\n",
      "265/265 [==============================] - 10s 38ms/step - loss: 0.3710 - accuracy: 0.8432 - val_loss: 0.3526 - val_accuracy: 0.8426\n",
      "Epoch 21/50\n",
      "265/265 [==============================] - 10s 38ms/step - loss: 0.3711 - accuracy: 0.8407 - val_loss: 0.3459 - val_accuracy: 0.8412\n",
      "Epoch 22/50\n",
      "265/265 [==============================] - 10s 37ms/step - loss: 0.3704 - accuracy: 0.8399 - val_loss: 0.3362 - val_accuracy: 0.8544\n",
      "Epoch 23/50\n",
      "265/265 [==============================] - 10s 38ms/step - loss: 0.3717 - accuracy: 0.8432 - val_loss: 0.3340 - val_accuracy: 0.8445\n",
      "Epoch 24/50\n",
      "265/265 [==============================] - 10s 38ms/step - loss: 0.3705 - accuracy: 0.8391 - val_loss: 0.3306 - val_accuracy: 0.8497\n",
      "Epoch 25/50\n",
      "265/265 [==============================] - 10s 37ms/step - loss: 0.3672 - accuracy: 0.8409 - val_loss: 0.3413 - val_accuracy: 0.8478\n",
      "Epoch 26/50\n",
      "265/265 [==============================] - 10s 38ms/step - loss: 0.3687 - accuracy: 0.8425 - val_loss: 0.3340 - val_accuracy: 0.8488\n",
      "Epoch 27/50\n",
      "265/265 [==============================] - 10s 38ms/step - loss: 0.3671 - accuracy: 0.8451 - val_loss: 0.3399 - val_accuracy: 0.8464\n",
      "Epoch 28/50\n",
      "265/265 [==============================] - 10s 38ms/step - loss: 0.3680 - accuracy: 0.8416 - val_loss: 0.3310 - val_accuracy: 0.8526\n",
      "Epoch 29/50\n",
      "265/265 [==============================] - 11s 41ms/step - loss: 0.3695 - accuracy: 0.8403 - val_loss: 0.3765 - val_accuracy: 0.8341\n",
      "Epoch 30/50\n",
      "265/265 [==============================] - 10s 38ms/step - loss: 0.3664 - accuracy: 0.8459 - val_loss: 0.3458 - val_accuracy: 0.8436\n",
      "Epoch 31/50\n",
      "265/265 [==============================] - 10s 37ms/step - loss: 0.3663 - accuracy: 0.8429 - val_loss: 0.3297 - val_accuracy: 0.8483\n",
      "Epoch 32/50\n",
      "265/265 [==============================] - 11s 40ms/step - loss: 0.3650 - accuracy: 0.8435 - val_loss: 0.3328 - val_accuracy: 0.8540\n",
      "Epoch 33/50\n",
      "265/265 [==============================] - 10s 39ms/step - loss: 0.3645 - accuracy: 0.8442 - val_loss: 0.3324 - val_accuracy: 0.8559\n",
      "Epoch 34/50\n",
      "265/265 [==============================] - 11s 42ms/step - loss: 0.3655 - accuracy: 0.8436 - val_loss: 0.3273 - val_accuracy: 0.8511\n",
      "Epoch 35/50\n",
      "265/265 [==============================] - 11s 42ms/step - loss: 0.3640 - accuracy: 0.8462 - val_loss: 0.3524 - val_accuracy: 0.8530\n",
      "Epoch 36/50\n",
      "265/265 [==============================] - 10s 37ms/step - loss: 0.3627 - accuracy: 0.8459 - val_loss: 0.3252 - val_accuracy: 0.8526\n",
      "Epoch 37/50\n",
      "265/265 [==============================] - 8s 30ms/step - loss: 0.3632 - accuracy: 0.8450 - val_loss: 0.3288 - val_accuracy: 0.8554\n",
      "Epoch 38/50\n",
      "265/265 [==============================] - 7s 28ms/step - loss: 0.3621 - accuracy: 0.8444 - val_loss: 0.3927 - val_accuracy: 0.8190\n",
      "Epoch 39/50\n",
      "265/265 [==============================] - 9s 33ms/step - loss: 0.3612 - accuracy: 0.8466 - val_loss: 0.3474 - val_accuracy: 0.8502\n",
      "Epoch 40/50\n",
      "265/265 [==============================] - 10s 36ms/step - loss: 0.3628 - accuracy: 0.8466 - val_loss: 0.3263 - val_accuracy: 0.8521\n",
      "Epoch 41/50\n",
      "265/265 [==============================] - 10s 38ms/step - loss: 0.3608 - accuracy: 0.8469 - val_loss: 0.3902 - val_accuracy: 0.8195\n",
      "Epoch 42/50\n",
      "265/265 [==============================] - 12s 43ms/step - loss: 0.3616 - accuracy: 0.8463 - val_loss: 0.3237 - val_accuracy: 0.8530\n",
      "Epoch 43/50\n",
      "265/265 [==============================] - 10s 38ms/step - loss: 0.3595 - accuracy: 0.8475 - val_loss: 0.3270 - val_accuracy: 0.8492\n",
      "Epoch 44/50\n",
      "265/265 [==============================] - 10s 36ms/step - loss: 0.3588 - accuracy: 0.8476 - val_loss: 0.3262 - val_accuracy: 0.8492\n",
      "Epoch 45/50\n",
      "265/265 [==============================] - 10s 37ms/step - loss: 0.3589 - accuracy: 0.8468 - val_loss: 0.3277 - val_accuracy: 0.8535\n",
      "Epoch 46/50\n",
      "265/265 [==============================] - 9s 34ms/step - loss: 0.3607 - accuracy: 0.8475 - val_loss: 0.3294 - val_accuracy: 0.8521\n",
      "Epoch 47/50\n",
      "265/265 [==============================] - 10s 36ms/step - loss: 0.3581 - accuracy: 0.8481 - val_loss: 0.3485 - val_accuracy: 0.8407\n",
      "Epoch 48/50\n",
      "265/265 [==============================] - 8s 32ms/step - loss: 0.3590 - accuracy: 0.8453 - val_loss: 0.3246 - val_accuracy: 0.8535\n",
      "Epoch 49/50\n",
      "265/265 [==============================] - 6s 24ms/step - loss: 0.3591 - accuracy: 0.8455 - val_loss: 0.3528 - val_accuracy: 0.8365\n",
      "Epoch 50/50\n",
      "265/265 [==============================] - 6s 23ms/step - loss: 0.3590 - accuracy: 0.8465 - val_loss: 0.3932 - val_accuracy: 0.8133\n"
     ]
    }
   ],
   "source": [
    "model2.compile(optimizer='sgd',\n",
    "              loss='binary_crossentropy',\n",
    "              metrics=['accuracy'])\n",
    "\n",
    "history2 = model2.fit(train_img,\n",
    "                    train_y,\n",
    "                    epochs=50,\n",
    "                    batch_size=32,  # mini batches of 32 units!\n",
    "                    validation_data=(test_img, test_y))"
   ]
  },
  {
   "cell_type": "code",
   "execution_count": 59,
   "metadata": {},
   "outputs": [
    {
     "name": "stdout",
     "output_type": "stream",
     "text": [
      "265/265 [==============================] - 2s 9ms/step - loss: 0.4011 - accuracy: 0.8255\n"
     ]
    }
   ],
   "source": [
    "results_train = model2.evaluate(train_img, train_y)"
   ]
  },
  {
   "cell_type": "code",
   "execution_count": 60,
   "metadata": {},
   "outputs": [
    {
     "name": "stdout",
     "output_type": "stream",
     "text": [
      "67/67 [==============================] - 1s 9ms/step - loss: 0.3932 - accuracy: 0.8133\n"
     ]
    }
   ],
   "source": [
    "results_test = model2.evaluate(test_img, test_y)"
   ]
  },
  {
   "cell_type": "code",
   "execution_count": 65,
   "metadata": {},
   "outputs": [
    {
     "data": {
      "text/plain": [
       "[0.4010556638240814, 0.8254961967468262]"
      ]
     },
     "execution_count": 65,
     "metadata": {},
     "output_type": "execute_result"
    }
   ],
   "source": [
    "results_train"
   ]
  },
  {
   "cell_type": "code",
   "execution_count": 66,
   "metadata": {},
   "outputs": [
    {
     "data": {
      "text/plain": [
       "[0.393200159072876, 0.8133270144462585]"
      ]
     },
     "execution_count": 66,
     "metadata": {},
     "output_type": "execute_result"
    }
   ],
   "source": [
    "results_test"
   ]
  },
  {
   "cell_type": "markdown",
   "metadata": {},
   "source": [
    "- Accuracy is 82% for train set and 81% for test set!"
   ]
  },
  {
   "cell_type": "code",
   "execution_count": 61,
   "metadata": {},
   "outputs": [
    {
     "data": {
      "image/png": "[encoded data removed]",
      "text/plain": [
       "<Figure size 432x288 with 2 Axes>"
      ]
     },
     "metadata": {
      "needs_background": "light"
     },
     "output_type": "display_data"
    }
   ],
   "source": [
    "# Visualize the trainong results:\n",
    "visualize_training_results(history2)"
   ]
  },
  {
   "cell_type": "code",
   "execution_count": 62,
   "metadata": {},
   "outputs": [
    {
     "data": {
      "image/png": "[encoded data removed]",
      "text/plain": [
       "<Figure size 432x288 with 2 Axes>"
      ]
     },
     "metadata": {
      "needs_background": "light"
     },
     "output_type": "display_data"
    }
   ],
   "source": [
    "# confusion matrix for test set:\n",
    "predictions = model2.predict_classes(test_img)\n",
    "cm = confusion_matrix(test_y, predictions, normalize='true')\n",
    "disp = ConfusionMatrixDisplay(confusion_matrix=cm, display_labels=['Benign', 'Malignant'])\n",
    "disp.plot()\n",
    "plt.show()"
   ]
  },
  {
   "cell_type": "code",
   "execution_count": 67,
   "metadata": {},
   "outputs": [
    {
     "data": {
      "image/png": "[encoded data removed]",
      "text/plain": [
       "<Figure size 432x288 with 2 Axes>"
      ]
     },
     "metadata": {
      "needs_background": "light"
     },
     "output_type": "display_data"
    }
   ],
   "source": [
    "# confusion matrix for test set:\n",
    "predictions = model2.predict_classes(test_img)\n",
    "cm = confusion_matrix(test_y, predictions)\n",
    "disp = ConfusionMatrixDisplay(confusion_matrix=cm, display_labels=['Benign', 'Malignant'])\n",
    "disp.plot()\n",
    "plt.show()"
   ]
  },
  {
   "cell_type": "code",
   "execution_count": 63,
   "metadata": {},
   "outputs": [
    {
     "data": {
      "text/plain": [
       "1.0    1795\n",
       "0.0     321\n",
       "dtype: int64"
      ]
     },
     "execution_count": 63,
     "metadata": {},
     "output_type": "execute_result"
    }
   ],
   "source": [
    "pd.DataFrame(test_y).value_counts()"
   ]
  },
  {
   "cell_type": "code",
   "execution_count": 64,
   "metadata": {},
   "outputs": [
    {
     "data": {
      "text/plain": [
       "1    1690\n",
       "0     426\n",
       "dtype: int64"
      ]
     },
     "execution_count": 64,
     "metadata": {},
     "output_type": "execute_result"
    }
   ],
   "source": [
    "pd.DataFrame(predictions).value_counts()"
   ]
  },
  {
   "cell_type": "code",
   "execution_count": null,
   "metadata": {},
   "outputs": [],
   "source": []
  }
 ],
 "metadata": {
  "kernelspec": {
   "display_name": "Python 3",
   "language": "python",
   "name": "python3"
  },
  "language_info": {
   "codemirror_mode": {
    "name": "ipython",
    "version": 3
   },
   "file_extension": ".py",
   "mimetype": "text/x-python",
   "name": "python",
   "nbconvert_exporter": "python",
   "pygments_lexer": "ipython3",
   "version": "3.8.5"
  }
 },
 "nbformat": 4,
 "nbformat_minor": 4
}
