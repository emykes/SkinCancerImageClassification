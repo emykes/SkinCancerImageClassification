{
 "cells": [
  {
   "cell_type": "markdown",
   "metadata": {},
   "source": [
    "# Skin Cancer Image Processing with Pre-Trained Models"
   ]
  },
  {
   "cell_type": "markdown",
   "metadata": {},
   "source": [
    "In this notebook, pre-trained VGG16 model will be used to classify skin lesion images. I will iterate over this model by adding various dense layers after the pre-trained layers to find optimal model that has better accuracy and recall scores than the CNN models done in the [Image_Processing_and_Modeling](https://github.com/emykes/SkinCancerImageClassification/blob/main/Notebooks/Image_Processing_and_Modeling.ipynb) notebook.   "
   ]
  },
  {
   "cell_type": "code",
   "execution_count": 1,
   "metadata": {},
   "outputs": [],
   "source": [
    "# Import Relevant Libraries\n",
    "import pandas as pd\n",
    "import numpy as np\n",
    "import matplotlib.pyplot as plt\n",
    "import matplotlib.image as mpimg\n",
    "\n",
    "from tensorflow import keras\n",
    "from keras import models, layers\n",
    "from keras.preprocessing.image import ImageDataGenerator, array_to_img, img_to_array, load_img\n",
    "from keras.layers import Dense, Dropout, Conv2D, MaxPooling2D, Flatten, Activation, BatchNormalization\n",
    "from keras.regularizers import l2\n",
    "from tensorflow.keras.optimizers import Adam, SGD\n",
    "\n",
    "# importing pre-trained networks\n",
    "from keras.applications.vgg16 import VGG16\n",
    "from keras.applications.vgg19 import VGG19\n",
    "\n",
    "from keras.callbacks import EarlyStopping, ModelCheckpoint\n",
    "\n",
    "from sklearn.utils import class_weight\n",
    "from sklearn.metrics import mean_squared_error\n",
    "from sklearn.model_selection import train_test_split\n",
    "from sklearn.metrics import confusion_matrix, ConfusionMatrixDisplay\n",
    "\n",
    "import warnings\n",
    "warnings.filterwarnings('ignore')\n",
    "\n",
    "np.random.seed(123)"
   ]
  },
  {
   "cell_type": "code",
   "execution_count": 2,
   "metadata": {},
   "outputs": [],
   "source": [
    "# Define modeling results display function:\n",
    "def visualize_modeling_results(results):\n",
    "    '''   \n",
    "    Input: model history results\n",
    "    '''\n",
    "    history = results.history\n",
    "    \n",
    "    plt.figure(figsize=(8,5))\n",
    "    plt.plot(history['loss'])\n",
    "    plt.plot(history['val_loss'])\n",
    "    plt.legend(['train', 'validation'], loc='upper right')\n",
    "    plt.title('Loss')\n",
    "    plt.xlabel('Epochs')\n",
    "    plt.ylabel('Loss')\n",
    "    plt.show()\n",
    "    \n",
    "    plt.figure(figsize=(8,5))\n",
    "    plt.plot(history['accuracy'])\n",
    "    plt.plot(history['val_accuracy'])\n",
    "    plt.legend(['train', 'validation'], loc='lower left')\n",
    "    plt.title('Accuracy')\n",
    "    plt.xlabel('Epochs')\n",
    "    plt.ylabel('Accuracy')\n",
    "    plt.show()"
   ]
  },
  {
   "cell_type": "markdown",
   "metadata": {},
   "source": [
    "## 1. Data Preperation"
   ]
  },
  {
   "cell_type": "code",
   "execution_count": 3,
   "metadata": {},
   "outputs": [
    {
     "data": {
      "text/html": [
       "<div>\n",
       "<style scoped>\n",
       "    .dataframe tbody tr th:only-of-type {\n",
       "        vertical-align: middle;\n",
       "    }\n",
       "\n",
       "    .dataframe tbody tr th {\n",
       "        vertical-align: top;\n",
       "    }\n",
       "\n",
       "    .dataframe thead th {\n",
       "        text-align: right;\n",
       "    }\n",
       "</style>\n",
       "<table border=\"1\" class=\"dataframe\">\n",
       "  <thead>\n",
       "    <tr style=\"text-align: right;\">\n",
       "      <th></th>\n",
       "      <th>image_name</th>\n",
       "      <th>patient_id</th>\n",
       "      <th>sex</th>\n",
       "      <th>age_approx</th>\n",
       "      <th>anatom_site_general_challenge</th>\n",
       "      <th>diagnosis</th>\n",
       "      <th>benign_malignant</th>\n",
       "      <th>target</th>\n",
       "      <th>tfrecord</th>\n",
       "      <th>width</th>\n",
       "      <th>height</th>\n",
       "      <th>path</th>\n",
       "      <th>source</th>\n",
       "      <th>ext</th>\n",
       "    </tr>\n",
       "  </thead>\n",
       "  <tbody>\n",
       "    <tr>\n",
       "      <th>0</th>\n",
       "      <td>ISIC_2637011</td>\n",
       "      <td>IP_7279968</td>\n",
       "      <td>male</td>\n",
       "      <td>45.0</td>\n",
       "      <td>head/neck</td>\n",
       "      <td>unknown</td>\n",
       "      <td>benign</td>\n",
       "      <td>0</td>\n",
       "      <td>0</td>\n",
       "      <td>6000</td>\n",
       "      <td>4000</td>\n",
       "      <td>../data/ISIC_IMAGES_512x512/ISIC2020/image2020...</td>\n",
       "      <td>NaN</td>\n",
       "      <td>NaN</td>\n",
       "    </tr>\n",
       "    <tr>\n",
       "      <th>1</th>\n",
       "      <td>ISIC_0015719</td>\n",
       "      <td>IP_3075186</td>\n",
       "      <td>female</td>\n",
       "      <td>45.0</td>\n",
       "      <td>upper extremity</td>\n",
       "      <td>unknown</td>\n",
       "      <td>benign</td>\n",
       "      <td>0</td>\n",
       "      <td>0</td>\n",
       "      <td>6000</td>\n",
       "      <td>4000</td>\n",
       "      <td>../data/ISIC_IMAGES_512x512/ISIC2020/image2020...</td>\n",
       "      <td>NaN</td>\n",
       "      <td>NaN</td>\n",
       "    </tr>\n",
       "    <tr>\n",
       "      <th>2</th>\n",
       "      <td>ISIC_0052212</td>\n",
       "      <td>IP_2842074</td>\n",
       "      <td>female</td>\n",
       "      <td>50.0</td>\n",
       "      <td>lower extremity</td>\n",
       "      <td>nevus</td>\n",
       "      <td>benign</td>\n",
       "      <td>0</td>\n",
       "      <td>6</td>\n",
       "      <td>1872</td>\n",
       "      <td>1053</td>\n",
       "      <td>../data/ISIC_IMAGES_512x512/ISIC2020/image2020...</td>\n",
       "      <td>NaN</td>\n",
       "      <td>NaN</td>\n",
       "    </tr>\n",
       "    <tr>\n",
       "      <th>3</th>\n",
       "      <td>ISIC_0068279</td>\n",
       "      <td>IP_6890425</td>\n",
       "      <td>female</td>\n",
       "      <td>45.0</td>\n",
       "      <td>head/neck</td>\n",
       "      <td>unknown</td>\n",
       "      <td>benign</td>\n",
       "      <td>0</td>\n",
       "      <td>0</td>\n",
       "      <td>1872</td>\n",
       "      <td>1053</td>\n",
       "      <td>../data/ISIC_IMAGES_512x512/ISIC2020/image2020...</td>\n",
       "      <td>NaN</td>\n",
       "      <td>NaN</td>\n",
       "    </tr>\n",
       "    <tr>\n",
       "      <th>4</th>\n",
       "      <td>ISIC_0074268</td>\n",
       "      <td>IP_8723313</td>\n",
       "      <td>female</td>\n",
       "      <td>55.0</td>\n",
       "      <td>upper extremity</td>\n",
       "      <td>unknown</td>\n",
       "      <td>benign</td>\n",
       "      <td>0</td>\n",
       "      <td>11</td>\n",
       "      <td>6000</td>\n",
       "      <td>4000</td>\n",
       "      <td>../data/ISIC_IMAGES_512x512/ISIC2020/image2020...</td>\n",
       "      <td>NaN</td>\n",
       "      <td>NaN</td>\n",
       "    </tr>\n",
       "    <tr>\n",
       "      <th>...</th>\n",
       "      <td>...</td>\n",
       "      <td>...</td>\n",
       "      <td>...</td>\n",
       "      <td>...</td>\n",
       "      <td>...</td>\n",
       "      <td>...</td>\n",
       "      <td>...</td>\n",
       "      <td>...</td>\n",
       "      <td>...</td>\n",
       "      <td>...</td>\n",
       "      <td>...</td>\n",
       "      <td>...</td>\n",
       "      <td>...</td>\n",
       "      <td>...</td>\n",
       "    </tr>\n",
       "    <tr>\n",
       "      <th>12431</th>\n",
       "      <td>ISIC_0024302</td>\n",
       "      <td>-1</td>\n",
       "      <td>female</td>\n",
       "      <td>25.0</td>\n",
       "      <td>NaN</td>\n",
       "      <td>melanoma</td>\n",
       "      <td>malignant</td>\n",
       "      <td>1</td>\n",
       "      <td>29</td>\n",
       "      <td>3008</td>\n",
       "      <td>2000</td>\n",
       "      <td>../data/ISIC_IMAGES_512x512/Add_ISIC/image_add...</td>\n",
       "      <td>2018 JID Editorial Images</td>\n",
       "      <td>jpg</td>\n",
       "    </tr>\n",
       "    <tr>\n",
       "      <th>12432</th>\n",
       "      <td>ISIC_0024303</td>\n",
       "      <td>-1</td>\n",
       "      <td>male</td>\n",
       "      <td>60.0</td>\n",
       "      <td>NaN</td>\n",
       "      <td>squamous cell carcinoma</td>\n",
       "      <td>malignant</td>\n",
       "      <td>1</td>\n",
       "      <td>29</td>\n",
       "      <td>3008</td>\n",
       "      <td>2000</td>\n",
       "      <td>../data/ISIC_IMAGES_512x512/Add_ISIC/image_add...</td>\n",
       "      <td>2018 JID Editorial Images</td>\n",
       "      <td>jpg</td>\n",
       "    </tr>\n",
       "    <tr>\n",
       "      <th>12433</th>\n",
       "      <td>ISIC_0024304</td>\n",
       "      <td>-1</td>\n",
       "      <td>male</td>\n",
       "      <td>70.0</td>\n",
       "      <td>NaN</td>\n",
       "      <td>squamous cell carcinoma</td>\n",
       "      <td>malignant</td>\n",
       "      <td>1</td>\n",
       "      <td>29</td>\n",
       "      <td>3008</td>\n",
       "      <td>2000</td>\n",
       "      <td>../data/ISIC_IMAGES_512x512/Add_ISIC/image_add...</td>\n",
       "      <td>2018 JID Editorial Images</td>\n",
       "      <td>jpg</td>\n",
       "    </tr>\n",
       "    <tr>\n",
       "      <th>12434</th>\n",
       "      <td>ISIC_0024305</td>\n",
       "      <td>-1</td>\n",
       "      <td>male</td>\n",
       "      <td>85.0</td>\n",
       "      <td>NaN</td>\n",
       "      <td>squamous cell carcinoma</td>\n",
       "      <td>malignant</td>\n",
       "      <td>1</td>\n",
       "      <td>29</td>\n",
       "      <td>4288</td>\n",
       "      <td>2848</td>\n",
       "      <td>../data/ISIC_IMAGES_512x512/Add_ISIC/image_add...</td>\n",
       "      <td>2018 JID Editorial Images</td>\n",
       "      <td>jpg</td>\n",
       "    </tr>\n",
       "    <tr>\n",
       "      <th>12435</th>\n",
       "      <td>ISIC_0036065</td>\n",
       "      <td>-1</td>\n",
       "      <td>male</td>\n",
       "      <td>80.0</td>\n",
       "      <td>NaN</td>\n",
       "      <td>melanoma</td>\n",
       "      <td>malignant</td>\n",
       "      <td>1</td>\n",
       "      <td>29</td>\n",
       "      <td>2880</td>\n",
       "      <td>1800</td>\n",
       "      <td>../data/ISIC_IMAGES_512x512/Add_ISIC/image_add...</td>\n",
       "      <td>2018 JID Editorial Images</td>\n",
       "      <td>png</td>\n",
       "    </tr>\n",
       "  </tbody>\n",
       "</table>\n",
       "<p>12436 rows × 14 columns</p>\n",
       "</div>"
      ],
      "text/plain": [
       "         image_name  patient_id     sex  age_approx  \\\n",
       "0      ISIC_2637011  IP_7279968    male        45.0   \n",
       "1      ISIC_0015719  IP_3075186  female        45.0   \n",
       "2      ISIC_0052212  IP_2842074  female        50.0   \n",
       "3      ISIC_0068279  IP_6890425  female        45.0   \n",
       "4      ISIC_0074268  IP_8723313  female        55.0   \n",
       "...             ...         ...     ...         ...   \n",
       "12431  ISIC_0024302          -1  female        25.0   \n",
       "12432  ISIC_0024303          -1    male        60.0   \n",
       "12433  ISIC_0024304          -1    male        70.0   \n",
       "12434  ISIC_0024305          -1    male        85.0   \n",
       "12435  ISIC_0036065          -1    male        80.0   \n",
       "\n",
       "      anatom_site_general_challenge                diagnosis benign_malignant  \\\n",
       "0                         head/neck                  unknown           benign   \n",
       "1                   upper extremity                  unknown           benign   \n",
       "2                   lower extremity                    nevus           benign   \n",
       "3                         head/neck                  unknown           benign   \n",
       "4                   upper extremity                  unknown           benign   \n",
       "...                             ...                      ...              ...   \n",
       "12431                           NaN                 melanoma        malignant   \n",
       "12432                           NaN  squamous cell carcinoma        malignant   \n",
       "12433                           NaN  squamous cell carcinoma        malignant   \n",
       "12434                           NaN  squamous cell carcinoma        malignant   \n",
       "12435                           NaN                 melanoma        malignant   \n",
       "\n",
       "       target  tfrecord  width  height  \\\n",
       "0           0         0   6000    4000   \n",
       "1           0         0   6000    4000   \n",
       "2           0         6   1872    1053   \n",
       "3           0         0   1872    1053   \n",
       "4           0        11   6000    4000   \n",
       "...       ...       ...    ...     ...   \n",
       "12431       1        29   3008    2000   \n",
       "12432       1        29   3008    2000   \n",
       "12433       1        29   3008    2000   \n",
       "12434       1        29   4288    2848   \n",
       "12435       1        29   2880    1800   \n",
       "\n",
       "                                                    path  \\\n",
       "0      ../data/ISIC_IMAGES_512x512/ISIC2020/image2020...   \n",
       "1      ../data/ISIC_IMAGES_512x512/ISIC2020/image2020...   \n",
       "2      ../data/ISIC_IMAGES_512x512/ISIC2020/image2020...   \n",
       "3      ../data/ISIC_IMAGES_512x512/ISIC2020/image2020...   \n",
       "4      ../data/ISIC_IMAGES_512x512/ISIC2020/image2020...   \n",
       "...                                                  ...   \n",
       "12431  ../data/ISIC_IMAGES_512x512/Add_ISIC/image_add...   \n",
       "12432  ../data/ISIC_IMAGES_512x512/Add_ISIC/image_add...   \n",
       "12433  ../data/ISIC_IMAGES_512x512/Add_ISIC/image_add...   \n",
       "12434  ../data/ISIC_IMAGES_512x512/Add_ISIC/image_add...   \n",
       "12435  ../data/ISIC_IMAGES_512x512/Add_ISIC/image_add...   \n",
       "\n",
       "                          source  ext  \n",
       "0                            NaN  NaN  \n",
       "1                            NaN  NaN  \n",
       "2                            NaN  NaN  \n",
       "3                            NaN  NaN  \n",
       "4                            NaN  NaN  \n",
       "...                          ...  ...  \n",
       "12431  2018 JID Editorial Images  jpg  \n",
       "12432  2018 JID Editorial Images  jpg  \n",
       "12433  2018 JID Editorial Images  jpg  \n",
       "12434  2018 JID Editorial Images  jpg  \n",
       "12435  2018 JID Editorial Images  png  \n",
       "\n",
       "[12436 rows x 14 columns]"
      ]
     },
     "execution_count": 3,
     "metadata": {},
     "output_type": "execute_result"
    }
   ],
   "source": [
    "# Reading in the final dataset from Data_Exploration.ipynb\n",
    "df = pd.read_csv('../data/ISIC_FINAL_DATASET_512x512.csv')\n",
    "df"
   ]
  },
  {
   "cell_type": "code",
   "execution_count": 4,
   "metadata": {},
   "outputs": [],
   "source": [
    "# Define X and y \n",
    "X = df[['image_name', 'path', 'sex', 'age_approx', 'anatom_site_general_challenge']]\n",
    "y = df['benign_malignant']"
   ]
  },
  {
   "cell_type": "code",
   "execution_count": 5,
   "metadata": {},
   "outputs": [],
   "source": [
    "# Train - Test Set Split\n",
    "X_train, X_test, y_train, y_test = train_test_split(X, y, test_size=0.1, random_state=42)"
   ]
  },
  {
   "cell_type": "code",
   "execution_count": 6,
   "metadata": {},
   "outputs": [],
   "source": [
    "# Train - Validation set Split\n",
    "X_train, X_val, y_train, y_val = train_test_split(X_train, y_train, test_size=0.2, random_state=42)"
   ]
  },
  {
   "cell_type": "code",
   "execution_count": 7,
   "metadata": {},
   "outputs": [
    {
     "name": "stdout",
     "output_type": "stream",
     "text": [
      "Train dataset: \n",
      " benign       4845\n",
      "malignant    4108\n",
      "Name: benign_malignant, dtype: int64\n"
     ]
    },
    {
     "data": {
      "text/html": [
       "<div>\n",
       "<style scoped>\n",
       "    .dataframe tbody tr th:only-of-type {\n",
       "        vertical-align: middle;\n",
       "    }\n",
       "\n",
       "    .dataframe tbody tr th {\n",
       "        vertical-align: top;\n",
       "    }\n",
       "\n",
       "    .dataframe thead th {\n",
       "        text-align: right;\n",
       "    }\n",
       "</style>\n",
       "<table border=\"1\" class=\"dataframe\">\n",
       "  <thead>\n",
       "    <tr style=\"text-align: right;\">\n",
       "      <th></th>\n",
       "      <th>image_name</th>\n",
       "      <th>path</th>\n",
       "      <th>sex</th>\n",
       "      <th>age_approx</th>\n",
       "      <th>anatom_site_general_challenge</th>\n",
       "      <th>benign_malignant</th>\n",
       "    </tr>\n",
       "  </thead>\n",
       "  <tbody>\n",
       "    <tr>\n",
       "      <th>2034</th>\n",
       "      <td>ISIC_0714807</td>\n",
       "      <td>../data/ISIC_IMAGES_512x512/ISIC2020/image2020...</td>\n",
       "      <td>female</td>\n",
       "      <td>20.0</td>\n",
       "      <td>upper extremity</td>\n",
       "      <td>benign</td>\n",
       "    </tr>\n",
       "    <tr>\n",
       "      <th>6216</th>\n",
       "      <td>ISIC_1984995</td>\n",
       "      <td>../data/ISIC_IMAGES_512x512/ISIC2020/image2020...</td>\n",
       "      <td>female</td>\n",
       "      <td>30.0</td>\n",
       "      <td>palms/soles</td>\n",
       "      <td>benign</td>\n",
       "    </tr>\n",
       "    <tr>\n",
       "      <th>1848</th>\n",
       "      <td>ISIC_0663588</td>\n",
       "      <td>../data/ISIC_IMAGES_512x512/ISIC2020/image2020...</td>\n",
       "      <td>male</td>\n",
       "      <td>65.0</td>\n",
       "      <td>torso</td>\n",
       "      <td>benign</td>\n",
       "    </tr>\n",
       "    <tr>\n",
       "      <th>11624</th>\n",
       "      <td>ISIC_0071693</td>\n",
       "      <td>../data/ISIC_IMAGES_512x512/ISIC2019/image2019...</td>\n",
       "      <td>female</td>\n",
       "      <td>40.0</td>\n",
       "      <td>head/neck</td>\n",
       "      <td>malignant</td>\n",
       "    </tr>\n",
       "    <tr>\n",
       "      <th>4775</th>\n",
       "      <td>ISIC_1558731</td>\n",
       "      <td>../data/ISIC_IMAGES_512x512/ISIC2020/image2020...</td>\n",
       "      <td>female</td>\n",
       "      <td>45.0</td>\n",
       "      <td>torso</td>\n",
       "      <td>benign</td>\n",
       "    </tr>\n",
       "    <tr>\n",
       "      <th>...</th>\n",
       "      <td>...</td>\n",
       "      <td>...</td>\n",
       "      <td>...</td>\n",
       "      <td>...</td>\n",
       "      <td>...</td>\n",
       "      <td>...</td>\n",
       "    </tr>\n",
       "    <tr>\n",
       "      <th>2578</th>\n",
       "      <td>ISIC_0884397</td>\n",
       "      <td>../data/ISIC_IMAGES_512x512/ISIC2020/image2020...</td>\n",
       "      <td>male</td>\n",
       "      <td>40.0</td>\n",
       "      <td>torso</td>\n",
       "      <td>benign</td>\n",
       "    </tr>\n",
       "    <tr>\n",
       "      <th>11825</th>\n",
       "      <td>ISIC_0072990</td>\n",
       "      <td>../data/ISIC_IMAGES_512x512/ISIC2019/image2019...</td>\n",
       "      <td>female</td>\n",
       "      <td>50.0</td>\n",
       "      <td>anterior torso</td>\n",
       "      <td>malignant</td>\n",
       "    </tr>\n",
       "    <tr>\n",
       "      <th>672</th>\n",
       "      <td>ISIC_0307958</td>\n",
       "      <td>../data/ISIC_IMAGES_512x512/ISIC2020/image2020...</td>\n",
       "      <td>female</td>\n",
       "      <td>80.0</td>\n",
       "      <td>palms/soles</td>\n",
       "      <td>benign</td>\n",
       "    </tr>\n",
       "    <tr>\n",
       "      <th>6213</th>\n",
       "      <td>ISIC_1984152</td>\n",
       "      <td>../data/ISIC_IMAGES_512x512/ISIC2020/image2020...</td>\n",
       "      <td>female</td>\n",
       "      <td>55.0</td>\n",
       "      <td>torso</td>\n",
       "      <td>benign</td>\n",
       "    </tr>\n",
       "    <tr>\n",
       "      <th>10077</th>\n",
       "      <td>ISIC_0060741</td>\n",
       "      <td>../data/ISIC_IMAGES_512x512/ISIC2019/image2019...</td>\n",
       "      <td>female</td>\n",
       "      <td>45.0</td>\n",
       "      <td>anterior torso</td>\n",
       "      <td>malignant</td>\n",
       "    </tr>\n",
       "  </tbody>\n",
       "</table>\n",
       "<p>8953 rows × 6 columns</p>\n",
       "</div>"
      ],
      "text/plain": [
       "         image_name                                               path  \\\n",
       "2034   ISIC_0714807  ../data/ISIC_IMAGES_512x512/ISIC2020/image2020...   \n",
       "6216   ISIC_1984995  ../data/ISIC_IMAGES_512x512/ISIC2020/image2020...   \n",
       "1848   ISIC_0663588  ../data/ISIC_IMAGES_512x512/ISIC2020/image2020...   \n",
       "11624  ISIC_0071693  ../data/ISIC_IMAGES_512x512/ISIC2019/image2019...   \n",
       "4775   ISIC_1558731  ../data/ISIC_IMAGES_512x512/ISIC2020/image2020...   \n",
       "...             ...                                                ...   \n",
       "2578   ISIC_0884397  ../data/ISIC_IMAGES_512x512/ISIC2020/image2020...   \n",
       "11825  ISIC_0072990  ../data/ISIC_IMAGES_512x512/ISIC2019/image2019...   \n",
       "672    ISIC_0307958  ../data/ISIC_IMAGES_512x512/ISIC2020/image2020...   \n",
       "6213   ISIC_1984152  ../data/ISIC_IMAGES_512x512/ISIC2020/image2020...   \n",
       "10077  ISIC_0060741  ../data/ISIC_IMAGES_512x512/ISIC2019/image2019...   \n",
       "\n",
       "          sex  age_approx anatom_site_general_challenge benign_malignant  \n",
       "2034   female        20.0               upper extremity           benign  \n",
       "6216   female        30.0                   palms/soles           benign  \n",
       "1848     male        65.0                         torso           benign  \n",
       "11624  female        40.0                     head/neck        malignant  \n",
       "4775   female        45.0                         torso           benign  \n",
       "...       ...         ...                           ...              ...  \n",
       "2578     male        40.0                         torso           benign  \n",
       "11825  female        50.0                anterior torso        malignant  \n",
       "672    female        80.0                   palms/soles           benign  \n",
       "6213   female        55.0                         torso           benign  \n",
       "10077  female        45.0                anterior torso        malignant  \n",
       "\n",
       "[8953 rows x 6 columns]"
      ]
     },
     "execution_count": 7,
     "metadata": {},
     "output_type": "execute_result"
    }
   ],
   "source": [
    "# Train dataframe\n",
    "df_train = pd.concat([X_train, y_train], axis=1)\n",
    "print(f\"Train dataset: \\n {df_train['benign_malignant'].value_counts()}\")\n",
    "df_train"
   ]
  },
  {
   "cell_type": "code",
   "execution_count": 8,
   "metadata": {},
   "outputs": [
    {
     "name": "stdout",
     "output_type": "stream",
     "text": [
      "Test dataset: \n",
      " benign       1211\n",
      "malignant    1028\n",
      "Name: benign_malignant, dtype: int64\n"
     ]
    },
    {
     "data": {
      "text/html": [
       "<div>\n",
       "<style scoped>\n",
       "    .dataframe tbody tr th:only-of-type {\n",
       "        vertical-align: middle;\n",
       "    }\n",
       "\n",
       "    .dataframe tbody tr th {\n",
       "        vertical-align: top;\n",
       "    }\n",
       "\n",
       "    .dataframe thead th {\n",
       "        text-align: right;\n",
       "    }\n",
       "</style>\n",
       "<table border=\"1\" class=\"dataframe\">\n",
       "  <thead>\n",
       "    <tr style=\"text-align: right;\">\n",
       "      <th></th>\n",
       "      <th>image_name</th>\n",
       "      <th>path</th>\n",
       "      <th>sex</th>\n",
       "      <th>age_approx</th>\n",
       "      <th>anatom_site_general_challenge</th>\n",
       "      <th>benign_malignant</th>\n",
       "    </tr>\n",
       "  </thead>\n",
       "  <tbody>\n",
       "    <tr>\n",
       "      <th>8227</th>\n",
       "      <td>ISIC_0028219</td>\n",
       "      <td>../data/ISIC_IMAGES_512x512/ISIC2019/image2019...</td>\n",
       "      <td>male</td>\n",
       "      <td>45.0</td>\n",
       "      <td>upper extremity</td>\n",
       "      <td>malignant</td>\n",
       "    </tr>\n",
       "    <tr>\n",
       "      <th>3879</th>\n",
       "      <td>ISIC_1289942</td>\n",
       "      <td>../data/ISIC_IMAGES_512x512/ISIC2020/image2020...</td>\n",
       "      <td>male</td>\n",
       "      <td>60.0</td>\n",
       "      <td>torso</td>\n",
       "      <td>benign</td>\n",
       "    </tr>\n",
       "    <tr>\n",
       "      <th>2819</th>\n",
       "      <td>ISIC_0954236</td>\n",
       "      <td>../data/ISIC_IMAGES_512x512/ISIC2020/image2020...</td>\n",
       "      <td>male</td>\n",
       "      <td>45.0</td>\n",
       "      <td>lower extremity</td>\n",
       "      <td>benign</td>\n",
       "    </tr>\n",
       "    <tr>\n",
       "      <th>11196</th>\n",
       "      <td>ISIC_0068438</td>\n",
       "      <td>../data/ISIC_IMAGES_512x512/ISIC2019/image2019...</td>\n",
       "      <td>female</td>\n",
       "      <td>75.0</td>\n",
       "      <td>palms/soles</td>\n",
       "      <td>malignant</td>\n",
       "    </tr>\n",
       "    <tr>\n",
       "      <th>1808</th>\n",
       "      <td>ISIC_0652205</td>\n",
       "      <td>../data/ISIC_IMAGES_512x512/ISIC2020/image2020...</td>\n",
       "      <td>male</td>\n",
       "      <td>40.0</td>\n",
       "      <td>lower extremity</td>\n",
       "      <td>benign</td>\n",
       "    </tr>\n",
       "    <tr>\n",
       "      <th>...</th>\n",
       "      <td>...</td>\n",
       "      <td>...</td>\n",
       "      <td>...</td>\n",
       "      <td>...</td>\n",
       "      <td>...</td>\n",
       "      <td>...</td>\n",
       "    </tr>\n",
       "    <tr>\n",
       "      <th>10278</th>\n",
       "      <td>ISIC_0062029</td>\n",
       "      <td>../data/ISIC_IMAGES_512x512/ISIC2019/image2019...</td>\n",
       "      <td>female</td>\n",
       "      <td>80.0</td>\n",
       "      <td>anterior torso</td>\n",
       "      <td>malignant</td>\n",
       "    </tr>\n",
       "    <tr>\n",
       "      <th>5484</th>\n",
       "      <td>ISIC_1768051</td>\n",
       "      <td>../data/ISIC_IMAGES_512x512/ISIC2020/image2020...</td>\n",
       "      <td>female</td>\n",
       "      <td>70.0</td>\n",
       "      <td>lower extremity</td>\n",
       "      <td>benign</td>\n",
       "    </tr>\n",
       "    <tr>\n",
       "      <th>4342</th>\n",
       "      <td>ISIC_1431236</td>\n",
       "      <td>../data/ISIC_IMAGES_512x512/ISIC2020/image2020...</td>\n",
       "      <td>female</td>\n",
       "      <td>55.0</td>\n",
       "      <td>torso</td>\n",
       "      <td>benign</td>\n",
       "    </tr>\n",
       "    <tr>\n",
       "      <th>3993</th>\n",
       "      <td>ISIC_1326366</td>\n",
       "      <td>../data/ISIC_IMAGES_512x512/ISIC2020/image2020...</td>\n",
       "      <td>male</td>\n",
       "      <td>65.0</td>\n",
       "      <td>lower extremity</td>\n",
       "      <td>benign</td>\n",
       "    </tr>\n",
       "    <tr>\n",
       "      <th>9652</th>\n",
       "      <td>ISIC_0057828</td>\n",
       "      <td>../data/ISIC_IMAGES_512x512/ISIC2019/image2019...</td>\n",
       "      <td>male</td>\n",
       "      <td>50.0</td>\n",
       "      <td>anterior torso</td>\n",
       "      <td>malignant</td>\n",
       "    </tr>\n",
       "  </tbody>\n",
       "</table>\n",
       "<p>2239 rows × 6 columns</p>\n",
       "</div>"
      ],
      "text/plain": [
       "         image_name                                               path  \\\n",
       "8227   ISIC_0028219  ../data/ISIC_IMAGES_512x512/ISIC2019/image2019...   \n",
       "3879   ISIC_1289942  ../data/ISIC_IMAGES_512x512/ISIC2020/image2020...   \n",
       "2819   ISIC_0954236  ../data/ISIC_IMAGES_512x512/ISIC2020/image2020...   \n",
       "11196  ISIC_0068438  ../data/ISIC_IMAGES_512x512/ISIC2019/image2019...   \n",
       "1808   ISIC_0652205  ../data/ISIC_IMAGES_512x512/ISIC2020/image2020...   \n",
       "...             ...                                                ...   \n",
       "10278  ISIC_0062029  ../data/ISIC_IMAGES_512x512/ISIC2019/image2019...   \n",
       "5484   ISIC_1768051  ../data/ISIC_IMAGES_512x512/ISIC2020/image2020...   \n",
       "4342   ISIC_1431236  ../data/ISIC_IMAGES_512x512/ISIC2020/image2020...   \n",
       "3993   ISIC_1326366  ../data/ISIC_IMAGES_512x512/ISIC2020/image2020...   \n",
       "9652   ISIC_0057828  ../data/ISIC_IMAGES_512x512/ISIC2019/image2019...   \n",
       "\n",
       "          sex  age_approx anatom_site_general_challenge benign_malignant  \n",
       "8227     male        45.0               upper extremity        malignant  \n",
       "3879     male        60.0                         torso           benign  \n",
       "2819     male        45.0               lower extremity           benign  \n",
       "11196  female        75.0                   palms/soles        malignant  \n",
       "1808     male        40.0               lower extremity           benign  \n",
       "...       ...         ...                           ...              ...  \n",
       "10278  female        80.0                anterior torso        malignant  \n",
       "5484   female        70.0               lower extremity           benign  \n",
       "4342   female        55.0                         torso           benign  \n",
       "3993     male        65.0               lower extremity           benign  \n",
       "9652     male        50.0                anterior torso        malignant  \n",
       "\n",
       "[2239 rows x 6 columns]"
      ]
     },
     "execution_count": 8,
     "metadata": {},
     "output_type": "execute_result"
    }
   ],
   "source": [
    "# Validation dataframe\n",
    "df_val = pd.concat([X_val, y_val], axis=1)\n",
    "print(f\"Test dataset: \\n {df_val['benign_malignant'].value_counts()}\")\n",
    "df_val"
   ]
  },
  {
   "cell_type": "code",
   "execution_count": 9,
   "metadata": {},
   "outputs": [
    {
     "name": "stdout",
     "output_type": "stream",
     "text": [
      "Test dataset: \n",
      " benign       694\n",
      "malignant    550\n",
      "Name: benign_malignant, dtype: int64\n"
     ]
    },
    {
     "data": {
      "text/html": [
       "<div>\n",
       "<style scoped>\n",
       "    .dataframe tbody tr th:only-of-type {\n",
       "        vertical-align: middle;\n",
       "    }\n",
       "\n",
       "    .dataframe tbody tr th {\n",
       "        vertical-align: top;\n",
       "    }\n",
       "\n",
       "    .dataframe thead th {\n",
       "        text-align: right;\n",
       "    }\n",
       "</style>\n",
       "<table border=\"1\" class=\"dataframe\">\n",
       "  <thead>\n",
       "    <tr style=\"text-align: right;\">\n",
       "      <th></th>\n",
       "      <th>image_name</th>\n",
       "      <th>path</th>\n",
       "      <th>sex</th>\n",
       "      <th>age_approx</th>\n",
       "      <th>anatom_site_general_challenge</th>\n",
       "      <th>benign_malignant</th>\n",
       "    </tr>\n",
       "  </thead>\n",
       "  <tbody>\n",
       "    <tr>\n",
       "      <th>10405</th>\n",
       "      <td>ISIC_0062914</td>\n",
       "      <td>../data/ISIC_IMAGES_512x512/ISIC2019/image2019...</td>\n",
       "      <td>female</td>\n",
       "      <td>50.0</td>\n",
       "      <td>lower extremity</td>\n",
       "      <td>malignant</td>\n",
       "    </tr>\n",
       "    <tr>\n",
       "      <th>6392</th>\n",
       "      <td>ISIC_2038024</td>\n",
       "      <td>../data/ISIC_IMAGES_512x512/ISIC2020/image2020...</td>\n",
       "      <td>male</td>\n",
       "      <td>45.0</td>\n",
       "      <td>lower extremity</td>\n",
       "      <td>benign</td>\n",
       "    </tr>\n",
       "    <tr>\n",
       "      <th>1483</th>\n",
       "      <td>ISIC_0552960</td>\n",
       "      <td>../data/ISIC_IMAGES_512x512/ISIC2020/image2020...</td>\n",
       "      <td>male</td>\n",
       "      <td>60.0</td>\n",
       "      <td>lower extremity</td>\n",
       "      <td>benign</td>\n",
       "    </tr>\n",
       "    <tr>\n",
       "      <th>4190</th>\n",
       "      <td>ISIC_1384527</td>\n",
       "      <td>../data/ISIC_IMAGES_512x512/ISIC2020/image2020...</td>\n",
       "      <td>female</td>\n",
       "      <td>35.0</td>\n",
       "      <td>lower extremity</td>\n",
       "      <td>benign</td>\n",
       "    </tr>\n",
       "    <tr>\n",
       "      <th>8635</th>\n",
       "      <td>ISIC_0032724</td>\n",
       "      <td>../data/ISIC_IMAGES_512x512/ISIC2019/image2019...</td>\n",
       "      <td>female</td>\n",
       "      <td>50.0</td>\n",
       "      <td>posterior torso</td>\n",
       "      <td>malignant</td>\n",
       "    </tr>\n",
       "    <tr>\n",
       "      <th>...</th>\n",
       "      <td>...</td>\n",
       "      <td>...</td>\n",
       "      <td>...</td>\n",
       "      <td>...</td>\n",
       "      <td>...</td>\n",
       "      <td>...</td>\n",
       "    </tr>\n",
       "    <tr>\n",
       "      <th>8450</th>\n",
       "      <td>ISIC_0030929</td>\n",
       "      <td>../data/ISIC_IMAGES_512x512/ISIC2019/image2019...</td>\n",
       "      <td>female</td>\n",
       "      <td>55.0</td>\n",
       "      <td>upper extremity</td>\n",
       "      <td>malignant</td>\n",
       "    </tr>\n",
       "    <tr>\n",
       "      <th>4949</th>\n",
       "      <td>ISIC_1611285</td>\n",
       "      <td>../data/ISIC_IMAGES_512x512/ISIC2020/image2020...</td>\n",
       "      <td>male</td>\n",
       "      <td>30.0</td>\n",
       "      <td>lower extremity</td>\n",
       "      <td>benign</td>\n",
       "    </tr>\n",
       "    <tr>\n",
       "      <th>2239</th>\n",
       "      <td>ISIC_0772957</td>\n",
       "      <td>../data/ISIC_IMAGES_512x512/ISIC2020/image2020...</td>\n",
       "      <td>male</td>\n",
       "      <td>45.0</td>\n",
       "      <td>torso</td>\n",
       "      <td>benign</td>\n",
       "    </tr>\n",
       "    <tr>\n",
       "      <th>10402</th>\n",
       "      <td>ISIC_0062891</td>\n",
       "      <td>../data/ISIC_IMAGES_512x512/ISIC2019/image2019...</td>\n",
       "      <td>female</td>\n",
       "      <td>35.0</td>\n",
       "      <td>anterior torso</td>\n",
       "      <td>malignant</td>\n",
       "    </tr>\n",
       "    <tr>\n",
       "      <th>12335</th>\n",
       "      <td>ISIC_0012055</td>\n",
       "      <td>../data/ISIC_IMAGES_512x512/Add_ISIC/image_add...</td>\n",
       "      <td>male</td>\n",
       "      <td>85.0</td>\n",
       "      <td>upper extremity</td>\n",
       "      <td>malignant</td>\n",
       "    </tr>\n",
       "  </tbody>\n",
       "</table>\n",
       "<p>1244 rows × 6 columns</p>\n",
       "</div>"
      ],
      "text/plain": [
       "         image_name                                               path  \\\n",
       "10405  ISIC_0062914  ../data/ISIC_IMAGES_512x512/ISIC2019/image2019...   \n",
       "6392   ISIC_2038024  ../data/ISIC_IMAGES_512x512/ISIC2020/image2020...   \n",
       "1483   ISIC_0552960  ../data/ISIC_IMAGES_512x512/ISIC2020/image2020...   \n",
       "4190   ISIC_1384527  ../data/ISIC_IMAGES_512x512/ISIC2020/image2020...   \n",
       "8635   ISIC_0032724  ../data/ISIC_IMAGES_512x512/ISIC2019/image2019...   \n",
       "...             ...                                                ...   \n",
       "8450   ISIC_0030929  ../data/ISIC_IMAGES_512x512/ISIC2019/image2019...   \n",
       "4949   ISIC_1611285  ../data/ISIC_IMAGES_512x512/ISIC2020/image2020...   \n",
       "2239   ISIC_0772957  ../data/ISIC_IMAGES_512x512/ISIC2020/image2020...   \n",
       "10402  ISIC_0062891  ../data/ISIC_IMAGES_512x512/ISIC2019/image2019...   \n",
       "12335  ISIC_0012055  ../data/ISIC_IMAGES_512x512/Add_ISIC/image_add...   \n",
       "\n",
       "          sex  age_approx anatom_site_general_challenge benign_malignant  \n",
       "10405  female        50.0               lower extremity        malignant  \n",
       "6392     male        45.0               lower extremity           benign  \n",
       "1483     male        60.0               lower extremity           benign  \n",
       "4190   female        35.0               lower extremity           benign  \n",
       "8635   female        50.0               posterior torso        malignant  \n",
       "...       ...         ...                           ...              ...  \n",
       "8450   female        55.0               upper extremity        malignant  \n",
       "4949     male        30.0               lower extremity           benign  \n",
       "2239     male        45.0                         torso           benign  \n",
       "10402  female        35.0                anterior torso        malignant  \n",
       "12335    male        85.0               upper extremity        malignant  \n",
       "\n",
       "[1244 rows x 6 columns]"
      ]
     },
     "execution_count": 9,
     "metadata": {},
     "output_type": "execute_result"
    }
   ],
   "source": [
    "# Test (Holdout) dataframe:\n",
    "df_test = pd.concat([X_test, y_test], axis=1)\n",
    "print(f\"Test dataset: \\n {df_test['benign_malignant'].value_counts()}\")\n",
    "df_test"
   ]
  },
  {
   "cell_type": "markdown",
   "metadata": {},
   "source": [
    "## 2. Image Preprocessing"
   ]
  },
  {
   "cell_type": "code",
   "execution_count": 10,
   "metadata": {},
   "outputs": [
    {
     "name": "stdout",
     "output_type": "stream",
     "text": [
      "Found 8953 validated image filenames belonging to 2 classes.\n",
      "Found 2239 validated image filenames belonging to 2 classes.\n",
      "Found 1244 validated image filenames belonging to 2 classes.\n"
     ]
    }
   ],
   "source": [
    "# Instantiating a generator object and normalizing the RGB values:\n",
    "generator = ImageDataGenerator(rescale=1./255)\n",
    "\n",
    "\n",
    "# Creating the generator for the training data\n",
    "train_generator = generator.flow_from_dataframe(df_train, x_col='path', y_col='benign_malignant',\n",
    "                                                # Re-sizing images to 64x64\n",
    "                                                target_size=(64, 64),\n",
    "                                                batch_size=len(df_train),\n",
    "                                                seed=42,\n",
    "                                                class_mode='binary')\n",
    "\n",
    "\n",
    "# Creating the generator for the validation data\n",
    "val_generator = generator.flow_from_dataframe(df_val, x_col='path', y_col='benign_malignant',\n",
    "                                              # Re-sizing images to 64x64\n",
    "                                              target_size=(64, 64),\n",
    "                                              batch_size=len(df_val),\n",
    "                                              seed=42,\n",
    "                                              class_mode='binary')\n",
    "\n",
    "\n",
    "# Setting aside a testing/hold-out set\n",
    "test_generator =  generator.flow_from_dataframe(df_test, x_col='path', y_col='benign_malignant',\n",
    "                                                # Re-sizing images to 64x64\n",
    "                                                target_size=(64, 64),\n",
    "                                                batch_size=len(df_test),\n",
    "                                                seed=42,\n",
    "                                                class_mode='binary')"
   ]
  },
  {
   "cell_type": "code",
   "execution_count": 11,
   "metadata": {},
   "outputs": [
    {
     "data": {
      "text/plain": [
       "{'benign': 0, 'malignant': 1}"
      ]
     },
     "execution_count": 11,
     "metadata": {},
     "output_type": "execute_result"
    }
   ],
   "source": [
    "train_generator.class_indices"
   ]
  },
  {
   "cell_type": "code",
   "execution_count": 12,
   "metadata": {},
   "outputs": [],
   "source": [
    "# Create image and labels data sets by using next() fnc, it returns next item in the generator above:\n",
    "train_images, train_labels = next(train_generator)\n",
    "val_images, val_labels = next(val_generator)\n",
    "test_images, test_labels = next(test_generator)"
   ]
  },
  {
   "cell_type": "code",
   "execution_count": 13,
   "metadata": {},
   "outputs": [
    {
     "name": "stdout",
     "output_type": "stream",
     "text": [
      "Train data set classes, {'benign': 0, 'malignant': 1}\n",
      "Validation data set classes, {'benign': 0, 'malignant': 1}\n",
      "Test data set classes, {'benign': 0, 'malignant': 1}\n"
     ]
    }
   ],
   "source": [
    "# Check classes\n",
    "print(f\"Train data set classes, {train_generator.class_indices}\")\n",
    "print(f\"Validation data set classes, {val_generator.class_indices}\")\n",
    "print(f\"Test data set classes, {test_generator.class_indices}\")"
   ]
  },
  {
   "cell_type": "code",
   "execution_count": 14,
   "metadata": {},
   "outputs": [
    {
     "name": "stdout",
     "output_type": "stream",
     "text": [
      "Number of training samples: 8953\n",
      "Number of validation samples: 2239\n",
      "Number of test samples: 1244\n",
      "train_images shape: (8953, 64, 64, 3)\n",
      "train_labels shape: (8953,)\n",
      "val_images shape: (2239, 64, 64, 3)\n",
      "val_labels shape: (2239,)\n",
      "test_images shape: (1244, 64, 64, 3)\n",
      "test_labels shape: (1244,)\n"
     ]
    }
   ],
   "source": [
    "# Explore dataset again\n",
    "m_train = train_images.shape[0]\n",
    "m_val = val_images.shape[0]\n",
    "m_test = test_images.shape[0]\n",
    "\n",
    "print (\"Number of training samples: \" + str(m_train))\n",
    "print (\"Number of validation samples: \" + str(m_val))\n",
    "print (\"Number of test samples: \" + str(m_test))\n",
    "\n",
    "print (\"train_images shape: \" + str(train_images.shape))   \n",
    "print (\"train_labels shape: \" + str(train_labels.shape))\n",
    "\n",
    "print (\"val_images shape: \" + str(val_images.shape))\n",
    "print (\"val_labels shape: \" + str(val_labels.shape))\n",
    "\n",
    "print (\"test_images shape: \" + str(test_images.shape))\n",
    "print (\"test_labels shape: \" + str(test_labels.shape))"
   ]
  },
  {
   "cell_type": "code",
   "execution_count": 24,
   "metadata": {},
   "outputs": [
    {
     "name": "stdout",
     "output_type": "stream",
     "text": [
      "(8953, 12288)\n",
      "(2239, 12288)\n",
      "(1244, 12288)\n"
     ]
    }
   ],
   "source": [
    "# Reshaping image sets:\n",
    "train_img = train_images.reshape(train_images.shape[0], -1)\n",
    "val_img = val_images.reshape(val_images.shape[0], -1)\n",
    "test_img = test_images.reshape(test_images.shape[0], -1)\n",
    "\n",
    "print(train_img.shape)\n",
    "print(val_img.shape)\n",
    "print(test_img.shape)"
   ]
  },
  {
   "cell_type": "markdown",
   "metadata": {},
   "source": [
    "## 3. Modeling with Pre-Trained Models"
   ]
  },
  {
   "cell_type": "markdown",
   "metadata": {},
   "source": [
    "## 3.1. VGG-16 Model"
   ]
  },
  {
   "cell_type": "markdown",
   "metadata": {},
   "source": [
    "### First iteration "
   ]
  },
  {
   "cell_type": "code",
   "execution_count": 25,
   "metadata": {},
   "outputs": [],
   "source": [
    "# Defined pretrained VGG-16 model:\n",
    "vgg16 = VGG16(weights='imagenet',\n",
    "               include_top=False,\n",
    "               input_shape=(64, 64, 3))"
   ]
  },
  {
   "cell_type": "code",
   "execution_count": 26,
   "metadata": {},
   "outputs": [
    {
     "name": "stdout",
     "output_type": "stream",
     "text": [
      "Model: \"vgg16\"\n",
      "_________________________________________________________________\n",
      "Layer (type)                 Output Shape              Param #   \n",
      "=================================================================\n",
      "input_2 (InputLayer)         [(None, 64, 64, 3)]       0         \n",
      "_________________________________________________________________\n",
      "block1_conv1 (Conv2D)        (None, 64, 64, 64)        1792      \n",
      "_________________________________________________________________\n",
      "block1_conv2 (Conv2D)        (None, 64, 64, 64)        36928     \n",
      "_________________________________________________________________\n",
      "block1_pool (MaxPooling2D)   (None, 32, 32, 64)        0         \n",
      "_________________________________________________________________\n",
      "block2_conv1 (Conv2D)        (None, 32, 32, 128)       73856     \n",
      "_________________________________________________________________\n",
      "block2_conv2 (Conv2D)        (None, 32, 32, 128)       147584    \n",
      "_________________________________________________________________\n",
      "block2_pool (MaxPooling2D)   (None, 16, 16, 128)       0         \n",
      "_________________________________________________________________\n",
      "block3_conv1 (Conv2D)        (None, 16, 16, 256)       295168    \n",
      "_________________________________________________________________\n",
      "block3_conv2 (Conv2D)        (None, 16, 16, 256)       590080    \n",
      "_________________________________________________________________\n",
      "block3_conv3 (Conv2D)        (None, 16, 16, 256)       590080    \n",
      "_________________________________________________________________\n",
      "block3_pool (MaxPooling2D)   (None, 8, 8, 256)         0         \n",
      "_________________________________________________________________\n",
      "block4_conv1 (Conv2D)        (None, 8, 8, 512)         1180160   \n",
      "_________________________________________________________________\n",
      "block4_conv2 (Conv2D)        (None, 8, 8, 512)         2359808   \n",
      "_________________________________________________________________\n",
      "block4_conv3 (Conv2D)        (None, 8, 8, 512)         2359808   \n",
      "_________________________________________________________________\n",
      "block4_pool (MaxPooling2D)   (None, 4, 4, 512)         0         \n",
      "_________________________________________________________________\n",
      "block5_conv1 (Conv2D)        (None, 4, 4, 512)         2359808   \n",
      "_________________________________________________________________\n",
      "block5_conv2 (Conv2D)        (None, 4, 4, 512)         2359808   \n",
      "_________________________________________________________________\n",
      "block5_conv3 (Conv2D)        (None, 4, 4, 512)         2359808   \n",
      "_________________________________________________________________\n",
      "block5_pool (MaxPooling2D)   (None, 2, 2, 512)         0         \n",
      "=================================================================\n",
      "Total params: 14,714,688\n",
      "Trainable params: 14,714,688\n",
      "Non-trainable params: 0\n",
      "_________________________________________________________________\n"
     ]
    }
   ],
   "source": [
    "vgg16.summary()"
   ]
  },
  {
   "cell_type": "code",
   "execution_count": 34,
   "metadata": {},
   "outputs": [],
   "source": [
    "# Define early stop criteria for model:\n",
    "early_stop1 = [\n",
    "    EarlyStopping(monitor='val_accuracy', mode='max', patience=30, restore_best_weights=True),\n",
    "    ModelCheckpoint(filepath='../Saved_Models/model1_vgg16_best_model.h5', monitor='val_accuracy', \n",
    "                    mode='max', save_best_only=True, verbose=1)]\n"
   ]
  },
  {
   "cell_type": "code",
   "execution_count": 35,
   "metadata": {},
   "outputs": [],
   "source": [
    "# Create architecture of the model:\n",
    "model1_vgg16 = models.Sequential()\n",
    "model1_vgg16.add(vgg16)\n",
    "\n",
    "# adding dense layers from CNN iterations final model:\n",
    "model1_vgg16.add(layers.Flatten())\n",
    "model1_vgg16.add(layers.Dense(128, activation='relu'))\n",
    "model1_vgg16.add(layers.Dense(64, activation='relu'))\n",
    "model1_vgg16.add(layers.Dense(32, activation='relu'))\n",
    "model1_vgg16.add(layers.Dense(1, activation='sigmoid'))"
   ]
  },
  {
   "cell_type": "code",
   "execution_count": 36,
   "metadata": {},
   "outputs": [
    {
     "name": "stdout",
     "output_type": "stream",
     "text": [
      "Model: \"sequential_2\"\n",
      "_________________________________________________________________\n",
      "Layer (type)                 Output Shape              Param #   \n",
      "=================================================================\n",
      "vgg16 (Functional)           (None, 2, 2, 512)         14714688  \n",
      "_________________________________________________________________\n",
      "flatten_2 (Flatten)          (None, 2048)              0         \n",
      "_________________________________________________________________\n",
      "dense_6 (Dense)              (None, 128)               262272    \n",
      "_________________________________________________________________\n",
      "dense_7 (Dense)              (None, 64)                8256      \n",
      "_________________________________________________________________\n",
      "dense_8 (Dense)              (None, 32)                2080      \n",
      "_________________________________________________________________\n",
      "dense_9 (Dense)              (None, 1)                 33        \n",
      "=================================================================\n",
      "Total params: 14,987,329\n",
      "Trainable params: 272,641\n",
      "Non-trainable params: 14,714,688\n",
      "_________________________________________________________________\n"
     ]
    }
   ],
   "source": [
    "model1_vgg16.summary()"
   ]
  },
  {
   "cell_type": "code",
   "execution_count": 37,
   "metadata": {},
   "outputs": [],
   "source": [
    "# Make sure that the pretrianed layer is untrainable\n",
    "# We don't want to change the weights durinf optimization\n",
    "vgg16.trainable = False"
   ]
  },
  {
   "cell_type": "code",
   "execution_count": 38,
   "metadata": {},
   "outputs": [
    {
     "name": "stdout",
     "output_type": "stream",
     "text": [
      "vgg16 False\n",
      "flatten_2 True\n",
      "dense_6 True\n",
      "dense_7 True\n",
      "dense_8 True\n",
      "dense_9 True\n"
     ]
    }
   ],
   "source": [
    "# Print out the layers' trainability condition:\n",
    "for layer in model1_vgg16.layers:\n",
    "    print(layer.name, layer.trainable)"
   ]
  },
  {
   "cell_type": "code",
   "execution_count": 39,
   "metadata": {
    "scrolled": true
   },
   "outputs": [
    {
     "name": "stdout",
     "output_type": "stream",
     "text": [
      "Epoch 1/30\n",
      "280/280 [==============================] - ETA: 0s - loss: 0.4577 - accuracy: 0.7930 - recall: 0.7020 - precision: 0.8210 - auc: 0.8620\n",
      "Epoch 00001: val_accuracy improved from 0.81867 to 0.82180, saving model to ../Saved_Models\\vgg16_best_model.h5\n",
      "280/280 [==============================] - 256s 913ms/step - loss: 0.4577 - accuracy: 0.7930 - recall: 0.7020 - precision: 0.8210 - auc: 0.8620 - val_loss: 0.4006 - val_accuracy: 0.8218 - val_recall: 0.7461 - val_precision: 0.8475 - val_auc: 0.8982\n",
      "Epoch 2/30\n",
      "280/280 [==============================] - ETA: 0s - loss: 0.4038 - accuracy: 0.8176 - recall: 0.7519 - precision: 0.8342 - auc: 0.8947\n",
      "Epoch 00002: val_accuracy improved from 0.82180 to 0.82715, saving model to ../Saved_Models\\vgg16_best_model.h5\n",
      "280/280 [==============================] - 273s 975ms/step - loss: 0.4038 - accuracy: 0.8176 - recall: 0.7519 - precision: 0.8342 - auc: 0.8947 - val_loss: 0.3868 - val_accuracy: 0.8272 - val_recall: 0.7198 - val_precision: 0.8820 - val_auc: 0.9092\n",
      "Epoch 3/30\n",
      "280/280 [==============================] - ETA: 0s - loss: 0.3797 - accuracy: 0.8272 - recall: 0.7685 - precision: 0.8412 - auc: 0.9089\n",
      "Epoch 00003: val_accuracy improved from 0.82715 to 0.84145, saving model to ../Saved_Models\\vgg16_best_model.h5\n",
      "280/280 [==============================] - 278s 992ms/step - loss: 0.3797 - accuracy: 0.8272 - recall: 0.7685 - precision: 0.8412 - auc: 0.9089 - val_loss: 0.3686 - val_accuracy: 0.8414 - val_recall: 0.8181 - val_precision: 0.8335 - val_auc: 0.9184\n",
      "Epoch 4/30\n",
      "280/280 [==============================] - ETA: 0s - loss: 0.3704 - accuracy: 0.8322 - recall: 0.7780 - precision: 0.8442 - auc: 0.9129\n",
      "Epoch 00004: val_accuracy improved from 0.84145 to 0.84457, saving model to ../Saved_Models\\vgg16_best_model.h5\n",
      "280/280 [==============================] - 284s 1s/step - loss: 0.3704 - accuracy: 0.8322 - recall: 0.7780 - precision: 0.8442 - auc: 0.9129 - val_loss: 0.3614 - val_accuracy: 0.8446 - val_recall: 0.8317 - val_precision: 0.8301 - val_auc: 0.9206\n",
      "Epoch 5/30\n",
      "280/280 [==============================] - ETA: 0s - loss: 0.3579 - accuracy: 0.8377 - recall: 0.7904 - precision: 0.8458 - auc: 0.9191\n",
      "Epoch 00005: val_accuracy did not improve from 0.84457\n",
      "280/280 [==============================] - 246s 879ms/step - loss: 0.3579 - accuracy: 0.8377 - recall: 0.7904 - precision: 0.8458 - auc: 0.9191 - val_loss: 0.3551 - val_accuracy: 0.8432 - val_recall: 0.7442 - val_precision: 0.8968 - val_auc: 0.9254\n",
      "Epoch 6/30\n",
      "280/280 [==============================] - ETA: 0s - loss: 0.3581 - accuracy: 0.8361 - recall: 0.7902 - precision: 0.8429 - auc: 0.9190\n",
      "Epoch 00006: val_accuracy did not improve from 0.84457\n",
      "280/280 [==============================] - 262s 937ms/step - loss: 0.3581 - accuracy: 0.8361 - recall: 0.7902 - precision: 0.8429 - auc: 0.9190 - val_loss: 0.4041 - val_accuracy: 0.8124 - val_recall: 0.9066 - val_precision: 0.7420 - val_auc: 0.9264\n",
      "Epoch 7/30\n",
      "280/280 [==============================] - ETA: 0s - loss: 0.3432 - accuracy: 0.8441 - recall: 0.8023 - precision: 0.8495 - auc: 0.9257\n",
      "Epoch 00007: val_accuracy did not improve from 0.84457\n",
      "280/280 [==============================] - 255s 910ms/step - loss: 0.3432 - accuracy: 0.8441 - recall: 0.8023 - precision: 0.8495 - auc: 0.9257 - val_loss: 0.4255 - val_accuracy: 0.8035 - val_recall: 0.9270 - val_precision: 0.7231 - val_auc: 0.9291\n",
      "Epoch 8/30\n",
      "280/280 [==============================] - ETA: 0s - loss: 0.3385 - accuracy: 0.8470 - recall: 0.8053 - precision: 0.8530 - auc: 0.9277\n",
      "Epoch 00008: val_accuracy did not improve from 0.84457\n",
      "280/280 [==============================] - 241s 859ms/step - loss: 0.3385 - accuracy: 0.8470 - recall: 0.8053 - precision: 0.8530 - auc: 0.9277 - val_loss: 0.3922 - val_accuracy: 0.8218 - val_recall: 0.9134 - val_precision: 0.7518 - val_auc: 0.9325\n",
      "Epoch 9/30\n",
      "280/280 [==============================] - ETA: 0s - loss: 0.3313 - accuracy: 0.8549 - recall: 0.8167 - precision: 0.8600 - auc: 0.9306\n",
      "Epoch 00009: val_accuracy improved from 0.84457 to 0.85753, saving model to ../Saved_Models\\vgg16_best_model.h5\n",
      "280/280 [==============================] - 261s 933ms/step - loss: 0.3313 - accuracy: 0.8549 - recall: 0.8167 - precision: 0.8600 - auc: 0.9306 - val_loss: 0.3286 - val_accuracy: 0.8575 - val_recall: 0.8152 - val_precision: 0.8666 - val_auc: 0.9328\n",
      "Epoch 10/30\n",
      "280/280 [==============================] - ETA: 0s - loss: 0.3269 - accuracy: 0.8555 - recall: 0.8155 - precision: 0.8621 - auc: 0.9325\n",
      "Epoch 00010: val_accuracy did not improve from 0.85753\n",
      "280/280 [==============================] - 253s 904ms/step - loss: 0.3269 - accuracy: 0.8555 - recall: 0.8155 - precision: 0.8621 - auc: 0.9325 - val_loss: 0.3202 - val_accuracy: 0.8566 - val_recall: 0.8346 - val_precision: 0.8503 - val_auc: 0.9362\n",
      "Epoch 11/30\n",
      "280/280 [==============================] - ETA: 0s - loss: 0.3189 - accuracy: 0.8571 - recall: 0.8208 - precision: 0.8613 - auc: 0.9364\n",
      "Epoch 00011: val_accuracy did not improve from 0.85753\n",
      "280/280 [==============================] - 236s 842ms/step - loss: 0.3189 - accuracy: 0.8571 - recall: 0.8208 - precision: 0.8613 - auc: 0.9364 - val_loss: 0.3538 - val_accuracy: 0.8428 - val_recall: 0.7130 - val_precision: 0.9278 - val_auc: 0.9366\n",
      "Epoch 12/30\n",
      "280/280 [==============================] - ETA: 0s - loss: 0.3194 - accuracy: 0.8564 - recall: 0.8206 - precision: 0.8599 - auc: 0.9359\n",
      "Epoch 00012: val_accuracy did not improve from 0.85753\n",
      "280/280 [==============================] - 258s 922ms/step - loss: 0.3194 - accuracy: 0.8564 - recall: 0.8206 - precision: 0.8599 - auc: 0.9359 - val_loss: 0.3664 - val_accuracy: 0.8307 - val_recall: 0.6761 - val_precision: 0.9379 - val_auc: 0.9372\n",
      "Epoch 13/30\n",
      "280/280 [==============================] - ETA: 0s - loss: 0.3201 - accuracy: 0.8547 - recall: 0.8201 - precision: 0.8570 - auc: 0.9351\n",
      "Epoch 00013: val_accuracy improved from 0.85753 to 0.85797, saving model to ../Saved_Models\\vgg16_best_model.h5\n",
      "280/280 [==============================] - 246s 877ms/step - loss: 0.3201 - accuracy: 0.8547 - recall: 0.8201 - precision: 0.8570 - auc: 0.9351 - val_loss: 0.3141 - val_accuracy: 0.8580 - val_recall: 0.8210 - val_precision: 0.8630 - val_auc: 0.9379\n",
      "Epoch 14/30\n",
      "280/280 [==============================] - ETA: 0s - loss: 0.3183 - accuracy: 0.8585 - recall: 0.8230 - precision: 0.8623 - auc: 0.9358\n",
      "Epoch 00014: val_accuracy improved from 0.85797 to 0.85842, saving model to ../Saved_Models\\vgg16_best_model.h5\n",
      "280/280 [==============================] - 255s 910ms/step - loss: 0.3183 - accuracy: 0.8585 - recall: 0.8230 - precision: 0.8623 - auc: 0.9358 - val_loss: 0.3198 - val_accuracy: 0.8584 - val_recall: 0.8599 - val_precision: 0.8363 - val_auc: 0.9376\n",
      "Epoch 15/30\n",
      "280/280 [==============================] - ETA: 0s - loss: 0.3115 - accuracy: 0.8596 - recall: 0.8291 - precision: 0.8599 - auc: 0.9390\n",
      "Epoch 00015: val_accuracy did not improve from 0.85842\n",
      "280/280 [==============================] - 258s 922ms/step - loss: 0.3115 - accuracy: 0.8596 - recall: 0.8291 - precision: 0.8599 - auc: 0.9390 - val_loss: 0.4484 - val_accuracy: 0.8079 - val_recall: 0.6109 - val_precision: 0.9544 - val_auc: 0.9364\n",
      "Epoch 16/30\n",
      "280/280 [==============================] - ETA: 0s - loss: 0.3038 - accuracy: 0.8632 - recall: 0.8264 - precision: 0.8690 - auc: 0.9417\n",
      "Epoch 00016: val_accuracy improved from 0.85842 to 0.85887, saving model to ../Saved_Models\\vgg16_best_model.h5\n",
      "280/280 [==============================] - 242s 864ms/step - loss: 0.3038 - accuracy: 0.8632 - recall: 0.8264 - precision: 0.8690 - auc: 0.9417 - val_loss: 0.3200 - val_accuracy: 0.8589 - val_recall: 0.7704 - val_precision: 0.9083 - val_auc: 0.9397\n",
      "Epoch 17/30\n",
      "280/280 [==============================] - ETA: 0s - loss: 0.3020 - accuracy: 0.8646 - recall: 0.8306 - precision: 0.8686 - auc: 0.9424\n",
      "Epoch 00017: val_accuracy did not improve from 0.85887\n",
      "280/280 [==============================] - 252s 901ms/step - loss: 0.3020 - accuracy: 0.8646 - recall: 0.8306 - precision: 0.8686 - auc: 0.9424 - val_loss: 0.3098 - val_accuracy: 0.8589 - val_recall: 0.8716 - val_precision: 0.8296 - val_auc: 0.9417\n",
      "Epoch 18/30\n",
      "280/280 [==============================] - ETA: 0s - loss: 0.2986 - accuracy: 0.8646 - recall: 0.8347 - precision: 0.8655 - auc: 0.9434\n",
      "Epoch 00018: val_accuracy did not improve from 0.85887\n",
      "280/280 [==============================] - 254s 907ms/step - loss: 0.2986 - accuracy: 0.8646 - recall: 0.8347 - precision: 0.8655 - auc: 0.9434 - val_loss: 0.3327 - val_accuracy: 0.8464 - val_recall: 0.7383 - val_precision: 0.9101 - val_auc: 0.9397\n",
      "Epoch 19/30\n",
      "280/280 [==============================] - ETA: 0s - loss: 0.2973 - accuracy: 0.8690 - recall: 0.8384 - precision: 0.8712 - auc: 0.9439\n",
      "Epoch 00019: val_accuracy improved from 0.85887 to 0.86467, saving model to ../Saved_Models\\vgg16_best_model.h5\n",
      "280/280 [==============================] - 248s 887ms/step - loss: 0.2973 - accuracy: 0.8690 - recall: 0.8384 - precision: 0.8712 - auc: 0.9439 - val_loss: 0.3073 - val_accuracy: 0.8647 - val_recall: 0.8677 - val_precision: 0.8423 - val_auc: 0.9420\n",
      "Epoch 20/30\n",
      "280/280 [==============================] - ETA: 0s - loss: 0.2914 - accuracy: 0.8695 - recall: 0.8354 - precision: 0.8746 - auc: 0.9465\n",
      "Epoch 00020: val_accuracy improved from 0.86467 to 0.86646, saving model to ../Saved_Models\\vgg16_best_model.h5\n",
      "280/280 [==============================] - 255s 912ms/step - loss: 0.2914 - accuracy: 0.8695 - recall: 0.8354 - precision: 0.8746 - auc: 0.9465 - val_loss: 0.3009 - val_accuracy: 0.8665 - val_recall: 0.8337 - val_precision: 0.8701 - val_auc: 0.9428\n",
      "Epoch 21/30\n",
      "280/280 [==============================] - ETA: 0s - loss: 0.2890 - accuracy: 0.8710 - recall: 0.8413 - precision: 0.8729 - auc: 0.9473\n",
      "Epoch 00021: val_accuracy did not improve from 0.86646\n",
      "280/280 [==============================] - 287s 1s/step - loss: 0.2890 - accuracy: 0.8710 - recall: 0.8413 - precision: 0.8729 - auc: 0.9473 - val_loss: 0.3095 - val_accuracy: 0.8593 - val_recall: 0.8444 - val_precision: 0.8485 - val_auc: 0.9397\n",
      "Epoch 22/30\n",
      "280/280 [==============================] - ETA: 0s - loss: 0.2865 - accuracy: 0.8733 - recall: 0.8423 - precision: 0.8768 - auc: 0.9481\n",
      "Epoch 00022: val_accuracy did not improve from 0.86646\n",
      "280/280 [==============================] - 259s 926ms/step - loss: 0.2865 - accuracy: 0.8733 - recall: 0.8423 - precision: 0.8768 - auc: 0.9481 - val_loss: 0.3036 - val_accuracy: 0.8660 - val_recall: 0.8453 - val_precision: 0.8604 - val_auc: 0.9426\n",
      "Epoch 23/30\n",
      "280/280 [==============================] - ETA: 0s - loss: 0.2889 - accuracy: 0.8718 - recall: 0.8410 - precision: 0.8747 - auc: 0.9470\n",
      "Epoch 00023: val_accuracy improved from 0.86646 to 0.87137, saving model to ../Saved_Models\\vgg16_best_model.h5\n",
      "280/280 [==============================] - 258s 920ms/step - loss: 0.2889 - accuracy: 0.8718 - recall: 0.8410 - precision: 0.8747 - auc: 0.9470 - val_loss: 0.2983 - val_accuracy: 0.8714 - val_recall: 0.8220 - val_precision: 0.8895 - val_auc: 0.9443\n",
      "Epoch 24/30\n",
      "280/280 [==============================] - ETA: 0s - loss: 0.2850 - accuracy: 0.8753 - recall: 0.8447 - precision: 0.8789 - auc: 0.9484\n",
      "Epoch 00024: val_accuracy did not improve from 0.87137\n",
      "280/280 [==============================] - 281s 1s/step - loss: 0.2850 - accuracy: 0.8753 - recall: 0.8447 - precision: 0.8789 - auc: 0.9484 - val_loss: 0.3385 - val_accuracy: 0.8459 - val_recall: 0.7062 - val_precision: 0.9441 - val_auc: 0.9439\n",
      "Epoch 25/30\n",
      "280/280 [==============================] - ETA: 0s - loss: 0.2831 - accuracy: 0.8746 - recall: 0.8408 - precision: 0.8804 - auc: 0.9491\n",
      "Epoch 00025: val_accuracy did not improve from 0.87137\n",
      "280/280 [==============================] - 269s 959ms/step - loss: 0.2831 - accuracy: 0.8746 - recall: 0.8408 - precision: 0.8804 - auc: 0.9491 - val_loss: 0.3208 - val_accuracy: 0.8544 - val_recall: 0.8979 - val_precision: 0.8068 - val_auc: 0.9434\n",
      "Epoch 26/30\n",
      "280/280 [==============================] - ETA: 0s - loss: 0.2780 - accuracy: 0.8803 - recall: 0.8505 - precision: 0.8841 - auc: 0.9508\n",
      "Epoch 00026: val_accuracy did not improve from 0.87137\n",
      "280/280 [==============================] - 250s 894ms/step - loss: 0.2780 - accuracy: 0.8803 - recall: 0.8505 - precision: 0.8841 - auc: 0.9508 - val_loss: 0.4462 - val_accuracy: 0.7803 - val_recall: 0.5340 - val_precision: 0.9769 - val_auc: 0.9420\n",
      "Epoch 27/30\n",
      "280/280 [==============================] - ETA: 0s - loss: 0.2779 - accuracy: 0.8771 - recall: 0.8425 - precision: 0.8843 - auc: 0.9508\n",
      "Epoch 00027: val_accuracy did not improve from 0.87137\n",
      "280/280 [==============================] - 275s 983ms/step - loss: 0.2779 - accuracy: 0.8771 - recall: 0.8425 - precision: 0.8843 - auc: 0.9508 - val_loss: 0.2994 - val_accuracy: 0.8660 - val_recall: 0.8589 - val_precision: 0.8507 - val_auc: 0.9437\n",
      "Epoch 28/30\n",
      "280/280 [==============================] - ETA: 0s - loss: 0.2779 - accuracy: 0.8775 - recall: 0.8452 - precision: 0.8828 - auc: 0.9507\n",
      "Epoch 00028: val_accuracy did not improve from 0.87137\n",
      "280/280 [==============================] - 277s 989ms/step - loss: 0.2779 - accuracy: 0.8775 - recall: 0.8452 - precision: 0.8828 - auc: 0.9507 - val_loss: 0.2984 - val_accuracy: 0.8691 - val_recall: 0.8570 - val_precision: 0.8578 - val_auc: 0.9442\n",
      "Epoch 29/30\n",
      "280/280 [==============================] - ETA: 0s - loss: 0.2725 - accuracy: 0.8802 - recall: 0.8479 - precision: 0.8860 - auc: 0.9529\n",
      "Epoch 00029: val_accuracy did not improve from 0.87137\n",
      "280/280 [==============================] - 269s 962ms/step - loss: 0.2725 - accuracy: 0.8802 - recall: 0.8479 - precision: 0.8860 - auc: 0.9529 - val_loss: 0.2963 - val_accuracy: 0.8709 - val_recall: 0.8385 - val_precision: 0.8751 - val_auc: 0.9450\n",
      "Epoch 30/30\n",
      "280/280 [==============================] - ETA: 0s - loss: 0.2728 - accuracy: 0.8814 - recall: 0.8518 - precision: 0.8854 - auc: 0.9527\n",
      "Epoch 00030: val_accuracy did not improve from 0.87137\n",
      "280/280 [==============================] - 277s 991ms/step - loss: 0.2728 - accuracy: 0.8814 - recall: 0.8518 - precision: 0.8854 - auc: 0.9527 - val_loss: 0.3081 - val_accuracy: 0.8665 - val_recall: 0.7986 - val_precision: 0.8992 - val_auc: 0.9424\n"
     ]
    }
   ],
   "source": [
    "# Compile and fit the model:\n",
    "model1_vgg16.compile(optimizer='sgd',\n",
    "              loss='binary_crossentropy',\n",
    "             metrics=['accuracy', 'Recall', 'Precision', 'AUC'])\n",
    "\n",
    "model1_vgg16_history = model1_vgg16.fit(train_images,\n",
    "                    train_labels,\n",
    "                    epochs=30,\n",
    "                    batch_size=32,  # mini batches of 32 units!\n",
    "                    callbacks = early_stop,\n",
    "                    validation_data=(val_images, val_labels))"
   ]
  },
  {
   "cell_type": "code",
   "execution_count": 40,
   "metadata": {},
   "outputs": [
    {
     "data": {
      "image/png": "[encoded data removed]",
      "text/plain": [
       "<Figure size 576x360 with 1 Axes>"
      ]
     },
     "metadata": {
      "needs_background": "light"
     },
     "output_type": "display_data"
    },
    {
     "data": {
      "image/png": "[encoded data removed]",
      "text/plain": [
       "<Figure size 576x360 with 1 Axes>"
      ]
     },
     "metadata": {
      "needs_background": "light"
     },
     "output_type": "display_data"
    }
   ],
   "source": [
    "# Visualize the modeling results:\n",
    "visualize_modeling_results(model1_vgg16_history)"
   ]
  },
  {
   "cell_type": "code",
   "execution_count": 41,
   "metadata": {},
   "outputs": [
    {
     "data": {
      "image/png": "[encoded data removed]",
      "text/plain": [
       "<Figure size 432x288 with 2 Axes>"
      ]
     },
     "metadata": {
      "needs_background": "light"
     },
     "output_type": "display_data"
    }
   ],
   "source": [
    "# Plot confusion matrix:\n",
    "model1_vgg16_predictions = (model1_vgg16.predict(val_images) > 0.5).astype(\"int32\")\n",
    "model1_vgg16_cm = confusion_matrix(val_labels, model1_vgg16_predictions)\n",
    "model1_vgg16_disp = ConfusionMatrixDisplay(confusion_matrix=model1_vgg16_cm, display_labels=['Benign', 'Malignant'])\n",
    "model1_vgg16_disp.plot()\n",
    "plt.show()"
   ]
  },
  {
   "cell_type": "code",
   "execution_count": 42,
   "metadata": {},
   "outputs": [
    {
     "data": {
      "image/png": "[encoded data removed]",
      "text/plain": [
       "<Figure size 432x288 with 2 Axes>"
      ]
     },
     "metadata": {
      "needs_background": "light"
     },
     "output_type": "display_data"
    }
   ],
   "source": [
    "# Plot confusion matrix with percentages:\n",
    "model1_vgg16_predictions = (model1_vgg16.predict(val_images) > 0.5).astype(\"int32\")\n",
    "model1_vgg16_cm = confusion_matrix(val_labels, model1_vgg16_predictions, normalize='true')\n",
    "model1_vgg16_disp = ConfusionMatrixDisplay(confusion_matrix=model1_vgg16_cm, display_labels=['Benign', 'Malignant'])\n",
    "model1_vgg16_disp.plot()\n",
    "plt.show()"
   ]
  },
  {
   "cell_type": "code",
   "execution_count": 43,
   "metadata": {},
   "outputs": [
    {
     "name": "stdout",
     "output_type": "stream",
     "text": [
      "280/280 [==============================] - 221s 790ms/step - loss: 0.2578 - accuracy: 0.8873 - recall: 0.8208 - precision: 0.9251 - auc: 0.9603\n",
      "70/70 [==============================] - 55s 790ms/step - loss: 0.3081 - accuracy: 0.8665 - recall: 0.7986 - precision: 0.8992 - auc: 0.9424\n"
     ]
    },
    {
     "data": {
      "text/html": [
       "<div>\n",
       "<style scoped>\n",
       "    .dataframe tbody tr th:only-of-type {\n",
       "        vertical-align: middle;\n",
       "    }\n",
       "\n",
       "    .dataframe tbody tr th {\n",
       "        vertical-align: top;\n",
       "    }\n",
       "\n",
       "    .dataframe thead th {\n",
       "        text-align: right;\n",
       "    }\n",
       "</style>\n",
       "<table border=\"1\" class=\"dataframe\">\n",
       "  <thead>\n",
       "    <tr style=\"text-align: right;\">\n",
       "      <th></th>\n",
       "      <th>Loss</th>\n",
       "      <th>Accuracy</th>\n",
       "      <th>Recall</th>\n",
       "      <th>Precision</th>\n",
       "      <th>AUC</th>\n",
       "    </tr>\n",
       "  </thead>\n",
       "  <tbody>\n",
       "    <tr>\n",
       "      <th>Train</th>\n",
       "      <td>0.257814</td>\n",
       "      <td>0.8873</td>\n",
       "      <td>0.820837</td>\n",
       "      <td>0.925103</td>\n",
       "      <td>0.960289</td>\n",
       "    </tr>\n",
       "    <tr>\n",
       "      <th>Validation</th>\n",
       "      <td>0.308099</td>\n",
       "      <td>0.866458</td>\n",
       "      <td>0.798638</td>\n",
       "      <td>0.899233</td>\n",
       "      <td>0.942421</td>\n",
       "    </tr>\n",
       "  </tbody>\n",
       "</table>\n",
       "</div>"
      ],
      "text/plain": [
       "                Loss  Accuracy    Recall Precision       AUC\n",
       "Train       0.257814    0.8873  0.820837  0.925103  0.960289\n",
       "Validation  0.308099  0.866458  0.798638  0.899233  0.942421"
      ]
     },
     "execution_count": 43,
     "metadata": {},
     "output_type": "execute_result"
    }
   ],
   "source": [
    "# Evaluate train and validation set:\n",
    "model1_vgg16_results_train = model1_vgg16.evaluate(train_images, train_labels)\n",
    "model1_vgg16_results_validation = model1_vgg16.evaluate(val_images, val_labels)\n",
    "\n",
    "\n",
    "# Construct a new dataframe to save results:\n",
    "model1_vgg16_results = pd.DataFrame(columns = ['Loss' , 'Accuracy', 'Recall', 'Precision', 'AUC'],\n",
    "                      index = ['Train', 'Validation'])\n",
    "\n",
    "for i in range(5):\n",
    "    model1_vgg16_results[model1_vgg16_results.columns[i]]['Train'] = model1_vgg16_results_train[i]\n",
    "    model1_vgg16_results[model1_vgg16_results.columns[i]]['Validation'] = model1_vgg16_results_validation[i]\n",
    "    \n",
    "model1_vgg16_results"
   ]
  },
  {
   "cell_type": "code",
   "execution_count": 60,
   "metadata": {},
   "outputs": [],
   "source": [
    "# Save the model results\n",
    "model1_vgg16_results.to_csv('../Saved_Models/model1_vgg16_results.csv', index=False)"
   ]
  },
  {
   "cell_type": "code",
   "execution_count": 61,
   "metadata": {},
   "outputs": [
    {
     "name": "stdout",
     "output_type": "stream",
     "text": [
      "Saved model to disk\n"
     ]
    }
   ],
   "source": [
    "# Save the model\n",
    "model1_vgg16.save('../Saved_Models/model1_vgg16_final.h5')\n",
    "print(\"Saved model to disk\")"
   ]
  },
  {
   "cell_type": "markdown",
   "metadata": {},
   "source": [
    "**Analysis:** This VGG16 model got 88% accuracy for training set and 86% accuracy for validation set. Also recall scores are not very good, 82% for training set and 79% for validation set. I will try another VGG16 model with more complex dense layers."
   ]
  },
  {
   "cell_type": "markdown",
   "metadata": {},
   "source": [
    "### Second Iteration"
   ]
  },
  {
   "cell_type": "code",
   "execution_count": 47,
   "metadata": {},
   "outputs": [],
   "source": [
    "# Defined pretrained VGG-16 model:\n",
    "vgg16 = VGG16(weights='imagenet',\n",
    "               include_top=False,\n",
    "               input_shape=(64, 64, 3))"
   ]
  },
  {
   "cell_type": "code",
   "execution_count": 48,
   "metadata": {},
   "outputs": [],
   "source": [
    "# Create architecture of the model:\n",
    "model2_vgg16 = models.Sequential()\n",
    "model2_vgg16.add(vgg16)\n",
    "\n",
    "# adding more dense layers of CNN iterations from final model:\n",
    "model2_vgg16.add(layers.Flatten())\n",
    "\n",
    "model2_vgg16.add(Dense(32, activation='relu', kernel_regularizer=l2(l2=0.001)))\n",
    "model2_vgg16.add(BatchNormalization())\n",
    "\n",
    "model2_vgg16.add(Dense(64, activation='relu', kernel_regularizer=l2(l2=0.001)))\n",
    "model2_vgg16.add(BatchNormalization())\n",
    "\n",
    "model2_vgg16.add(Dense(128, activation='relu', kernel_regularizer=l2(l2=0.001)))\n",
    "model2_vgg16.add(BatchNormalization())\n",
    "\n",
    "model2_vgg16.add(Dense(128, activation='relu', kernel_regularizer=l2(l2=0.001)))\n",
    "model2_vgg16.add(layers.Dense(1, activation='sigmoid'))"
   ]
  },
  {
   "cell_type": "code",
   "execution_count": 49,
   "metadata": {},
   "outputs": [
    {
     "name": "stdout",
     "output_type": "stream",
     "text": [
      "Model: \"sequential_3\"\n",
      "_________________________________________________________________\n",
      "Layer (type)                 Output Shape              Param #   \n",
      "=================================================================\n",
      "vgg16 (Functional)           (None, 2, 2, 512)         14714688  \n",
      "_________________________________________________________________\n",
      "flatten_3 (Flatten)          (None, 2048)              0         \n",
      "_________________________________________________________________\n",
      "dense_10 (Dense)             (None, 32)                65568     \n",
      "_________________________________________________________________\n",
      "batch_normalization (BatchNo (None, 32)                128       \n",
      "_________________________________________________________________\n",
      "dense_11 (Dense)             (None, 64)                2112      \n",
      "_________________________________________________________________\n",
      "batch_normalization_1 (Batch (None, 64)                256       \n",
      "_________________________________________________________________\n",
      "dense_12 (Dense)             (None, 128)               8320      \n",
      "_________________________________________________________________\n",
      "batch_normalization_2 (Batch (None, 128)               512       \n",
      "_________________________________________________________________\n",
      "dense_13 (Dense)             (None, 128)               16512     \n",
      "_________________________________________________________________\n",
      "dense_14 (Dense)             (None, 1)                 129       \n",
      "=================================================================\n",
      "Total params: 14,808,225\n",
      "Trainable params: 14,807,777\n",
      "Non-trainable params: 448\n",
      "_________________________________________________________________\n"
     ]
    }
   ],
   "source": [
    "model2_vgg16.summary()"
   ]
  },
  {
   "cell_type": "code",
   "execution_count": 50,
   "metadata": {},
   "outputs": [],
   "source": [
    "# Make sure that the pretrianed layers are untrainable\n",
    "vgg16.trainable = False"
   ]
  },
  {
   "cell_type": "code",
   "execution_count": 51,
   "metadata": {},
   "outputs": [
    {
     "name": "stdout",
     "output_type": "stream",
     "text": [
      "vgg16 False\n",
      "flatten_3 True\n",
      "dense_10 True\n",
      "batch_normalization True\n",
      "dense_11 True\n",
      "batch_normalization_1 True\n",
      "dense_12 True\n",
      "batch_normalization_2 True\n",
      "dense_13 True\n",
      "dense_14 True\n"
     ]
    }
   ],
   "source": [
    "# Print out the layers' trainability condition:\n",
    "for layer in model2_vgg16.layers:\n",
    "    print(layer.name, layer.trainable)"
   ]
  },
  {
   "cell_type": "code",
   "execution_count": 52,
   "metadata": {},
   "outputs": [],
   "source": [
    "# Define early stop criteria for model:\n",
    "early_stop2 = [\n",
    "    EarlyStopping(monitor='val_accuracy', mode='max', patience=30, restore_best_weights=True),\n",
    "    ModelCheckpoint(filepath='../Saved_Models/model2_vgg16_best_model.h5', monitor='val_accuracy', \n",
    "                    mode='max', save_best_only=True, verbose=1)]\n"
   ]
  },
  {
   "cell_type": "code",
   "execution_count": 53,
   "metadata": {},
   "outputs": [
    {
     "name": "stdout",
     "output_type": "stream",
     "text": [
      "Epoch 1/30\n",
      "280/280 [==============================] - ETA: 0s - loss: 0.7101 - accuracy: 0.8227 - recall: 0.8006 - precision: 0.8107 - auc: 0.9018\n",
      "Epoch 00001: val_accuracy improved from -inf to 0.84725, saving model to ../Saved_Models\\model2_vgg16_best_model.h5\n",
      "280/280 [==============================] - 214s 763ms/step - loss: 0.7101 - accuracy: 0.8227 - recall: 0.8006 - precision: 0.8107 - auc: 0.9018 - val_loss: 0.6848 - val_accuracy: 0.8473 - val_recall: 0.7802 - val_precision: 0.8736 - val_auc: 0.9249\n",
      "Epoch 2/30\n",
      "280/280 [==============================] - ETA: 0s - loss: 0.6385 - accuracy: 0.8555 - recall: 0.8247 - precision: 0.8551 - auc: 0.9337\n",
      "Epoch 00002: val_accuracy did not improve from 0.84725\n",
      "280/280 [==============================] - 275s 982ms/step - loss: 0.6385 - accuracy: 0.8555 - recall: 0.8247 - precision: 0.8551 - auc: 0.9337 - val_loss: 0.6723 - val_accuracy: 0.8267 - val_recall: 0.9115 - val_precision: 0.7593 - val_auc: 0.9337\n",
      "Epoch 3/30\n",
      "280/280 [==============================] - ETA: 0s - loss: 0.6160 - accuracy: 0.8618 - recall: 0.8374 - precision: 0.8581 - auc: 0.9413\n",
      "Epoch 00003: val_accuracy improved from 0.84725 to 0.85931, saving model to ../Saved_Models\\model2_vgg16_best_model.h5\n",
      "280/280 [==============================] - 247s 883ms/step - loss: 0.6160 - accuracy: 0.8618 - recall: 0.8374 - precision: 0.8581 - auc: 0.9413 - val_loss: 0.6195 - val_accuracy: 0.8593 - val_recall: 0.8356 - val_precision: 0.8547 - val_auc: 0.9393\n",
      "Epoch 4/30\n",
      "280/280 [==============================] - ETA: 0s - loss: 0.5943 - accuracy: 0.8750 - recall: 0.8452 - precision: 0.8779 - auc: 0.9485\n",
      "Epoch 00004: val_accuracy did not improve from 0.85931\n",
      "280/280 [==============================] - 259s 924ms/step - loss: 0.5943 - accuracy: 0.8750 - recall: 0.8452 - precision: 0.8779 - auc: 0.9485 - val_loss: 0.6390 - val_accuracy: 0.8580 - val_recall: 0.8949 - val_precision: 0.8142 - val_auc: 0.9372\n",
      "Epoch 5/30\n",
      "280/280 [==============================] - ETA: 0s - loss: 0.5730 - accuracy: 0.8835 - recall: 0.8583 - precision: 0.8844 - auc: 0.9545\n",
      "Epoch 00005: val_accuracy improved from 0.85931 to 0.86646, saving model to ../Saved_Models\\model2_vgg16_best_model.h5\n",
      "280/280 [==============================] - 263s 941ms/step - loss: 0.5730 - accuracy: 0.8835 - recall: 0.8583 - precision: 0.8844 - auc: 0.9545 - val_loss: 0.6065 - val_accuracy: 0.8665 - val_recall: 0.7918 - val_precision: 0.9055 - val_auc: 0.9456\n",
      "Epoch 6/30\n",
      "280/280 [==============================] - ETA: 0s - loss: 0.5698 - accuracy: 0.8838 - recall: 0.8544 - precision: 0.8882 - auc: 0.9548\n",
      "Epoch 00006: val_accuracy did not improve from 0.86646\n",
      "280/280 [==============================] - 263s 939ms/step - loss: 0.5698 - accuracy: 0.8838 - recall: 0.8544 - precision: 0.8882 - auc: 0.9548 - val_loss: 0.6556 - val_accuracy: 0.8441 - val_recall: 0.6926 - val_precision: 0.9557 - val_auc: 0.9442\n",
      "Epoch 7/30\n",
      "280/280 [==============================] - ETA: 0s - loss: 0.5588 - accuracy: 0.8866 - recall: 0.8561 - precision: 0.8924 - auc: 0.9575\n",
      "Epoch 00007: val_accuracy improved from 0.86646 to 0.87450, saving model to ../Saved_Models\\model2_vgg16_best_model.h5\n",
      "280/280 [==============================] - 244s 870ms/step - loss: 0.5588 - accuracy: 0.8866 - recall: 0.8561 - precision: 0.8924 - auc: 0.9575 - val_loss: 0.5951 - val_accuracy: 0.8745 - val_recall: 0.8502 - val_precision: 0.8731 - val_auc: 0.9447\n",
      "Epoch 8/30\n",
      "280/280 [==============================] - ETA: 0s - loss: 0.5384 - accuracy: 0.8975 - recall: 0.8744 - precision: 0.8993 - auc: 0.9629\n",
      "Epoch 00008: val_accuracy did not improve from 0.87450\n",
      "280/280 [==============================] - 262s 936ms/step - loss: 0.5384 - accuracy: 0.8975 - recall: 0.8744 - precision: 0.8993 - auc: 0.9629 - val_loss: 0.6330 - val_accuracy: 0.8557 - val_recall: 0.7490 - val_precision: 0.9222 - val_auc: 0.9378\n",
      "Epoch 9/30\n",
      "280/280 [==============================] - ETA: 0s - loss: 0.5309 - accuracy: 0.8987 - recall: 0.8703 - precision: 0.9053 - auc: 0.9642\n",
      "Epoch 00009: val_accuracy did not improve from 0.87450\n",
      "280/280 [==============================] - 252s 899ms/step - loss: 0.5309 - accuracy: 0.8987 - recall: 0.8703 - precision: 0.9053 - auc: 0.9642 - val_loss: 0.5834 - val_accuracy: 0.8709 - val_recall: 0.8580 - val_precision: 0.8605 - val_auc: 0.9468\n",
      "Epoch 10/30\n",
      "280/280 [==============================] - ETA: 0s - loss: 0.5206 - accuracy: 0.8989 - recall: 0.8676 - precision: 0.9080 - auc: 0.9662\n",
      "Epoch 00010: val_accuracy did not improve from 0.87450\n",
      "280/280 [==============================] - 262s 934ms/step - loss: 0.5206 - accuracy: 0.8989 - recall: 0.8676 - precision: 0.9080 - auc: 0.9662 - val_loss: 0.6351 - val_accuracy: 0.8607 - val_recall: 0.7432 - val_precision: 0.9409 - val_auc: 0.9444\n",
      "Epoch 11/30\n",
      "280/280 [==============================] - ETA: 0s - loss: 0.5137 - accuracy: 0.9058 - recall: 0.8812 - precision: 0.9107 - auc: 0.9672\n",
      "Epoch 00011: val_accuracy did not improve from 0.87450\n",
      "280/280 [==============================] - 245s 874ms/step - loss: 0.5137 - accuracy: 0.9058 - recall: 0.8812 - precision: 0.9107 - auc: 0.9672 - val_loss: 0.5883 - val_accuracy: 0.8691 - val_recall: 0.8191 - val_precision: 0.8872 - val_auc: 0.9432\n",
      "Epoch 12/30\n",
      "280/280 [==============================] - ETA: 0s - loss: 0.5000 - accuracy: 0.9076 - recall: 0.8832 - precision: 0.9127 - auc: 0.9705\n",
      "Epoch 00012: val_accuracy did not improve from 0.87450\n",
      "280/280 [==============================] - 263s 938ms/step - loss: 0.5000 - accuracy: 0.9076 - recall: 0.8832 - precision: 0.9127 - auc: 0.9705 - val_loss: 0.6182 - val_accuracy: 0.8682 - val_recall: 0.7860 - val_precision: 0.9151 - val_auc: 0.9418\n",
      "Epoch 13/30\n",
      "280/280 [==============================] - ETA: 0s - loss: 0.4942 - accuracy: 0.9087 - recall: 0.8827 - precision: 0.9154 - auc: 0.9714\n",
      "Epoch 00013: val_accuracy did not improve from 0.87450\n",
      "280/280 [==============================] - 251s 897ms/step - loss: 0.4942 - accuracy: 0.9087 - recall: 0.8827 - precision: 0.9154 - auc: 0.9714 - val_loss: 0.5865 - val_accuracy: 0.8736 - val_recall: 0.8375 - val_precision: 0.8813 - val_auc: 0.9437\n",
      "Epoch 14/30\n",
      "280/280 [==============================] - ETA: 0s - loss: 0.4862 - accuracy: 0.9100 - recall: 0.8861 - precision: 0.9150 - auc: 0.9729\n",
      "Epoch 00014: val_accuracy did not improve from 0.87450\n",
      "280/280 [==============================] - 269s 960ms/step - loss: 0.4862 - accuracy: 0.9100 - recall: 0.8861 - precision: 0.9150 - auc: 0.9729 - val_loss: 0.6060 - val_accuracy: 0.8607 - val_recall: 0.7918 - val_precision: 0.8925 - val_auc: 0.9373\n",
      "Epoch 15/30\n",
      "280/280 [==============================] - ETA: 0s - loss: 0.4768 - accuracy: 0.9153 - recall: 0.8924 - precision: 0.9206 - auc: 0.9745\n",
      "Epoch 00015: val_accuracy did not improve from 0.87450\n",
      "280/280 [==============================] - 256s 915ms/step - loss: 0.4768 - accuracy: 0.9153 - recall: 0.8924 - precision: 0.9206 - auc: 0.9745 - val_loss: 0.6787 - val_accuracy: 0.8410 - val_recall: 0.6829 - val_precision: 0.9590 - val_auc: 0.9416\n",
      "Epoch 16/30\n",
      "280/280 [==============================] - ETA: 0s - loss: 0.4639 - accuracy: 0.9194 - recall: 0.8944 - precision: 0.9273 - auc: 0.9772  \n",
      "Epoch 00016: val_accuracy did not improve from 0.87450\n",
      "280/280 [==============================] - 33752s 121s/step - loss: 0.4639 - accuracy: 0.9194 - recall: 0.8944 - precision: 0.9273 - auc: 0.9772 - val_loss: 0.6491 - val_accuracy: 0.8566 - val_recall: 0.7374 - val_precision: 0.9370 - val_auc: 0.9357\n",
      "Epoch 17/30\n",
      "280/280 [==============================] - ETA: 0s - loss: 0.4669 - accuracy: 0.9203 - recall: 0.8990 - precision: 0.9251 - auc: 0.9756\n",
      "Epoch 00017: val_accuracy improved from 0.87450 to 0.87539, saving model to ../Saved_Models\\model2_vgg16_best_model.h5\n",
      "280/280 [==============================] - 172s 614ms/step - loss: 0.4669 - accuracy: 0.9203 - recall: 0.8990 - precision: 0.9251 - auc: 0.9756 - val_loss: 0.5761 - val_accuracy: 0.8754 - val_recall: 0.8327 - val_precision: 0.8889 - val_auc: 0.9422\n",
      "Epoch 18/30\n",
      "280/280 [==============================] - ETA: 0s - loss: 0.4526 - accuracy: 0.9229 - recall: 0.9002 - precision: 0.9296 - auc: 0.9787\n",
      "Epoch 00018: val_accuracy did not improve from 0.87539\n",
      "280/280 [==============================] - 195s 696ms/step - loss: 0.4526 - accuracy: 0.9229 - recall: 0.9002 - precision: 0.9296 - auc: 0.9787 - val_loss: 0.5956 - val_accuracy: 0.8749 - val_recall: 0.8317 - val_precision: 0.8888 - val_auc: 0.9393\n"
     ]
    },
    {
     "name": "stdout",
     "output_type": "stream",
     "text": [
      "Epoch 19/30\n",
      "280/280 [==============================] - ETA: 0s - loss: 0.4403 - accuracy: 0.9285 - recall: 0.9068 - precision: 0.9355 - auc: 0.9809\n",
      "Epoch 00019: val_accuracy did not improve from 0.87539\n",
      "280/280 [==============================] - 203s 723ms/step - loss: 0.4403 - accuracy: 0.9285 - recall: 0.9068 - precision: 0.9355 - auc: 0.9809 - val_loss: 0.6057 - val_accuracy: 0.8714 - val_recall: 0.7743 - val_precision: 0.9343 - val_auc: 0.9390\n",
      "Epoch 20/30\n",
      "280/280 [==============================] - ETA: 0s - loss: 0.4393 - accuracy: 0.9280 - recall: 0.9104 - precision: 0.9310 - auc: 0.9803\n",
      "Epoch 00020: val_accuracy did not improve from 0.87539\n",
      "280/280 [==============================] - 219s 781ms/step - loss: 0.4393 - accuracy: 0.9280 - recall: 0.9104 - precision: 0.9310 - auc: 0.9803 - val_loss: 0.6024 - val_accuracy: 0.8593 - val_recall: 0.7714 - val_precision: 0.9084 - val_auc: 0.9310\n",
      "Epoch 21/30\n",
      "280/280 [==============================] - ETA: 0s - loss: 0.4330 - accuracy: 0.9284 - recall: 0.9080 - precision: 0.9341 - auc: 0.9813\n",
      "Epoch 00021: val_accuracy did not improve from 0.87539\n",
      "280/280 [==============================] - 200s 715ms/step - loss: 0.4330 - accuracy: 0.9284 - recall: 0.9080 - precision: 0.9341 - auc: 0.9813 - val_loss: 0.6357 - val_accuracy: 0.8495 - val_recall: 0.8969 - val_precision: 0.7997 - val_auc: 0.9325\n",
      "Epoch 22/30\n",
      "280/280 [==============================] - ETA: 0s - loss: 0.4249 - accuracy: 0.9305 - recall: 0.9094 - precision: 0.9373 - auc: 0.9823\n",
      "Epoch 00022: val_accuracy did not improve from 0.87539\n",
      "280/280 [==============================] - 224s 798ms/step - loss: 0.4249 - accuracy: 0.9305 - recall: 0.9094 - precision: 0.9373 - auc: 0.9823 - val_loss: 0.6146 - val_accuracy: 0.8607 - val_recall: 0.8930 - val_precision: 0.8196 - val_auc: 0.9429\n",
      "Epoch 23/30\n",
      "280/280 [==============================] - ETA: 0s - loss: 0.4232 - accuracy: 0.9347 - recall: 0.9155 - precision: 0.9405 - auc: 0.9820\n",
      "Epoch 00023: val_accuracy did not improve from 0.87539\n",
      "280/280 [==============================] - 201s 716ms/step - loss: 0.4232 - accuracy: 0.9347 - recall: 0.9155 - precision: 0.9405 - auc: 0.9820 - val_loss: 0.5776 - val_accuracy: 0.8736 - val_recall: 0.8589 - val_precision: 0.8648 - val_auc: 0.9420\n",
      "Epoch 24/30\n",
      "280/280 [==============================] - ETA: 0s - loss: 0.4117 - accuracy: 0.9380 - recall: 0.9189 - precision: 0.9445 - auc: 0.9839\n",
      "Epoch 00024: val_accuracy did not improve from 0.87539\n",
      "280/280 [==============================] - 231s 827ms/step - loss: 0.4117 - accuracy: 0.9380 - recall: 0.9189 - precision: 0.9445 - auc: 0.9839 - val_loss: 0.6024 - val_accuracy: 0.8714 - val_recall: 0.8969 - val_precision: 0.8351 - val_auc: 0.9439\n",
      "Epoch 25/30\n",
      "280/280 [==============================] - ETA: 0s - loss: 0.4045 - accuracy: 0.9364 - recall: 0.9165 - precision: 0.9434 - auc: 0.9850\n",
      "Epoch 00025: val_accuracy did not improve from 0.87539\n",
      "280/280 [==============================] - 205s 733ms/step - loss: 0.4045 - accuracy: 0.9364 - recall: 0.9165 - precision: 0.9434 - auc: 0.9850 - val_loss: 0.6094 - val_accuracy: 0.8642 - val_recall: 0.8482 - val_precision: 0.8549 - val_auc: 0.9360\n",
      "Epoch 26/30\n",
      "280/280 [==============================] - ETA: 0s - loss: 0.4010 - accuracy: 0.9424 - recall: 0.9250 - precision: 0.9481 - auc: 0.9853\n",
      "Epoch 00026: val_accuracy improved from 0.87539 to 0.87852, saving model to ../Saved_Models\\model2_vgg16_best_model.h5\n",
      "280/280 [==============================] - 230s 823ms/step - loss: 0.4010 - accuracy: 0.9424 - recall: 0.9250 - precision: 0.9481 - auc: 0.9853 - val_loss: 0.5955 - val_accuracy: 0.8785 - val_recall: 0.8366 - val_precision: 0.8921 - val_auc: 0.9425\n",
      "Epoch 27/30\n",
      "280/280 [==============================] - ETA: 0s - loss: 0.3966 - accuracy: 0.9379 - recall: 0.9194 - precision: 0.9438 - auc: 0.9856\n",
      "Epoch 00027: val_accuracy did not improve from 0.87852\n",
      "280/280 [==============================] - 207s 738ms/step - loss: 0.3966 - accuracy: 0.9379 - recall: 0.9194 - precision: 0.9438 - auc: 0.9856 - val_loss: 0.6648 - val_accuracy: 0.8611 - val_recall: 0.8327 - val_precision: 0.8603 - val_auc: 0.9255\n",
      "Epoch 28/30\n",
      "280/280 [==============================] - ETA: 0s - loss: 0.3939 - accuracy: 0.9386 - recall: 0.9199 - precision: 0.9448 - auc: 0.9858\n",
      "Epoch 00028: val_accuracy did not improve from 0.87852\n",
      "280/280 [==============================] - 229s 816ms/step - loss: 0.3939 - accuracy: 0.9386 - recall: 0.9199 - precision: 0.9448 - auc: 0.9858 - val_loss: 0.5899 - val_accuracy: 0.8732 - val_recall: 0.8414 - val_precision: 0.8773 - val_auc: 0.9378\n",
      "Epoch 29/30\n",
      "280/280 [==============================] - ETA: 0s - loss: 0.3873 - accuracy: 0.9420 - recall: 0.9272 - precision: 0.9454 - auc: 0.9864\n",
      "Epoch 00029: val_accuracy did not improve from 0.87852\n",
      "280/280 [==============================] - 205s 733ms/step - loss: 0.3873 - accuracy: 0.9420 - recall: 0.9272 - precision: 0.9454 - auc: 0.9864 - val_loss: 0.6260 - val_accuracy: 0.8656 - val_recall: 0.7792 - val_precision: 0.9154 - val_auc: 0.9402\n",
      "Epoch 30/30\n",
      "280/280 [==============================] - ETA: 0s - loss: 0.3768 - accuracy: 0.9426 - recall: 0.9248 - precision: 0.9488 - auc: 0.9881\n",
      "Epoch 00030: val_accuracy did not improve from 0.87852\n",
      "280/280 [==============================] - 233s 830ms/step - loss: 0.3768 - accuracy: 0.9426 - recall: 0.9248 - precision: 0.9488 - auc: 0.9881 - val_loss: 0.6354 - val_accuracy: 0.8763 - val_recall: 0.8045 - val_precision: 0.9158 - val_auc: 0.9385\n"
     ]
    }
   ],
   "source": [
    "# Compile and fit the model:\n",
    "model2_vgg16.compile(optimizer='sgd',\n",
    "              loss='binary_crossentropy',\n",
    "             metrics=['accuracy', 'Recall', 'Precision', 'AUC'])\n",
    "\n",
    "model2_vgg16_history = model2_vgg16.fit(train_images,\n",
    "                    train_labels,\n",
    "                    epochs=30,\n",
    "                    batch_size=32,  # mini batches of 32 units!\n",
    "                    callbacks = early_stop2,\n",
    "                    validation_data=(val_images, val_labels))"
   ]
  },
  {
   "cell_type": "code",
   "execution_count": 54,
   "metadata": {},
   "outputs": [
    {
     "data": {
      "image/png": "[encoded data removed]",
      "text/plain": [
       "<Figure size 576x360 with 1 Axes>"
      ]
     },
     "metadata": {
      "needs_background": "light"
     },
     "output_type": "display_data"
    },
    {
     "data": {
      "image/png": "[encoded data removed]",
      "text/plain": [
       "<Figure size 576x360 with 1 Axes>"
      ]
     },
     "metadata": {
      "needs_background": "light"
     },
     "output_type": "display_data"
    }
   ],
   "source": [
    "# Visualize the modeling results:\n",
    "visualize_modeling_results(model2_vgg16_history)"
   ]
  },
  {
   "cell_type": "code",
   "execution_count": 55,
   "metadata": {},
   "outputs": [
    {
     "data": {
      "image/png": "[encoded data removed]",
      "text/plain": [
       "<Figure size 432x288 with 2 Axes>"
      ]
     },
     "metadata": {
      "needs_background": "light"
     },
     "output_type": "display_data"
    }
   ],
   "source": [
    "# Plot confusion matrix:\n",
    "model2_vgg16_predictions = (model2_vgg16.predict(val_images) > 0.5).astype(\"int32\")\n",
    "model2_vgg16_cm = confusion_matrix(val_labels, model2_vgg16_predictions)\n",
    "model2_vgg16_disp = ConfusionMatrixDisplay(confusion_matrix=model2_vgg16_cm, display_labels=['Benign', 'Malignant'])\n",
    "model2_vgg16_disp.plot()\n",
    "plt.show()"
   ]
  },
  {
   "cell_type": "code",
   "execution_count": 56,
   "metadata": {},
   "outputs": [
    {
     "data": {
      "image/png": "[encoded data removed]",
      "text/plain": [
       "<Figure size 432x288 with 2 Axes>"
      ]
     },
     "metadata": {
      "needs_background": "light"
     },
     "output_type": "display_data"
    }
   ],
   "source": [
    "# Plot confusion matrix with percentages:\n",
    "model2_vgg16_predictions = (model2_vgg16.predict(val_images) > 0.5).astype(\"int32\")\n",
    "model2_vgg16_cm = confusion_matrix(val_labels, model2_vgg16_predictions, normalize='true')\n",
    "model2_vgg16_disp = ConfusionMatrixDisplay(confusion_matrix=model2_vgg16_cm, display_labels=['Benign', 'Malignant'])\n",
    "model2_vgg16_disp.plot()\n",
    "plt.show()"
   ]
  },
  {
   "cell_type": "code",
   "execution_count": 57,
   "metadata": {},
   "outputs": [
    {
     "name": "stdout",
     "output_type": "stream",
     "text": [
      "280/280 [==============================] - 234s 835ms/step - loss: 0.3766 - accuracy: 0.9436 - recall: 0.8953 - precision: 0.9800 - auc: 0.9909\n",
      "70/70 [==============================] - 52s 737ms/step - loss: 0.6354 - accuracy: 0.8763 - recall: 0.8045 - precision: 0.9158 - auc: 0.9385\n"
     ]
    },
    {
     "data": {
      "text/html": [
       "<div>\n",
       "<style scoped>\n",
       "    .dataframe tbody tr th:only-of-type {\n",
       "        vertical-align: middle;\n",
       "    }\n",
       "\n",
       "    .dataframe tbody tr th {\n",
       "        vertical-align: top;\n",
       "    }\n",
       "\n",
       "    .dataframe thead th {\n",
       "        text-align: right;\n",
       "    }\n",
       "</style>\n",
       "<table border=\"1\" class=\"dataframe\">\n",
       "  <thead>\n",
       "    <tr style=\"text-align: right;\">\n",
       "      <th></th>\n",
       "      <th>Loss</th>\n",
       "      <th>Accuracy</th>\n",
       "      <th>Recall</th>\n",
       "      <th>Precision</th>\n",
       "      <th>AUC</th>\n",
       "    </tr>\n",
       "  </thead>\n",
       "  <tbody>\n",
       "    <tr>\n",
       "      <th>Train</th>\n",
       "      <td>0.376575</td>\n",
       "      <td>0.943594</td>\n",
       "      <td>0.895326</td>\n",
       "      <td>0.980016</td>\n",
       "      <td>0.990943</td>\n",
       "    </tr>\n",
       "    <tr>\n",
       "      <th>Validation</th>\n",
       "      <td>0.635351</td>\n",
       "      <td>0.876284</td>\n",
       "      <td>0.804475</td>\n",
       "      <td>0.915836</td>\n",
       "      <td>0.938486</td>\n",
       "    </tr>\n",
       "  </tbody>\n",
       "</table>\n",
       "</div>"
      ],
      "text/plain": [
       "                Loss  Accuracy    Recall Precision       AUC\n",
       "Train       0.376575  0.943594  0.895326  0.980016  0.990943\n",
       "Validation  0.635351  0.876284  0.804475  0.915836  0.938486"
      ]
     },
     "execution_count": 57,
     "metadata": {},
     "output_type": "execute_result"
    }
   ],
   "source": [
    "# Evaluate train and validation set:\n",
    "model2_vgg16_results_train = model2_vgg16.evaluate(train_images, train_labels)\n",
    "model2_vgg16_results_validation = model2_vgg16.evaluate(val_images, val_labels)\n",
    "\n",
    "\n",
    "# Construct a new dataframe to save results:\n",
    "model2_vgg16_results = pd.DataFrame(columns = ['Loss' , 'Accuracy', 'Recall', 'Precision', 'AUC'],\n",
    "                      index = ['Train', 'Validation'])\n",
    "\n",
    "for i in range(5):\n",
    "    model2_vgg16_results[model2_vgg16_results.columns[i]]['Train'] = model2_vgg16_results_train[i]\n",
    "    model2_vgg16_results[model2_vgg16_results.columns[i]]['Validation'] = model2_vgg16_results_validation[i]\n",
    "    \n",
    "model2_vgg16_results"
   ]
  },
  {
   "cell_type": "code",
   "execution_count": 58,
   "metadata": {},
   "outputs": [],
   "source": [
    "# Save the model results\n",
    "model2_vgg16_results.to_csv('../Saved_Models/model2_vgg16_results.csv', index=False)"
   ]
  },
  {
   "cell_type": "code",
   "execution_count": 59,
   "metadata": {},
   "outputs": [
    {
     "name": "stdout",
     "output_type": "stream",
     "text": [
      "Saved model to disk\n"
     ]
    }
   ],
   "source": [
    "# Save the model\n",
    "model2_vgg16.save('../Saved_Models/model2_vgg16_final.h5')\n",
    "print(\"Saved model to disk\")"
   ]
  },
  {
   "cell_type": "markdown",
   "metadata": {},
   "source": [
    "### Final VGG16 Model:"
   ]
  },
  {
   "cell_type": "code",
   "execution_count": 62,
   "metadata": {},
   "outputs": [],
   "source": [
    "# load and evaluate a saved model\n",
    "from numpy import loadtxt\n",
    "from keras.models import load_model\n",
    " \n",
    "# load best model so far:\n",
    "final_vgg16_model = load_model('../Saved_Models/model2_vgg16_final.h5')"
   ]
  },
  {
   "cell_type": "code",
   "execution_count": 63,
   "metadata": {},
   "outputs": [
    {
     "name": "stdout",
     "output_type": "stream",
     "text": [
      "Model: \"sequential_3\"\n",
      "_________________________________________________________________\n",
      "Layer (type)                 Output Shape              Param #   \n",
      "=================================================================\n",
      "vgg16 (Functional)           (None, 2, 2, 512)         14714688  \n",
      "_________________________________________________________________\n",
      "flatten_3 (Flatten)          (None, 2048)              0         \n",
      "_________________________________________________________________\n",
      "dense_10 (Dense)             (None, 32)                65568     \n",
      "_________________________________________________________________\n",
      "batch_normalization (BatchNo (None, 32)                128       \n",
      "_________________________________________________________________\n",
      "dense_11 (Dense)             (None, 64)                2112      \n",
      "_________________________________________________________________\n",
      "batch_normalization_1 (Batch (None, 64)                256       \n",
      "_________________________________________________________________\n",
      "dense_12 (Dense)             (None, 128)               8320      \n",
      "_________________________________________________________________\n",
      "batch_normalization_2 (Batch (None, 128)               512       \n",
      "_________________________________________________________________\n",
      "dense_13 (Dense)             (None, 128)               16512     \n",
      "_________________________________________________________________\n",
      "dense_14 (Dense)             (None, 1)                 129       \n",
      "=================================================================\n",
      "Total params: 14,808,225\n",
      "Trainable params: 93,089\n",
      "Non-trainable params: 14,715,136\n",
      "_________________________________________________________________\n"
     ]
    }
   ],
   "source": [
    "final_vgg16_model.summary()"
   ]
  },
  {
   "cell_type": "code",
   "execution_count": 64,
   "metadata": {},
   "outputs": [
    {
     "name": "stdout",
     "output_type": "stream",
     "text": [
      "39/39 [==============================] - 14s 367ms/step - loss: 0.5455 - accuracy: 0.8891 - recall: 0.8182 - precision: 0.9221 - auc: 0.9585\n"
     ]
    }
   ],
   "source": [
    "# Test/Holdout set scores:\n",
    "score = final_vgg16_model.evaluate(test_images, test_labels)"
   ]
  },
  {
   "cell_type": "code",
   "execution_count": 65,
   "metadata": {},
   "outputs": [
    {
     "name": "stdout",
     "output_type": "stream",
     "text": [
      "accuracy: 88.91%\n",
      "recall: 81.82%\n"
     ]
    }
   ],
   "source": [
    "print(\"%s: %.2f%%\" % (final_vgg16_model.metrics_names[1], score[1]*100))\n",
    "print(\"%s: %.2f%%\" % (final_vgg16_model.metrics_names[2], score[2]*100))"
   ]
  }
 ],
 "metadata": {
  "kernelspec": {
   "display_name": "Python 3",
   "language": "python",
   "name": "python3"
  },
  "language_info": {
   "codemirror_mode": {
    "name": "ipython",
    "version": 3
   },
   "file_extension": ".py",
   "mimetype": "text/x-python",
   "name": "python",
   "nbconvert_exporter": "python",
   "pygments_lexer": "ipython3",
   "version": "3.8.5"
  }
 },
 "nbformat": 4,
 "nbformat_minor": 4
}
