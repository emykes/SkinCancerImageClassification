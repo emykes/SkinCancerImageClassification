{
 "cells": [
  {
   "cell_type": "markdown",
   "metadata": {},
   "source": [
    "# Skin Cancer Image Processing with Pre-Trained Models"
   ]
  },
  {
   "cell_type": "markdown",
   "metadata": {},
   "source": [
    "In this notebook, pre-trained models will be used to classify skin lesion images. Then, the modeling results will be compared with the final model found by iterationg varies CNN models in the [Image Processing and Modeling](https://github.com/emykes/SkinCancerImageClassification/blob/main/Notebooks/Image_Processing_and_Modeling.ipynb) notebook."
   ]
  },
  {
   "cell_type": "code",
   "execution_count": 3,
   "metadata": {},
   "outputs": [],
   "source": [
    "# Import Relevant Libraries\n",
    "import pandas as pd\n",
    "import numpy as np\n",
    "import matplotlib.pyplot as plt\n",
    "import matplotlib.image as mpimg\n",
    "\n",
    "from tensorflow import keras\n",
    "from keras import models, layers\n",
    "from keras.preprocessing.image import ImageDataGenerator, array_to_img, img_to_array, load_img\n",
    "from keras.layers import Dense, Dropout, Conv2D, MaxPooling2D, Flatten, Activation, BatchNormalization\n",
    "from keras.regularizers import l2\n",
    "from tensorflow.keras.optimizers import Adam, SGD\n",
    "\n",
    "# importing pre-trained networks\n",
    "from keras.applications.vgg16 import VGG16\n",
    "from keras.applications.vgg19 import VGG19\n",
    "\n",
    "from keras.callbacks import EarlyStopping, ModelCheckpoint\n",
    "\n",
    "from sklearn.utils import class_weight\n",
    "from sklearn.metrics import mean_squared_error\n",
    "from sklearn.model_selection import train_test_split\n",
    "from sklearn.metrics import confusion_matrix, ConfusionMatrixDisplay\n",
    "\n",
    "import warnings\n",
    "warnings.filterwarnings('ignore')\n",
    "\n",
    "np.random.seed(123)"
   ]
  },
  {
   "cell_type": "code",
   "execution_count": 4,
   "metadata": {},
   "outputs": [],
   "source": [
    "# Define modeling results display function:\n",
    "def visualize_modeling_results(results):\n",
    "    '''   \n",
    "    Input: model history results\n",
    "    '''\n",
    "    history = results.history\n",
    "    \n",
    "    plt.figure(figsize=(8,5))\n",
    "    plt.plot(history['loss'])\n",
    "    plt.plot(history['val_loss'])\n",
    "    plt.legend(['train', 'validation'], loc='upper right')\n",
    "    plt.title('Loss')\n",
    "    plt.xlabel('Epochs')\n",
    "    plt.ylabel('Loss')\n",
    "    plt.show()\n",
    "    \n",
    "    plt.figure(figsize=(8,5))\n",
    "    plt.plot(history['accuracy'])\n",
    "    plt.plot(history['val_accuracy'])\n",
    "    plt.legend(['train', 'validation'], loc='lower left')\n",
    "    plt.title('Accuracy')\n",
    "    plt.xlabel('Epochs')\n",
    "    plt.ylabel('Accuracy')\n",
    "    plt.show()"
   ]
  },
  {
   "cell_type": "markdown",
   "metadata": {},
   "source": [
    "## 1. Data Preperation"
   ]
  },
  {
   "cell_type": "code",
   "execution_count": 5,
   "metadata": {},
   "outputs": [
    {
     "data": {
      "text/html": [
       "<div>\n",
       "<style scoped>\n",
       "    .dataframe tbody tr th:only-of-type {\n",
       "        vertical-align: middle;\n",
       "    }\n",
       "\n",
       "    .dataframe tbody tr th {\n",
       "        vertical-align: top;\n",
       "    }\n",
       "\n",
       "    .dataframe thead th {\n",
       "        text-align: right;\n",
       "    }\n",
       "</style>\n",
       "<table border=\"1\" class=\"dataframe\">\n",
       "  <thead>\n",
       "    <tr style=\"text-align: right;\">\n",
       "      <th></th>\n",
       "      <th>image_name</th>\n",
       "      <th>patient_id</th>\n",
       "      <th>sex</th>\n",
       "      <th>age_approx</th>\n",
       "      <th>anatom_site_general_challenge</th>\n",
       "      <th>diagnosis</th>\n",
       "      <th>benign_malignant</th>\n",
       "      <th>target</th>\n",
       "      <th>tfrecord</th>\n",
       "      <th>width</th>\n",
       "      <th>height</th>\n",
       "      <th>path</th>\n",
       "      <th>source</th>\n",
       "      <th>ext</th>\n",
       "    </tr>\n",
       "  </thead>\n",
       "  <tbody>\n",
       "    <tr>\n",
       "      <th>0</th>\n",
       "      <td>ISIC_2637011</td>\n",
       "      <td>IP_7279968</td>\n",
       "      <td>male</td>\n",
       "      <td>45.0</td>\n",
       "      <td>head/neck</td>\n",
       "      <td>unknown</td>\n",
       "      <td>benign</td>\n",
       "      <td>0</td>\n",
       "      <td>0</td>\n",
       "      <td>6000</td>\n",
       "      <td>4000</td>\n",
       "      <td>../data/ISIC_IMAGES_512x512/ISIC2020/image2020...</td>\n",
       "      <td>NaN</td>\n",
       "      <td>NaN</td>\n",
       "    </tr>\n",
       "    <tr>\n",
       "      <th>1</th>\n",
       "      <td>ISIC_0015719</td>\n",
       "      <td>IP_3075186</td>\n",
       "      <td>female</td>\n",
       "      <td>45.0</td>\n",
       "      <td>upper extremity</td>\n",
       "      <td>unknown</td>\n",
       "      <td>benign</td>\n",
       "      <td>0</td>\n",
       "      <td>0</td>\n",
       "      <td>6000</td>\n",
       "      <td>4000</td>\n",
       "      <td>../data/ISIC_IMAGES_512x512/ISIC2020/image2020...</td>\n",
       "      <td>NaN</td>\n",
       "      <td>NaN</td>\n",
       "    </tr>\n",
       "    <tr>\n",
       "      <th>2</th>\n",
       "      <td>ISIC_0052212</td>\n",
       "      <td>IP_2842074</td>\n",
       "      <td>female</td>\n",
       "      <td>50.0</td>\n",
       "      <td>lower extremity</td>\n",
       "      <td>nevus</td>\n",
       "      <td>benign</td>\n",
       "      <td>0</td>\n",
       "      <td>6</td>\n",
       "      <td>1872</td>\n",
       "      <td>1053</td>\n",
       "      <td>../data/ISIC_IMAGES_512x512/ISIC2020/image2020...</td>\n",
       "      <td>NaN</td>\n",
       "      <td>NaN</td>\n",
       "    </tr>\n",
       "    <tr>\n",
       "      <th>3</th>\n",
       "      <td>ISIC_0068279</td>\n",
       "      <td>IP_6890425</td>\n",
       "      <td>female</td>\n",
       "      <td>45.0</td>\n",
       "      <td>head/neck</td>\n",
       "      <td>unknown</td>\n",
       "      <td>benign</td>\n",
       "      <td>0</td>\n",
       "      <td>0</td>\n",
       "      <td>1872</td>\n",
       "      <td>1053</td>\n",
       "      <td>../data/ISIC_IMAGES_512x512/ISIC2020/image2020...</td>\n",
       "      <td>NaN</td>\n",
       "      <td>NaN</td>\n",
       "    </tr>\n",
       "    <tr>\n",
       "      <th>4</th>\n",
       "      <td>ISIC_0074268</td>\n",
       "      <td>IP_8723313</td>\n",
       "      <td>female</td>\n",
       "      <td>55.0</td>\n",
       "      <td>upper extremity</td>\n",
       "      <td>unknown</td>\n",
       "      <td>benign</td>\n",
       "      <td>0</td>\n",
       "      <td>11</td>\n",
       "      <td>6000</td>\n",
       "      <td>4000</td>\n",
       "      <td>../data/ISIC_IMAGES_512x512/ISIC2020/image2020...</td>\n",
       "      <td>NaN</td>\n",
       "      <td>NaN</td>\n",
       "    </tr>\n",
       "    <tr>\n",
       "      <th>...</th>\n",
       "      <td>...</td>\n",
       "      <td>...</td>\n",
       "      <td>...</td>\n",
       "      <td>...</td>\n",
       "      <td>...</td>\n",
       "      <td>...</td>\n",
       "      <td>...</td>\n",
       "      <td>...</td>\n",
       "      <td>...</td>\n",
       "      <td>...</td>\n",
       "      <td>...</td>\n",
       "      <td>...</td>\n",
       "      <td>...</td>\n",
       "      <td>...</td>\n",
       "    </tr>\n",
       "    <tr>\n",
       "      <th>12431</th>\n",
       "      <td>ISIC_0024302</td>\n",
       "      <td>-1</td>\n",
       "      <td>female</td>\n",
       "      <td>25.0</td>\n",
       "      <td>NaN</td>\n",
       "      <td>melanoma</td>\n",
       "      <td>malignant</td>\n",
       "      <td>1</td>\n",
       "      <td>29</td>\n",
       "      <td>3008</td>\n",
       "      <td>2000</td>\n",
       "      <td>../data/ISIC_IMAGES_512x512/Add_ISIC/image_add...</td>\n",
       "      <td>2018 JID Editorial Images</td>\n",
       "      <td>jpg</td>\n",
       "    </tr>\n",
       "    <tr>\n",
       "      <th>12432</th>\n",
       "      <td>ISIC_0024303</td>\n",
       "      <td>-1</td>\n",
       "      <td>male</td>\n",
       "      <td>60.0</td>\n",
       "      <td>NaN</td>\n",
       "      <td>squamous cell carcinoma</td>\n",
       "      <td>malignant</td>\n",
       "      <td>1</td>\n",
       "      <td>29</td>\n",
       "      <td>3008</td>\n",
       "      <td>2000</td>\n",
       "      <td>../data/ISIC_IMAGES_512x512/Add_ISIC/image_add...</td>\n",
       "      <td>2018 JID Editorial Images</td>\n",
       "      <td>jpg</td>\n",
       "    </tr>\n",
       "    <tr>\n",
       "      <th>12433</th>\n",
       "      <td>ISIC_0024304</td>\n",
       "      <td>-1</td>\n",
       "      <td>male</td>\n",
       "      <td>70.0</td>\n",
       "      <td>NaN</td>\n",
       "      <td>squamous cell carcinoma</td>\n",
       "      <td>malignant</td>\n",
       "      <td>1</td>\n",
       "      <td>29</td>\n",
       "      <td>3008</td>\n",
       "      <td>2000</td>\n",
       "      <td>../data/ISIC_IMAGES_512x512/Add_ISIC/image_add...</td>\n",
       "      <td>2018 JID Editorial Images</td>\n",
       "      <td>jpg</td>\n",
       "    </tr>\n",
       "    <tr>\n",
       "      <th>12434</th>\n",
       "      <td>ISIC_0024305</td>\n",
       "      <td>-1</td>\n",
       "      <td>male</td>\n",
       "      <td>85.0</td>\n",
       "      <td>NaN</td>\n",
       "      <td>squamous cell carcinoma</td>\n",
       "      <td>malignant</td>\n",
       "      <td>1</td>\n",
       "      <td>29</td>\n",
       "      <td>4288</td>\n",
       "      <td>2848</td>\n",
       "      <td>../data/ISIC_IMAGES_512x512/Add_ISIC/image_add...</td>\n",
       "      <td>2018 JID Editorial Images</td>\n",
       "      <td>jpg</td>\n",
       "    </tr>\n",
       "    <tr>\n",
       "      <th>12435</th>\n",
       "      <td>ISIC_0036065</td>\n",
       "      <td>-1</td>\n",
       "      <td>male</td>\n",
       "      <td>80.0</td>\n",
       "      <td>NaN</td>\n",
       "      <td>melanoma</td>\n",
       "      <td>malignant</td>\n",
       "      <td>1</td>\n",
       "      <td>29</td>\n",
       "      <td>2880</td>\n",
       "      <td>1800</td>\n",
       "      <td>../data/ISIC_IMAGES_512x512/Add_ISIC/image_add...</td>\n",
       "      <td>2018 JID Editorial Images</td>\n",
       "      <td>png</td>\n",
       "    </tr>\n",
       "  </tbody>\n",
       "</table>\n",
       "<p>12436 rows × 14 columns</p>\n",
       "</div>"
      ],
      "text/plain": [
       "         image_name  patient_id     sex  age_approx  \\\n",
       "0      ISIC_2637011  IP_7279968    male        45.0   \n",
       "1      ISIC_0015719  IP_3075186  female        45.0   \n",
       "2      ISIC_0052212  IP_2842074  female        50.0   \n",
       "3      ISIC_0068279  IP_6890425  female        45.0   \n",
       "4      ISIC_0074268  IP_8723313  female        55.0   \n",
       "...             ...         ...     ...         ...   \n",
       "12431  ISIC_0024302          -1  female        25.0   \n",
       "12432  ISIC_0024303          -1    male        60.0   \n",
       "12433  ISIC_0024304          -1    male        70.0   \n",
       "12434  ISIC_0024305          -1    male        85.0   \n",
       "12435  ISIC_0036065          -1    male        80.0   \n",
       "\n",
       "      anatom_site_general_challenge                diagnosis benign_malignant  \\\n",
       "0                         head/neck                  unknown           benign   \n",
       "1                   upper extremity                  unknown           benign   \n",
       "2                   lower extremity                    nevus           benign   \n",
       "3                         head/neck                  unknown           benign   \n",
       "4                   upper extremity                  unknown           benign   \n",
       "...                             ...                      ...              ...   \n",
       "12431                           NaN                 melanoma        malignant   \n",
       "12432                           NaN  squamous cell carcinoma        malignant   \n",
       "12433                           NaN  squamous cell carcinoma        malignant   \n",
       "12434                           NaN  squamous cell carcinoma        malignant   \n",
       "12435                           NaN                 melanoma        malignant   \n",
       "\n",
       "       target  tfrecord  width  height  \\\n",
       "0           0         0   6000    4000   \n",
       "1           0         0   6000    4000   \n",
       "2           0         6   1872    1053   \n",
       "3           0         0   1872    1053   \n",
       "4           0        11   6000    4000   \n",
       "...       ...       ...    ...     ...   \n",
       "12431       1        29   3008    2000   \n",
       "12432       1        29   3008    2000   \n",
       "12433       1        29   3008    2000   \n",
       "12434       1        29   4288    2848   \n",
       "12435       1        29   2880    1800   \n",
       "\n",
       "                                                    path  \\\n",
       "0      ../data/ISIC_IMAGES_512x512/ISIC2020/image2020...   \n",
       "1      ../data/ISIC_IMAGES_512x512/ISIC2020/image2020...   \n",
       "2      ../data/ISIC_IMAGES_512x512/ISIC2020/image2020...   \n",
       "3      ../data/ISIC_IMAGES_512x512/ISIC2020/image2020...   \n",
       "4      ../data/ISIC_IMAGES_512x512/ISIC2020/image2020...   \n",
       "...                                                  ...   \n",
       "12431  ../data/ISIC_IMAGES_512x512/Add_ISIC/image_add...   \n",
       "12432  ../data/ISIC_IMAGES_512x512/Add_ISIC/image_add...   \n",
       "12433  ../data/ISIC_IMAGES_512x512/Add_ISIC/image_add...   \n",
       "12434  ../data/ISIC_IMAGES_512x512/Add_ISIC/image_add...   \n",
       "12435  ../data/ISIC_IMAGES_512x512/Add_ISIC/image_add...   \n",
       "\n",
       "                          source  ext  \n",
       "0                            NaN  NaN  \n",
       "1                            NaN  NaN  \n",
       "2                            NaN  NaN  \n",
       "3                            NaN  NaN  \n",
       "4                            NaN  NaN  \n",
       "...                          ...  ...  \n",
       "12431  2018 JID Editorial Images  jpg  \n",
       "12432  2018 JID Editorial Images  jpg  \n",
       "12433  2018 JID Editorial Images  jpg  \n",
       "12434  2018 JID Editorial Images  jpg  \n",
       "12435  2018 JID Editorial Images  png  \n",
       "\n",
       "[12436 rows x 14 columns]"
      ]
     },
     "execution_count": 5,
     "metadata": {},
     "output_type": "execute_result"
    }
   ],
   "source": [
    "# Reading in the final dataset from Data_Exploration.ipynb\n",
    "df = pd.read_csv('../data/ISIC_FINAL_DATASET_512x512.csv')\n",
    "df"
   ]
  },
  {
   "cell_type": "code",
   "execution_count": 6,
   "metadata": {},
   "outputs": [],
   "source": [
    "# Define X and y \n",
    "X = df[['image_name', 'path', 'sex', 'age_approx', 'anatom_site_general_challenge']]\n",
    "y = df['benign_malignant']"
   ]
  },
  {
   "cell_type": "code",
   "execution_count": 7,
   "metadata": {},
   "outputs": [],
   "source": [
    "# Train - Test Set Split\n",
    "X_train, X_test, y_train, y_test = train_test_split(X, y, test_size=0.1, random_state=42)"
   ]
  },
  {
   "cell_type": "code",
   "execution_count": 8,
   "metadata": {},
   "outputs": [],
   "source": [
    "# Train - Validation set Split\n",
    "X_train, X_val, y_train, y_val = train_test_split(X_train, y_train, test_size=0.2, random_state=42)"
   ]
  },
  {
   "cell_type": "code",
   "execution_count": 9,
   "metadata": {},
   "outputs": [
    {
     "name": "stdout",
     "output_type": "stream",
     "text": [
      "Train dataset: \n",
      " benign       4845\n",
      "malignant    4108\n",
      "Name: benign_malignant, dtype: int64\n"
     ]
    },
    {
     "data": {
      "text/html": [
       "<div>\n",
       "<style scoped>\n",
       "    .dataframe tbody tr th:only-of-type {\n",
       "        vertical-align: middle;\n",
       "    }\n",
       "\n",
       "    .dataframe tbody tr th {\n",
       "        vertical-align: top;\n",
       "    }\n",
       "\n",
       "    .dataframe thead th {\n",
       "        text-align: right;\n",
       "    }\n",
       "</style>\n",
       "<table border=\"1\" class=\"dataframe\">\n",
       "  <thead>\n",
       "    <tr style=\"text-align: right;\">\n",
       "      <th></th>\n",
       "      <th>image_name</th>\n",
       "      <th>path</th>\n",
       "      <th>sex</th>\n",
       "      <th>age_approx</th>\n",
       "      <th>anatom_site_general_challenge</th>\n",
       "      <th>benign_malignant</th>\n",
       "    </tr>\n",
       "  </thead>\n",
       "  <tbody>\n",
       "    <tr>\n",
       "      <th>2034</th>\n",
       "      <td>ISIC_0714807</td>\n",
       "      <td>../data/ISIC_IMAGES_512x512/ISIC2020/image2020...</td>\n",
       "      <td>female</td>\n",
       "      <td>20.0</td>\n",
       "      <td>upper extremity</td>\n",
       "      <td>benign</td>\n",
       "    </tr>\n",
       "    <tr>\n",
       "      <th>6216</th>\n",
       "      <td>ISIC_1984995</td>\n",
       "      <td>../data/ISIC_IMAGES_512x512/ISIC2020/image2020...</td>\n",
       "      <td>female</td>\n",
       "      <td>30.0</td>\n",
       "      <td>palms/soles</td>\n",
       "      <td>benign</td>\n",
       "    </tr>\n",
       "    <tr>\n",
       "      <th>1848</th>\n",
       "      <td>ISIC_0663588</td>\n",
       "      <td>../data/ISIC_IMAGES_512x512/ISIC2020/image2020...</td>\n",
       "      <td>male</td>\n",
       "      <td>65.0</td>\n",
       "      <td>torso</td>\n",
       "      <td>benign</td>\n",
       "    </tr>\n",
       "    <tr>\n",
       "      <th>11624</th>\n",
       "      <td>ISIC_0071693</td>\n",
       "      <td>../data/ISIC_IMAGES_512x512/ISIC2019/image2019...</td>\n",
       "      <td>female</td>\n",
       "      <td>40.0</td>\n",
       "      <td>head/neck</td>\n",
       "      <td>malignant</td>\n",
       "    </tr>\n",
       "    <tr>\n",
       "      <th>4775</th>\n",
       "      <td>ISIC_1558731</td>\n",
       "      <td>../data/ISIC_IMAGES_512x512/ISIC2020/image2020...</td>\n",
       "      <td>female</td>\n",
       "      <td>45.0</td>\n",
       "      <td>torso</td>\n",
       "      <td>benign</td>\n",
       "    </tr>\n",
       "    <tr>\n",
       "      <th>...</th>\n",
       "      <td>...</td>\n",
       "      <td>...</td>\n",
       "      <td>...</td>\n",
       "      <td>...</td>\n",
       "      <td>...</td>\n",
       "      <td>...</td>\n",
       "    </tr>\n",
       "    <tr>\n",
       "      <th>2578</th>\n",
       "      <td>ISIC_0884397</td>\n",
       "      <td>../data/ISIC_IMAGES_512x512/ISIC2020/image2020...</td>\n",
       "      <td>male</td>\n",
       "      <td>40.0</td>\n",
       "      <td>torso</td>\n",
       "      <td>benign</td>\n",
       "    </tr>\n",
       "    <tr>\n",
       "      <th>11825</th>\n",
       "      <td>ISIC_0072990</td>\n",
       "      <td>../data/ISIC_IMAGES_512x512/ISIC2019/image2019...</td>\n",
       "      <td>female</td>\n",
       "      <td>50.0</td>\n",
       "      <td>anterior torso</td>\n",
       "      <td>malignant</td>\n",
       "    </tr>\n",
       "    <tr>\n",
       "      <th>672</th>\n",
       "      <td>ISIC_0307958</td>\n",
       "      <td>../data/ISIC_IMAGES_512x512/ISIC2020/image2020...</td>\n",
       "      <td>female</td>\n",
       "      <td>80.0</td>\n",
       "      <td>palms/soles</td>\n",
       "      <td>benign</td>\n",
       "    </tr>\n",
       "    <tr>\n",
       "      <th>6213</th>\n",
       "      <td>ISIC_1984152</td>\n",
       "      <td>../data/ISIC_IMAGES_512x512/ISIC2020/image2020...</td>\n",
       "      <td>female</td>\n",
       "      <td>55.0</td>\n",
       "      <td>torso</td>\n",
       "      <td>benign</td>\n",
       "    </tr>\n",
       "    <tr>\n",
       "      <th>10077</th>\n",
       "      <td>ISIC_0060741</td>\n",
       "      <td>../data/ISIC_IMAGES_512x512/ISIC2019/image2019...</td>\n",
       "      <td>female</td>\n",
       "      <td>45.0</td>\n",
       "      <td>anterior torso</td>\n",
       "      <td>malignant</td>\n",
       "    </tr>\n",
       "  </tbody>\n",
       "</table>\n",
       "<p>8953 rows × 6 columns</p>\n",
       "</div>"
      ],
      "text/plain": [
       "         image_name                                               path  \\\n",
       "2034   ISIC_0714807  ../data/ISIC_IMAGES_512x512/ISIC2020/image2020...   \n",
       "6216   ISIC_1984995  ../data/ISIC_IMAGES_512x512/ISIC2020/image2020...   \n",
       "1848   ISIC_0663588  ../data/ISIC_IMAGES_512x512/ISIC2020/image2020...   \n",
       "11624  ISIC_0071693  ../data/ISIC_IMAGES_512x512/ISIC2019/image2019...   \n",
       "4775   ISIC_1558731  ../data/ISIC_IMAGES_512x512/ISIC2020/image2020...   \n",
       "...             ...                                                ...   \n",
       "2578   ISIC_0884397  ../data/ISIC_IMAGES_512x512/ISIC2020/image2020...   \n",
       "11825  ISIC_0072990  ../data/ISIC_IMAGES_512x512/ISIC2019/image2019...   \n",
       "672    ISIC_0307958  ../data/ISIC_IMAGES_512x512/ISIC2020/image2020...   \n",
       "6213   ISIC_1984152  ../data/ISIC_IMAGES_512x512/ISIC2020/image2020...   \n",
       "10077  ISIC_0060741  ../data/ISIC_IMAGES_512x512/ISIC2019/image2019...   \n",
       "\n",
       "          sex  age_approx anatom_site_general_challenge benign_malignant  \n",
       "2034   female        20.0               upper extremity           benign  \n",
       "6216   female        30.0                   palms/soles           benign  \n",
       "1848     male        65.0                         torso           benign  \n",
       "11624  female        40.0                     head/neck        malignant  \n",
       "4775   female        45.0                         torso           benign  \n",
       "...       ...         ...                           ...              ...  \n",
       "2578     male        40.0                         torso           benign  \n",
       "11825  female        50.0                anterior torso        malignant  \n",
       "672    female        80.0                   palms/soles           benign  \n",
       "6213   female        55.0                         torso           benign  \n",
       "10077  female        45.0                anterior torso        malignant  \n",
       "\n",
       "[8953 rows x 6 columns]"
      ]
     },
     "execution_count": 9,
     "metadata": {},
     "output_type": "execute_result"
    }
   ],
   "source": [
    "# Train dataframe\n",
    "df_train = pd.concat([X_train, y_train], axis=1)\n",
    "print(f\"Train dataset: \\n {df_train['benign_malignant'].value_counts()}\")\n",
    "df_train"
   ]
  },
  {
   "cell_type": "code",
   "execution_count": 10,
   "metadata": {},
   "outputs": [
    {
     "name": "stdout",
     "output_type": "stream",
     "text": [
      "Test dataset: \n",
      " benign       1211\n",
      "malignant    1028\n",
      "Name: benign_malignant, dtype: int64\n"
     ]
    },
    {
     "data": {
      "text/html": [
       "<div>\n",
       "<style scoped>\n",
       "    .dataframe tbody tr th:only-of-type {\n",
       "        vertical-align: middle;\n",
       "    }\n",
       "\n",
       "    .dataframe tbody tr th {\n",
       "        vertical-align: top;\n",
       "    }\n",
       "\n",
       "    .dataframe thead th {\n",
       "        text-align: right;\n",
       "    }\n",
       "</style>\n",
       "<table border=\"1\" class=\"dataframe\">\n",
       "  <thead>\n",
       "    <tr style=\"text-align: right;\">\n",
       "      <th></th>\n",
       "      <th>image_name</th>\n",
       "      <th>path</th>\n",
       "      <th>sex</th>\n",
       "      <th>age_approx</th>\n",
       "      <th>anatom_site_general_challenge</th>\n",
       "      <th>benign_malignant</th>\n",
       "    </tr>\n",
       "  </thead>\n",
       "  <tbody>\n",
       "    <tr>\n",
       "      <th>8227</th>\n",
       "      <td>ISIC_0028219</td>\n",
       "      <td>../data/ISIC_IMAGES_512x512/ISIC2019/image2019...</td>\n",
       "      <td>male</td>\n",
       "      <td>45.0</td>\n",
       "      <td>upper extremity</td>\n",
       "      <td>malignant</td>\n",
       "    </tr>\n",
       "    <tr>\n",
       "      <th>3879</th>\n",
       "      <td>ISIC_1289942</td>\n",
       "      <td>../data/ISIC_IMAGES_512x512/ISIC2020/image2020...</td>\n",
       "      <td>male</td>\n",
       "      <td>60.0</td>\n",
       "      <td>torso</td>\n",
       "      <td>benign</td>\n",
       "    </tr>\n",
       "    <tr>\n",
       "      <th>2819</th>\n",
       "      <td>ISIC_0954236</td>\n",
       "      <td>../data/ISIC_IMAGES_512x512/ISIC2020/image2020...</td>\n",
       "      <td>male</td>\n",
       "      <td>45.0</td>\n",
       "      <td>lower extremity</td>\n",
       "      <td>benign</td>\n",
       "    </tr>\n",
       "    <tr>\n",
       "      <th>11196</th>\n",
       "      <td>ISIC_0068438</td>\n",
       "      <td>../data/ISIC_IMAGES_512x512/ISIC2019/image2019...</td>\n",
       "      <td>female</td>\n",
       "      <td>75.0</td>\n",
       "      <td>palms/soles</td>\n",
       "      <td>malignant</td>\n",
       "    </tr>\n",
       "    <tr>\n",
       "      <th>1808</th>\n",
       "      <td>ISIC_0652205</td>\n",
       "      <td>../data/ISIC_IMAGES_512x512/ISIC2020/image2020...</td>\n",
       "      <td>male</td>\n",
       "      <td>40.0</td>\n",
       "      <td>lower extremity</td>\n",
       "      <td>benign</td>\n",
       "    </tr>\n",
       "    <tr>\n",
       "      <th>...</th>\n",
       "      <td>...</td>\n",
       "      <td>...</td>\n",
       "      <td>...</td>\n",
       "      <td>...</td>\n",
       "      <td>...</td>\n",
       "      <td>...</td>\n",
       "    </tr>\n",
       "    <tr>\n",
       "      <th>10278</th>\n",
       "      <td>ISIC_0062029</td>\n",
       "      <td>../data/ISIC_IMAGES_512x512/ISIC2019/image2019...</td>\n",
       "      <td>female</td>\n",
       "      <td>80.0</td>\n",
       "      <td>anterior torso</td>\n",
       "      <td>malignant</td>\n",
       "    </tr>\n",
       "    <tr>\n",
       "      <th>5484</th>\n",
       "      <td>ISIC_1768051</td>\n",
       "      <td>../data/ISIC_IMAGES_512x512/ISIC2020/image2020...</td>\n",
       "      <td>female</td>\n",
       "      <td>70.0</td>\n",
       "      <td>lower extremity</td>\n",
       "      <td>benign</td>\n",
       "    </tr>\n",
       "    <tr>\n",
       "      <th>4342</th>\n",
       "      <td>ISIC_1431236</td>\n",
       "      <td>../data/ISIC_IMAGES_512x512/ISIC2020/image2020...</td>\n",
       "      <td>female</td>\n",
       "      <td>55.0</td>\n",
       "      <td>torso</td>\n",
       "      <td>benign</td>\n",
       "    </tr>\n",
       "    <tr>\n",
       "      <th>3993</th>\n",
       "      <td>ISIC_1326366</td>\n",
       "      <td>../data/ISIC_IMAGES_512x512/ISIC2020/image2020...</td>\n",
       "      <td>male</td>\n",
       "      <td>65.0</td>\n",
       "      <td>lower extremity</td>\n",
       "      <td>benign</td>\n",
       "    </tr>\n",
       "    <tr>\n",
       "      <th>9652</th>\n",
       "      <td>ISIC_0057828</td>\n",
       "      <td>../data/ISIC_IMAGES_512x512/ISIC2019/image2019...</td>\n",
       "      <td>male</td>\n",
       "      <td>50.0</td>\n",
       "      <td>anterior torso</td>\n",
       "      <td>malignant</td>\n",
       "    </tr>\n",
       "  </tbody>\n",
       "</table>\n",
       "<p>2239 rows × 6 columns</p>\n",
       "</div>"
      ],
      "text/plain": [
       "         image_name                                               path  \\\n",
       "8227   ISIC_0028219  ../data/ISIC_IMAGES_512x512/ISIC2019/image2019...   \n",
       "3879   ISIC_1289942  ../data/ISIC_IMAGES_512x512/ISIC2020/image2020...   \n",
       "2819   ISIC_0954236  ../data/ISIC_IMAGES_512x512/ISIC2020/image2020...   \n",
       "11196  ISIC_0068438  ../data/ISIC_IMAGES_512x512/ISIC2019/image2019...   \n",
       "1808   ISIC_0652205  ../data/ISIC_IMAGES_512x512/ISIC2020/image2020...   \n",
       "...             ...                                                ...   \n",
       "10278  ISIC_0062029  ../data/ISIC_IMAGES_512x512/ISIC2019/image2019...   \n",
       "5484   ISIC_1768051  ../data/ISIC_IMAGES_512x512/ISIC2020/image2020...   \n",
       "4342   ISIC_1431236  ../data/ISIC_IMAGES_512x512/ISIC2020/image2020...   \n",
       "3993   ISIC_1326366  ../data/ISIC_IMAGES_512x512/ISIC2020/image2020...   \n",
       "9652   ISIC_0057828  ../data/ISIC_IMAGES_512x512/ISIC2019/image2019...   \n",
       "\n",
       "          sex  age_approx anatom_site_general_challenge benign_malignant  \n",
       "8227     male        45.0               upper extremity        malignant  \n",
       "3879     male        60.0                         torso           benign  \n",
       "2819     male        45.0               lower extremity           benign  \n",
       "11196  female        75.0                   palms/soles        malignant  \n",
       "1808     male        40.0               lower extremity           benign  \n",
       "...       ...         ...                           ...              ...  \n",
       "10278  female        80.0                anterior torso        malignant  \n",
       "5484   female        70.0               lower extremity           benign  \n",
       "4342   female        55.0                         torso           benign  \n",
       "3993     male        65.0               lower extremity           benign  \n",
       "9652     male        50.0                anterior torso        malignant  \n",
       "\n",
       "[2239 rows x 6 columns]"
      ]
     },
     "execution_count": 10,
     "metadata": {},
     "output_type": "execute_result"
    }
   ],
   "source": [
    "# Validation dataframe\n",
    "df_val = pd.concat([X_val, y_val], axis=1)\n",
    "print(f\"Test dataset: \\n {df_val['benign_malignant'].value_counts()}\")\n",
    "df_val"
   ]
  },
  {
   "cell_type": "code",
   "execution_count": 11,
   "metadata": {},
   "outputs": [
    {
     "name": "stdout",
     "output_type": "stream",
     "text": [
      "Test dataset: \n",
      " benign       694\n",
      "malignant    550\n",
      "Name: benign_malignant, dtype: int64\n"
     ]
    },
    {
     "data": {
      "text/html": [
       "<div>\n",
       "<style scoped>\n",
       "    .dataframe tbody tr th:only-of-type {\n",
       "        vertical-align: middle;\n",
       "    }\n",
       "\n",
       "    .dataframe tbody tr th {\n",
       "        vertical-align: top;\n",
       "    }\n",
       "\n",
       "    .dataframe thead th {\n",
       "        text-align: right;\n",
       "    }\n",
       "</style>\n",
       "<table border=\"1\" class=\"dataframe\">\n",
       "  <thead>\n",
       "    <tr style=\"text-align: right;\">\n",
       "      <th></th>\n",
       "      <th>image_name</th>\n",
       "      <th>path</th>\n",
       "      <th>sex</th>\n",
       "      <th>age_approx</th>\n",
       "      <th>anatom_site_general_challenge</th>\n",
       "      <th>benign_malignant</th>\n",
       "    </tr>\n",
       "  </thead>\n",
       "  <tbody>\n",
       "    <tr>\n",
       "      <th>10405</th>\n",
       "      <td>ISIC_0062914</td>\n",
       "      <td>../data/ISIC_IMAGES_512x512/ISIC2019/image2019...</td>\n",
       "      <td>female</td>\n",
       "      <td>50.0</td>\n",
       "      <td>lower extremity</td>\n",
       "      <td>malignant</td>\n",
       "    </tr>\n",
       "    <tr>\n",
       "      <th>6392</th>\n",
       "      <td>ISIC_2038024</td>\n",
       "      <td>../data/ISIC_IMAGES_512x512/ISIC2020/image2020...</td>\n",
       "      <td>male</td>\n",
       "      <td>45.0</td>\n",
       "      <td>lower extremity</td>\n",
       "      <td>benign</td>\n",
       "    </tr>\n",
       "    <tr>\n",
       "      <th>1483</th>\n",
       "      <td>ISIC_0552960</td>\n",
       "      <td>../data/ISIC_IMAGES_512x512/ISIC2020/image2020...</td>\n",
       "      <td>male</td>\n",
       "      <td>60.0</td>\n",
       "      <td>lower extremity</td>\n",
       "      <td>benign</td>\n",
       "    </tr>\n",
       "    <tr>\n",
       "      <th>4190</th>\n",
       "      <td>ISIC_1384527</td>\n",
       "      <td>../data/ISIC_IMAGES_512x512/ISIC2020/image2020...</td>\n",
       "      <td>female</td>\n",
       "      <td>35.0</td>\n",
       "      <td>lower extremity</td>\n",
       "      <td>benign</td>\n",
       "    </tr>\n",
       "    <tr>\n",
       "      <th>8635</th>\n",
       "      <td>ISIC_0032724</td>\n",
       "      <td>../data/ISIC_IMAGES_512x512/ISIC2019/image2019...</td>\n",
       "      <td>female</td>\n",
       "      <td>50.0</td>\n",
       "      <td>posterior torso</td>\n",
       "      <td>malignant</td>\n",
       "    </tr>\n",
       "    <tr>\n",
       "      <th>...</th>\n",
       "      <td>...</td>\n",
       "      <td>...</td>\n",
       "      <td>...</td>\n",
       "      <td>...</td>\n",
       "      <td>...</td>\n",
       "      <td>...</td>\n",
       "    </tr>\n",
       "    <tr>\n",
       "      <th>8450</th>\n",
       "      <td>ISIC_0030929</td>\n",
       "      <td>../data/ISIC_IMAGES_512x512/ISIC2019/image2019...</td>\n",
       "      <td>female</td>\n",
       "      <td>55.0</td>\n",
       "      <td>upper extremity</td>\n",
       "      <td>malignant</td>\n",
       "    </tr>\n",
       "    <tr>\n",
       "      <th>4949</th>\n",
       "      <td>ISIC_1611285</td>\n",
       "      <td>../data/ISIC_IMAGES_512x512/ISIC2020/image2020...</td>\n",
       "      <td>male</td>\n",
       "      <td>30.0</td>\n",
       "      <td>lower extremity</td>\n",
       "      <td>benign</td>\n",
       "    </tr>\n",
       "    <tr>\n",
       "      <th>2239</th>\n",
       "      <td>ISIC_0772957</td>\n",
       "      <td>../data/ISIC_IMAGES_512x512/ISIC2020/image2020...</td>\n",
       "      <td>male</td>\n",
       "      <td>45.0</td>\n",
       "      <td>torso</td>\n",
       "      <td>benign</td>\n",
       "    </tr>\n",
       "    <tr>\n",
       "      <th>10402</th>\n",
       "      <td>ISIC_0062891</td>\n",
       "      <td>../data/ISIC_IMAGES_512x512/ISIC2019/image2019...</td>\n",
       "      <td>female</td>\n",
       "      <td>35.0</td>\n",
       "      <td>anterior torso</td>\n",
       "      <td>malignant</td>\n",
       "    </tr>\n",
       "    <tr>\n",
       "      <th>12335</th>\n",
       "      <td>ISIC_0012055</td>\n",
       "      <td>../data/ISIC_IMAGES_512x512/Add_ISIC/image_add...</td>\n",
       "      <td>male</td>\n",
       "      <td>85.0</td>\n",
       "      <td>upper extremity</td>\n",
       "      <td>malignant</td>\n",
       "    </tr>\n",
       "  </tbody>\n",
       "</table>\n",
       "<p>1244 rows × 6 columns</p>\n",
       "</div>"
      ],
      "text/plain": [
       "         image_name                                               path  \\\n",
       "10405  ISIC_0062914  ../data/ISIC_IMAGES_512x512/ISIC2019/image2019...   \n",
       "6392   ISIC_2038024  ../data/ISIC_IMAGES_512x512/ISIC2020/image2020...   \n",
       "1483   ISIC_0552960  ../data/ISIC_IMAGES_512x512/ISIC2020/image2020...   \n",
       "4190   ISIC_1384527  ../data/ISIC_IMAGES_512x512/ISIC2020/image2020...   \n",
       "8635   ISIC_0032724  ../data/ISIC_IMAGES_512x512/ISIC2019/image2019...   \n",
       "...             ...                                                ...   \n",
       "8450   ISIC_0030929  ../data/ISIC_IMAGES_512x512/ISIC2019/image2019...   \n",
       "4949   ISIC_1611285  ../data/ISIC_IMAGES_512x512/ISIC2020/image2020...   \n",
       "2239   ISIC_0772957  ../data/ISIC_IMAGES_512x512/ISIC2020/image2020...   \n",
       "10402  ISIC_0062891  ../data/ISIC_IMAGES_512x512/ISIC2019/image2019...   \n",
       "12335  ISIC_0012055  ../data/ISIC_IMAGES_512x512/Add_ISIC/image_add...   \n",
       "\n",
       "          sex  age_approx anatom_site_general_challenge benign_malignant  \n",
       "10405  female        50.0               lower extremity        malignant  \n",
       "6392     male        45.0               lower extremity           benign  \n",
       "1483     male        60.0               lower extremity           benign  \n",
       "4190   female        35.0               lower extremity           benign  \n",
       "8635   female        50.0               posterior torso        malignant  \n",
       "...       ...         ...                           ...              ...  \n",
       "8450   female        55.0               upper extremity        malignant  \n",
       "4949     male        30.0               lower extremity           benign  \n",
       "2239     male        45.0                         torso           benign  \n",
       "10402  female        35.0                anterior torso        malignant  \n",
       "12335    male        85.0               upper extremity        malignant  \n",
       "\n",
       "[1244 rows x 6 columns]"
      ]
     },
     "execution_count": 11,
     "metadata": {},
     "output_type": "execute_result"
    }
   ],
   "source": [
    "# Test (Holdout) dataframe:\n",
    "df_test = pd.concat([X_test, y_test], axis=1)\n",
    "print(f\"Test dataset: \\n {df_test['benign_malignant'].value_counts()}\")\n",
    "df_test"
   ]
  },
  {
   "cell_type": "markdown",
   "metadata": {},
   "source": [
    "## 2. Image Preprocessing"
   ]
  },
  {
   "cell_type": "code",
   "execution_count": 12,
   "metadata": {},
   "outputs": [
    {
     "name": "stdout",
     "output_type": "stream",
     "text": [
      "Found 8953 validated image filenames belonging to 2 classes.\n",
      "Found 2239 validated image filenames belonging to 2 classes.\n",
      "Found 1244 validated image filenames belonging to 2 classes.\n"
     ]
    }
   ],
   "source": [
    "# Instantiating a generator object and normalizing the RGB values:\n",
    "generator = ImageDataGenerator(rescale=1./255)\n",
    "\n",
    "\n",
    "# Creating the generator for the training data\n",
    "train_generator = generator.flow_from_dataframe(df_train, x_col='path', y_col='benign_malignant',\n",
    "                                                # Re-sizing images to 64x64\n",
    "                                                target_size=(64, 64),\n",
    "                                                batch_size=len(df_train),\n",
    "                                                seed=42,\n",
    "                                                class_mode='binary')\n",
    "\n",
    "\n",
    "# Creating the generator for the validation data\n",
    "val_generator = generator.flow_from_dataframe(df_val, x_col='path', y_col='benign_malignant',\n",
    "                                              # Re-sizing images to 64x64\n",
    "                                              target_size=(64, 64),\n",
    "                                              batch_size=len(df_val),\n",
    "                                              seed=42,\n",
    "                                              class_mode='binary')\n",
    "\n",
    "\n",
    "# Setting aside a testing/hold-out set\n",
    "test_generator =  generator.flow_from_dataframe(df_test, x_col='path', y_col='benign_malignant',\n",
    "                                                # Re-sizing images to 64x64\n",
    "                                                target_size=(64, 64),\n",
    "                                                batch_size=len(df_test),\n",
    "                                                seed=42,\n",
    "                                                class_mode='binary')"
   ]
  },
  {
   "cell_type": "code",
   "execution_count": 13,
   "metadata": {},
   "outputs": [
    {
     "data": {
      "text/plain": [
       "{'benign': 0, 'malignant': 1}"
      ]
     },
     "execution_count": 13,
     "metadata": {},
     "output_type": "execute_result"
    }
   ],
   "source": [
    "train_generator.class_indices"
   ]
  },
  {
   "cell_type": "code",
   "execution_count": 14,
   "metadata": {},
   "outputs": [],
   "source": [
    "# Create image and labels data sets by using next() fnc, it returns next item in the generator above:\n",
    "train_images, train_labels = next(train_generator)\n",
    "val_images, val_labels = next(val_generator)\n",
    "test_images, test_labels = next(test_generator)"
   ]
  },
  {
   "cell_type": "code",
   "execution_count": 15,
   "metadata": {},
   "outputs": [
    {
     "name": "stdout",
     "output_type": "stream",
     "text": [
      "Train data set classes, {'benign': 0, 'malignant': 1}\n",
      "Validation data set classes, {'benign': 0, 'malignant': 1}\n",
      "Test data set classes, {'benign': 0, 'malignant': 1}\n"
     ]
    }
   ],
   "source": [
    "# Check classes\n",
    "print(f\"Train data set classes, {train_generator.class_indices}\")\n",
    "print(f\"Validation data set classes, {val_generator.class_indices}\")\n",
    "print(f\"Test data set classes, {test_generator.class_indices}\")"
   ]
  },
  {
   "cell_type": "code",
   "execution_count": 16,
   "metadata": {},
   "outputs": [
    {
     "name": "stdout",
     "output_type": "stream",
     "text": [
      "Number of training samples: 8953\n",
      "Number of validation samples: 2239\n",
      "Number of test samples: 1244\n",
      "train_images shape: (8953, 64, 64, 3)\n",
      "train_labels shape: (8953,)\n",
      "val_images shape: (2239, 64, 64, 3)\n",
      "val_labels shape: (2239,)\n",
      "test_images shape: (1244, 64, 64, 3)\n",
      "test_labels shape: (1244,)\n"
     ]
    }
   ],
   "source": [
    "# Explore dataset again\n",
    "m_train = train_images.shape[0]\n",
    "m_val = val_images.shape[0]\n",
    "m_test = test_images.shape[0]\n",
    "\n",
    "print (\"Number of training samples: \" + str(m_train))\n",
    "print (\"Number of validation samples: \" + str(m_val))\n",
    "print (\"Number of test samples: \" + str(m_test))\n",
    "\n",
    "print (\"train_images shape: \" + str(train_images.shape))   \n",
    "print (\"train_labels shape: \" + str(train_labels.shape))\n",
    "\n",
    "print (\"val_images shape: \" + str(val_images.shape))\n",
    "print (\"val_labels shape: \" + str(val_labels.shape))\n",
    "\n",
    "print (\"test_images shape: \" + str(test_images.shape))\n",
    "print (\"test_labels shape: \" + str(test_labels.shape))"
   ]
  },
  {
   "cell_type": "code",
   "execution_count": 17,
   "metadata": {},
   "outputs": [
    {
     "name": "stdout",
     "output_type": "stream",
     "text": [
      "(8953, 12288)\n",
      "(2239, 12288)\n",
      "(1244, 12288)\n"
     ]
    }
   ],
   "source": [
    "# Reshaping image sets:\n",
    "train_img = train_images.reshape(train_images.shape[0], -1)\n",
    "val_img = val_images.reshape(val_images.shape[0], -1)\n",
    "test_img = test_images.reshape(test_images.shape[0], -1)\n",
    "\n",
    "print(train_img.shape)\n",
    "print(val_img.shape)\n",
    "print(test_img.shape)"
   ]
  },
  {
   "cell_type": "markdown",
   "metadata": {},
   "source": [
    "## 3. Modeling with Pre-Trained Models"
   ]
  },
  {
   "cell_type": "markdown",
   "metadata": {},
   "source": [
    "## 3.1. VGG-16 Model"
   ]
  },
  {
   "cell_type": "markdown",
   "metadata": {},
   "source": [
    "### First iteration "
   ]
  },
  {
   "cell_type": "code",
   "execution_count": 19,
   "metadata": {},
   "outputs": [],
   "source": [
    "# Defined pretrained VGG-16 model:\n",
    "vgg16_model = VGG16(weights='imagenet',\n",
    "               include_top=False,\n",
    "               input_shape=(64, 64, 3))"
   ]
  },
  {
   "cell_type": "code",
   "execution_count": 20,
   "metadata": {},
   "outputs": [
    {
     "name": "stdout",
     "output_type": "stream",
     "text": [
      "Model: \"vgg16\"\n",
      "_________________________________________________________________\n",
      "Layer (type)                 Output Shape              Param #   \n",
      "=================================================================\n",
      "input_2 (InputLayer)         [(None, 64, 64, 3)]       0         \n",
      "_________________________________________________________________\n",
      "block1_conv1 (Conv2D)        (None, 64, 64, 64)        1792      \n",
      "_________________________________________________________________\n",
      "block1_conv2 (Conv2D)        (None, 64, 64, 64)        36928     \n",
      "_________________________________________________________________\n",
      "block1_pool (MaxPooling2D)   (None, 32, 32, 64)        0         \n",
      "_________________________________________________________________\n",
      "block2_conv1 (Conv2D)        (None, 32, 32, 128)       73856     \n",
      "_________________________________________________________________\n",
      "block2_conv2 (Conv2D)        (None, 32, 32, 128)       147584    \n",
      "_________________________________________________________________\n",
      "block2_pool (MaxPooling2D)   (None, 16, 16, 128)       0         \n",
      "_________________________________________________________________\n",
      "block3_conv1 (Conv2D)        (None, 16, 16, 256)       295168    \n",
      "_________________________________________________________________\n",
      "block3_conv2 (Conv2D)        (None, 16, 16, 256)       590080    \n",
      "_________________________________________________________________\n",
      "block3_conv3 (Conv2D)        (None, 16, 16, 256)       590080    \n",
      "_________________________________________________________________\n",
      "block3_pool (MaxPooling2D)   (None, 8, 8, 256)         0         \n",
      "_________________________________________________________________\n",
      "block4_conv1 (Conv2D)        (None, 8, 8, 512)         1180160   \n",
      "_________________________________________________________________\n",
      "block4_conv2 (Conv2D)        (None, 8, 8, 512)         2359808   \n",
      "_________________________________________________________________\n",
      "block4_conv3 (Conv2D)        (None, 8, 8, 512)         2359808   \n",
      "_________________________________________________________________\n",
      "block4_pool (MaxPooling2D)   (None, 4, 4, 512)         0         \n",
      "_________________________________________________________________\n",
      "block5_conv1 (Conv2D)        (None, 4, 4, 512)         2359808   \n",
      "_________________________________________________________________\n",
      "block5_conv2 (Conv2D)        (None, 4, 4, 512)         2359808   \n",
      "_________________________________________________________________\n",
      "block5_conv3 (Conv2D)        (None, 4, 4, 512)         2359808   \n",
      "_________________________________________________________________\n",
      "block5_pool (MaxPooling2D)   (None, 2, 2, 512)         0         \n",
      "=================================================================\n",
      "Total params: 14,714,688\n",
      "Trainable params: 14,714,688\n",
      "Non-trainable params: 0\n",
      "_________________________________________________________________\n"
     ]
    }
   ],
   "source": [
    "vgg16_model.summary()"
   ]
  },
  {
   "cell_type": "code",
   "execution_count": 23,
   "metadata": {},
   "outputs": [],
   "source": [
    "# Define early stop criteria for model:\n",
    "early_stop = [\n",
    "    EarlyStopping(monitor='val_accuracy', mode='max', patience=10, restore_best_weights=True),\n",
    "    ModelCheckpoint(filepath='../Saved_Models/vgg16_best_model.h5', monitor='val_recall', mode='max', \n",
    "                             save_best_only=True, verbose=1)]\n"
   ]
  },
  {
   "cell_type": "code",
   "execution_count": 26,
   "metadata": {},
   "outputs": [],
   "source": [
    "# Create architecture of the model:\n",
    "vgg16_withfinal = models.Sequential()\n",
    "vgg16_withfinal.add(vgg16_model)\n",
    "\n",
    "# adding dense layers from CNN iterations final model:\n",
    "vgg16_withfinal.add(layers.Flatten())\n",
    "\n",
    "vgg16_withfinal.add(layers.Dense(128, activation='relu', kernel_regularizer=l2(l2=0.001)))\n",
    "vgg16_withfinal.add(layers.Dense(1, activation='sigmoid'))"
   ]
  },
  {
   "cell_type": "code",
   "execution_count": 27,
   "metadata": {},
   "outputs": [
    {
     "name": "stdout",
     "output_type": "stream",
     "text": [
      "Model: \"sequential_2\"\n",
      "_________________________________________________________________\n",
      "Layer (type)                 Output Shape              Param #   \n",
      "=================================================================\n",
      "vgg16 (Functional)           (None, 2, 2, 512)         14714688  \n",
      "_________________________________________________________________\n",
      "flatten_1 (Flatten)          (None, 2048)              0         \n",
      "_________________________________________________________________\n",
      "dense_2 (Dense)              (None, 128)               262272    \n",
      "_________________________________________________________________\n",
      "dense_3 (Dense)              (None, 1)                 129       \n",
      "=================================================================\n",
      "Total params: 14,977,089\n",
      "Trainable params: 14,977,089\n",
      "Non-trainable params: 0\n",
      "_________________________________________________________________\n"
     ]
    }
   ],
   "source": [
    "vgg16_withfinal.summary()"
   ]
  },
  {
   "cell_type": "code",
   "execution_count": 28,
   "metadata": {},
   "outputs": [],
   "source": [
    "# Make sure that the pretrianed layer is untrainable\n",
    "# We don't want to change the weights durinf optimization\n",
    "vgg16_model.trainable = False"
   ]
  },
  {
   "cell_type": "code",
   "execution_count": 31,
   "metadata": {},
   "outputs": [
    {
     "name": "stdout",
     "output_type": "stream",
     "text": [
      "vgg16 False\n",
      "flatten_1 True\n",
      "dense_2 True\n",
      "dense_3 True\n"
     ]
    }
   ],
   "source": [
    "# Print out the layers' trainability condition:\n",
    "for layer in vgg16_withfinal.layers:\n",
    "    print(layer.name, layer.trainable)"
   ]
  },
  {
   "cell_type": "code",
   "execution_count": 32,
   "metadata": {
    "scrolled": true
   },
   "outputs": [
    {
     "name": "stdout",
     "output_type": "stream",
     "text": [
      "Epoch 1/30\n",
      "280/280 [==============================] - ETA: 0s - loss: 0.6920 - accuracy: 0.7958 - recall: 0.7033 - precision: 0.8259 - auc: 0.8676\n",
      "Epoch 00001: val_recall improved from -inf to 0.65175, saving model to ../Saved_Models\\vgg16_best_model.h5\n",
      "280/280 [==============================] - 188s 671ms/step - loss: 0.6920 - accuracy: 0.7958 - recall: 0.7033 - precision: 0.8259 - auc: 0.8676 - val_loss: 0.6703 - val_accuracy: 0.8057 - val_recall: 0.6518 - val_precision: 0.8969 - val_auc: 0.8865\n",
      "Epoch 2/30\n",
      "280/280 [==============================] - ETA: 0s - loss: 0.6383 - accuracy: 0.8204 - recall: 0.7493 - precision: 0.8419 - auc: 0.8956\n",
      "Epoch 00002: val_recall improved from 0.65175 to 0.89202, saving model to ../Saved_Models\\vgg16_best_model.h5\n",
      "280/280 [==============================] - 226s 807ms/step - loss: 0.6383 - accuracy: 0.8204 - recall: 0.7493 - precision: 0.8419 - auc: 0.8956 - val_loss: 0.7048 - val_accuracy: 0.7847 - val_recall: 0.8920 - val_precision: 0.7120 - val_auc: 0.9026\n",
      "Epoch 3/30\n",
      "280/280 [==============================] - ETA: 0s - loss: 0.6184 - accuracy: 0.8248 - recall: 0.7585 - precision: 0.8438 - auc: 0.9069\n",
      "Epoch 00003: val_recall did not improve from 0.89202\n",
      "280/280 [==============================] - 213s 761ms/step - loss: 0.6184 - accuracy: 0.8248 - recall: 0.7585 - precision: 0.8438 - auc: 0.9069 - val_loss: 0.6477 - val_accuracy: 0.8088 - val_recall: 0.6469 - val_precision: 0.9110 - val_auc: 0.9109\n",
      "Epoch 4/30\n",
      "280/280 [==============================] - ETA: 0s - loss: 0.6012 - accuracy: 0.8357 - recall: 0.7753 - precision: 0.8532 - auc: 0.9140\n",
      "Epoch 00004: val_recall did not improve from 0.89202\n",
      "280/280 [==============================] - 221s 790ms/step - loss: 0.6012 - accuracy: 0.8357 - recall: 0.7753 - precision: 0.8532 - auc: 0.9140 - val_loss: 0.6017 - val_accuracy: 0.8356 - val_recall: 0.7315 - val_precision: 0.8910 - val_auc: 0.9172\n",
      "Epoch 5/30\n",
      "280/280 [==============================] - ETA: 0s - loss: 0.5919 - accuracy: 0.8322 - recall: 0.7722 - precision: 0.8486 - auc: 0.9176\n",
      "Epoch 00005: val_recall did not improve from 0.89202\n",
      "280/280 [==============================] - 228s 814ms/step - loss: 0.5919 - accuracy: 0.8322 - recall: 0.7722 - precision: 0.8486 - auc: 0.9176 - val_loss: 0.5855 - val_accuracy: 0.8437 - val_recall: 0.7918 - val_precision: 0.8568 - val_auc: 0.9211\n",
      "Epoch 6/30\n",
      "280/280 [==============================] - ETA: 0s - loss: 0.5821 - accuracy: 0.8394 - recall: 0.7821 - precision: 0.8554 - auc: 0.9213\n",
      "Epoch 00006: val_recall did not improve from 0.89202\n",
      "280/280 [==============================] - 213s 760ms/step - loss: 0.5821 - accuracy: 0.8394 - recall: 0.7821 - precision: 0.8554 - auc: 0.9213 - val_loss: 0.5870 - val_accuracy: 0.8383 - val_recall: 0.7208 - val_precision: 0.9081 - val_auc: 0.9260\n",
      "Epoch 7/30\n",
      "280/280 [==============================] - ETA: 0s - loss: 0.5754 - accuracy: 0.8436 - recall: 0.7885 - precision: 0.8592 - auc: 0.9230\n",
      "Epoch 00007: val_recall did not improve from 0.89202\n",
      "280/280 [==============================] - 230s 820ms/step - loss: 0.5754 - accuracy: 0.8436 - recall: 0.7885 - precision: 0.8592 - auc: 0.9230 - val_loss: 0.5681 - val_accuracy: 0.8450 - val_recall: 0.7743 - val_precision: 0.8738 - val_auc: 0.9273\n",
      "Epoch 8/30\n",
      "280/280 [==============================] - ETA: 0s - loss: 0.5639 - accuracy: 0.8463 - recall: 0.7970 - precision: 0.8580 - auc: 0.9276\n",
      "Epoch 00008: val_recall did not improve from 0.89202\n",
      "280/280 [==============================] - 215s 770ms/step - loss: 0.5639 - accuracy: 0.8463 - recall: 0.7970 - precision: 0.8580 - auc: 0.9276 - val_loss: 0.5568 - val_accuracy: 0.8490 - val_recall: 0.8113 - val_precision: 0.8528 - val_auc: 0.9316\n",
      "Epoch 9/30\n",
      "280/280 [==============================] - ETA: 0s - loss: 0.5596 - accuracy: 0.8503 - recall: 0.8036 - precision: 0.8610 - auc: 0.9279\n",
      "Epoch 00009: val_recall did not improve from 0.89202\n",
      "280/280 [==============================] - 245s 874ms/step - loss: 0.5596 - accuracy: 0.8503 - recall: 0.8036 - precision: 0.8610 - auc: 0.9279 - val_loss: 0.5535 - val_accuracy: 0.8513 - val_recall: 0.8064 - val_precision: 0.8609 - val_auc: 0.9313\n",
      "Epoch 10/30\n",
      "280/280 [==============================] - ETA: 0s - loss: 0.5518 - accuracy: 0.8528 - recall: 0.8048 - precision: 0.8650 - auc: 0.9306\n",
      "Epoch 00010: val_recall did not improve from 0.89202\n",
      "280/280 [==============================] - 210s 748ms/step - loss: 0.5518 - accuracy: 0.8528 - recall: 0.8048 - precision: 0.8650 - auc: 0.9306 - val_loss: 0.5481 - val_accuracy: 0.8553 - val_recall: 0.8366 - val_precision: 0.8465 - val_auc: 0.9339\n",
      "Epoch 11/30\n",
      "280/280 [==============================] - ETA: 0s - loss: 0.5430 - accuracy: 0.8548 - recall: 0.8130 - precision: 0.8626 - auc: 0.9335\n",
      "Epoch 00011: val_recall did not improve from 0.89202\n",
      "280/280 [==============================] - 228s 814ms/step - loss: 0.5430 - accuracy: 0.8548 - recall: 0.8130 - precision: 0.8626 - auc: 0.9335 - val_loss: 0.5407 - val_accuracy: 0.8566 - val_recall: 0.7977 - val_precision: 0.8789 - val_auc: 0.9359\n",
      "Epoch 12/30\n",
      "280/280 [==============================] - ETA: 0s - loss: 0.5401 - accuracy: 0.8527 - recall: 0.8094 - precision: 0.8612 - auc: 0.9332\n",
      "Epoch 00012: val_recall improved from 0.89202 to 0.91440, saving model to ../Saved_Models\\vgg16_best_model.h5\n",
      "280/280 [==============================] - 222s 792ms/step - loss: 0.5401 - accuracy: 0.8527 - recall: 0.8094 - precision: 0.8612 - auc: 0.9332 - val_loss: 0.5937 - val_accuracy: 0.8330 - val_recall: 0.9144 - val_precision: 0.7667 - val_auc: 0.9365\n",
      "Epoch 13/30\n",
      "280/280 [==============================] - ETA: 0s - loss: 0.5423 - accuracy: 0.8507 - recall: 0.8055 - precision: 0.8602 - auc: 0.9312\n",
      "Epoch 00013: val_recall did not improve from 0.91440\n",
      "280/280 [==============================] - 236s 842ms/step - loss: 0.5423 - accuracy: 0.8507 - recall: 0.8055 - precision: 0.8602 - auc: 0.9312 - val_loss: 0.5358 - val_accuracy: 0.8580 - val_recall: 0.7947 - val_precision: 0.8842 - val_auc: 0.9356\n",
      "Epoch 14/30\n",
      "280/280 [==============================] - ETA: 0s - loss: 0.5318 - accuracy: 0.8570 - recall: 0.8152 - precision: 0.8654 - auc: 0.9349\n",
      "Epoch 00014: val_recall did not improve from 0.91440\n",
      "280/280 [==============================] - 208s 744ms/step - loss: 0.5318 - accuracy: 0.8570 - recall: 0.8152 - precision: 0.8654 - auc: 0.9349 - val_loss: 0.5471 - val_accuracy: 0.8504 - val_recall: 0.7412 - val_precision: 0.9170 - val_auc: 0.9374\n",
      "Epoch 15/30\n",
      "280/280 [==============================] - ETA: 0s - loss: 0.5310 - accuracy: 0.8571 - recall: 0.8135 - precision: 0.8669 - auc: 0.9343\n",
      "Epoch 00015: val_recall did not improve from 0.91440\n",
      "280/280 [==============================] - 242s 864ms/step - loss: 0.5310 - accuracy: 0.8571 - recall: 0.8135 - precision: 0.8669 - auc: 0.9343 - val_loss: 0.5300 - val_accuracy: 0.8589 - val_recall: 0.8132 - val_precision: 0.8708 - val_auc: 0.9352\n",
      "Epoch 16/30\n",
      "280/280 [==============================] - ETA: 0s - loss: 0.5226 - accuracy: 0.8583 - recall: 0.8189 - precision: 0.8650 - auc: 0.9371\n",
      "Epoch 00016: val_recall did not improve from 0.91440\n",
      "280/280 [==============================] - 217s 776ms/step - loss: 0.5226 - accuracy: 0.8583 - recall: 0.8189 - precision: 0.8650 - auc: 0.9371 - val_loss: 0.5267 - val_accuracy: 0.8589 - val_recall: 0.7879 - val_precision: 0.8921 - val_auc: 0.9375\n",
      "Epoch 17/30\n",
      "280/280 [==============================] - ETA: 0s - loss: 0.5204 - accuracy: 0.8589 - recall: 0.8211 - precision: 0.8647 - auc: 0.9373\n",
      "Epoch 00017: val_recall did not improve from 0.91440\n",
      "280/280 [==============================] - 240s 858ms/step - loss: 0.5204 - accuracy: 0.8589 - recall: 0.8211 - precision: 0.8647 - auc: 0.9373 - val_loss: 0.5414 - val_accuracy: 0.8495 - val_recall: 0.7354 - val_precision: 0.9208 - val_auc: 0.9381\n",
      "Epoch 18/30\n",
      "280/280 [==============================] - ETA: 0s - loss: 0.5149 - accuracy: 0.8568 - recall: 0.8189 - precision: 0.8621 - auc: 0.9385\n",
      "Epoch 00018: val_recall did not improve from 0.91440\n",
      "280/280 [==============================] - 214s 766ms/step - loss: 0.5149 - accuracy: 0.8568 - recall: 0.8189 - precision: 0.8621 - auc: 0.9385 - val_loss: 0.5204 - val_accuracy: 0.8598 - val_recall: 0.7782 - val_precision: 0.9029 - val_auc: 0.9398\n"
     ]
    },
    {
     "name": "stdout",
     "output_type": "stream",
     "text": [
      "Epoch 19/30\n",
      "280/280 [==============================] - ETA: 0s - loss: 0.5114 - accuracy: 0.8606 - recall: 0.8216 - precision: 0.8676 - auc: 0.9391\n",
      "Epoch 00019: val_recall did not improve from 0.91440\n",
      "280/280 [==============================] - 243s 868ms/step - loss: 0.5114 - accuracy: 0.8606 - recall: 0.8216 - precision: 0.8676 - auc: 0.9391 - val_loss: 0.5351 - val_accuracy: 0.8535 - val_recall: 0.8920 - val_precision: 0.8086 - val_auc: 0.9401\n",
      "Epoch 20/30\n",
      "280/280 [==============================] - ETA: 0s - loss: 0.5041 - accuracy: 0.8632 - recall: 0.8267 - precision: 0.8688 - auc: 0.9411\n",
      "Epoch 00020: val_recall did not improve from 0.91440\n",
      "280/280 [==============================] - 228s 815ms/step - loss: 0.5041 - accuracy: 0.8632 - recall: 0.8267 - precision: 0.8688 - auc: 0.9411 - val_loss: 0.5219 - val_accuracy: 0.8611 - val_recall: 0.7714 - val_precision: 0.9125 - val_auc: 0.9395\n",
      "Epoch 21/30\n",
      "280/280 [==============================] - ETA: 0s - loss: 0.5027 - accuracy: 0.8614 - recall: 0.8223 - precision: 0.8686 - auc: 0.9411\n",
      "Epoch 00021: val_recall did not improve from 0.91440\n",
      "280/280 [==============================] - 237s 845ms/step - loss: 0.5027 - accuracy: 0.8614 - recall: 0.8223 - precision: 0.8686 - auc: 0.9411 - val_loss: 0.5097 - val_accuracy: 0.8629 - val_recall: 0.8658 - val_precision: 0.8404 - val_auc: 0.9409\n",
      "Epoch 22/30\n",
      "280/280 [==============================] - ETA: 0s - loss: 0.5023 - accuracy: 0.8615 - recall: 0.8240 - precision: 0.8675 - auc: 0.9403\n",
      "Epoch 00022: val_recall did not improve from 0.91440\n",
      "280/280 [==============================] - 248s 884ms/step - loss: 0.5023 - accuracy: 0.8615 - recall: 0.8240 - precision: 0.8675 - auc: 0.9403 - val_loss: 0.5554 - val_accuracy: 0.8432 - val_recall: 0.7082 - val_precision: 0.9345 - val_auc: 0.9388\n",
      "Epoch 23/30\n",
      "280/280 [==============================] - ETA: 0s - loss: 0.4931 - accuracy: 0.8671 - recall: 0.8325 - precision: 0.8720 - auc: 0.9434\n",
      "Epoch 00023: val_recall did not improve from 0.91440\n",
      "280/280 [==============================] - 283s 1s/step - loss: 0.4931 - accuracy: 0.8671 - recall: 0.8325 - precision: 0.8720 - auc: 0.9434 - val_loss: 0.5017 - val_accuracy: 0.8584 - val_recall: 0.8356 - val_precision: 0.8530 - val_auc: 0.9398\n",
      "Epoch 24/30\n",
      "280/280 [==============================] - ETA: 0s - loss: 0.4905 - accuracy: 0.8634 - recall: 0.8291 - precision: 0.8673 - auc: 0.9435\n",
      "Epoch 00024: val_recall did not improve from 0.91440\n",
      "280/280 [==============================] - 294s 1s/step - loss: 0.4905 - accuracy: 0.8634 - recall: 0.8291 - precision: 0.8673 - auc: 0.9435 - val_loss: 0.4985 - val_accuracy: 0.8620 - val_recall: 0.8346 - val_precision: 0.8606 - val_auc: 0.9401\n",
      "Epoch 25/30\n",
      "280/280 [==============================] - ETA: 0s - loss: 0.4895 - accuracy: 0.8681 - recall: 0.8359 - precision: 0.8714 - auc: 0.9430\n",
      "Epoch 00025: val_recall did not improve from 0.91440\n",
      "280/280 [==============================] - 317s 1s/step - loss: 0.4895 - accuracy: 0.8681 - recall: 0.8359 - precision: 0.8714 - auc: 0.9430 - val_loss: 0.5008 - val_accuracy: 0.8611 - val_recall: 0.7918 - val_precision: 0.8935 - val_auc: 0.9409\n",
      "Epoch 26/30\n",
      "280/280 [==============================] - ETA: 0s - loss: 0.4875 - accuracy: 0.8656 - recall: 0.8289 - precision: 0.8720 - auc: 0.9432\n",
      "Epoch 00026: val_recall did not improve from 0.91440\n",
      "280/280 [==============================] - 311s 1s/step - loss: 0.4875 - accuracy: 0.8656 - recall: 0.8289 - precision: 0.8720 - auc: 0.9432 - val_loss: 0.4915 - val_accuracy: 0.8682 - val_recall: 0.8181 - val_precision: 0.8862 - val_auc: 0.9421\n",
      "Epoch 27/30\n",
      "280/280 [==============================] - ETA: 0s - loss: 0.4748 - accuracy: 0.8733 - recall: 0.8396 - precision: 0.8790 - auc: 0.9475\n",
      "Epoch 00027: val_recall did not improve from 0.91440\n",
      "280/280 [==============================] - 332s 1s/step - loss: 0.4748 - accuracy: 0.8733 - recall: 0.8396 - precision: 0.8790 - auc: 0.9475 - val_loss: 0.5028 - val_accuracy: 0.8593 - val_recall: 0.7733 - val_precision: 0.9065 - val_auc: 0.9407\n",
      "Epoch 28/30\n",
      "280/280 [==============================] - ETA: 0s - loss: 0.4799 - accuracy: 0.8691 - recall: 0.8345 - precision: 0.8745 - auc: 0.9444\n",
      "Epoch 00028: val_recall did not improve from 0.91440\n",
      "280/280 [==============================] - 369s 1s/step - loss: 0.4799 - accuracy: 0.8691 - recall: 0.8345 - precision: 0.8745 - auc: 0.9444 - val_loss: 0.5023 - val_accuracy: 0.8589 - val_recall: 0.7617 - val_precision: 0.9169 - val_auc: 0.9420\n",
      "Epoch 29/30\n",
      "280/280 [==============================] - ETA: 0s - loss: 0.4747 - accuracy: 0.8695 - recall: 0.8325 - precision: 0.8769 - auc: 0.9460\n",
      "Epoch 00029: val_recall did not improve from 0.91440\n",
      "280/280 [==============================] - 346s 1s/step - loss: 0.4747 - accuracy: 0.8695 - recall: 0.8325 - precision: 0.8769 - auc: 0.9460 - val_loss: 0.4853 - val_accuracy: 0.8620 - val_recall: 0.8395 - val_precision: 0.8570 - val_auc: 0.9420\n",
      "Epoch 30/30\n",
      "280/280 [==============================] - ETA: 0s - loss: 0.4667 - accuracy: 0.8717 - recall: 0.8381 - precision: 0.8768 - auc: 0.9489\n",
      "Epoch 00030: val_recall did not improve from 0.91440\n",
      "280/280 [==============================] - 348s 1s/step - loss: 0.4667 - accuracy: 0.8717 - recall: 0.8381 - precision: 0.8768 - auc: 0.9489 - val_loss: 0.4843 - val_accuracy: 0.8633 - val_recall: 0.8512 - val_precision: 0.8512 - val_auc: 0.9417\n"
     ]
    }
   ],
   "source": [
    "# Compile and fit the model:\n",
    "vgg16_withfinal.compile(optimizer='sgd',\n",
    "              loss='binary_crossentropy',\n",
    "             metrics=['accuracy', 'Recall', 'Precision', 'AUC'])\n",
    "\n",
    "vgg16_withfinal_history = vgg16_withfinal.fit(train_images,\n",
    "                    train_labels,\n",
    "                    epochs=30,\n",
    "                    batch_size=32,  # mini batches of 32 units!\n",
    "                    callbacks = early_stop,\n",
    "                    validation_data=(val_images, val_labels))"
   ]
  },
  {
   "cell_type": "code",
   "execution_count": 33,
   "metadata": {},
   "outputs": [
    {
     "data": {
      "image/png": "[encoded data removed]",
      "text/plain": [
       "<Figure size 576x360 with 1 Axes>"
      ]
     },
     "metadata": {
      "needs_background": "light"
     },
     "output_type": "display_data"
    },
    {
     "data": {
      "image/png": "[encoded data removed]",
      "text/plain": [
       "<Figure size 576x360 with 1 Axes>"
      ]
     },
     "metadata": {
      "needs_background": "light"
     },
     "output_type": "display_data"
    }
   ],
   "source": [
    "# Visualize the modeling results:\n",
    "visualize_modeling_results(vgg16_withfinal_history)"
   ]
  },
  {
   "cell_type": "code",
   "execution_count": 35,
   "metadata": {},
   "outputs": [
    {
     "data": {
      "image/png": "[encoded data removed]",
      "text/plain": [
       "<Figure size 432x288 with 2 Axes>"
      ]
     },
     "metadata": {
      "needs_background": "light"
     },
     "output_type": "display_data"
    }
   ],
   "source": [
    "# Plot confusion matrix:\n",
    "vgg16_withfinal_predictions = (vgg16_withfinal.predict(val_images) > 0.5).astype(\"int32\")\n",
    "vgg16_withfinal_cm = confusion_matrix(val_labels, vgg16_withfinal_predictions)\n",
    "vgg16_withfinal_disp = ConfusionMatrixDisplay(confusion_matrix=vgg16_withfinal_cm, display_labels=['Benign', 'Malignant'])\n",
    "vgg16_withfinal_disp.plot()\n",
    "plt.show()"
   ]
  },
  {
   "cell_type": "code",
   "execution_count": 36,
   "metadata": {},
   "outputs": [
    {
     "data": {
      "image/png": "[encoded data removed]",
      "text/plain": [
       "<Figure size 432x288 with 2 Axes>"
      ]
     },
     "metadata": {
      "needs_background": "light"
     },
     "output_type": "display_data"
    }
   ],
   "source": [
    "# Plot confusion matrix with percentages:\n",
    "vgg16_withfinal_predictions = (vgg16_withfinal.predict(val_images) > 0.5).astype(\"int32\")\n",
    "vgg16_withfinal_cm = confusion_matrix(val_labels, vgg16_withfinal_predictions, normalize='true')\n",
    "vgg16_withfinal_disp = ConfusionMatrixDisplay(confusion_matrix=vgg16_withfinal_cm, display_labels=['Benign', 'Malignant'])\n",
    "vgg16_withfinal_disp.plot()\n",
    "plt.show()"
   ]
  },
  {
   "cell_type": "code",
   "execution_count": 34,
   "metadata": {},
   "outputs": [
    {
     "name": "stdout",
     "output_type": "stream",
     "text": [
      "280/280 [==============================] - 248s 885ms/step - loss: 0.4512 - accuracy: 0.8799 - recall: 0.8583 - precision: 0.8773 - auc: 0.9544\n",
      "70/70 [==============================] - 78s 1s/step - loss: 0.4843 - accuracy: 0.8633 - recall: 0.8512 - precision: 0.8512 - auc: 0.9417\n"
     ]
    },
    {
     "data": {
      "text/html": [
       "<div>\n",
       "<style scoped>\n",
       "    .dataframe tbody tr th:only-of-type {\n",
       "        vertical-align: middle;\n",
       "    }\n",
       "\n",
       "    .dataframe tbody tr th {\n",
       "        vertical-align: top;\n",
       "    }\n",
       "\n",
       "    .dataframe thead th {\n",
       "        text-align: right;\n",
       "    }\n",
       "</style>\n",
       "<table border=\"1\" class=\"dataframe\">\n",
       "  <thead>\n",
       "    <tr style=\"text-align: right;\">\n",
       "      <th></th>\n",
       "      <th>Loss</th>\n",
       "      <th>Accuracy</th>\n",
       "      <th>Recall</th>\n",
       "      <th>Precision</th>\n",
       "      <th>AUC</th>\n",
       "    </tr>\n",
       "  </thead>\n",
       "  <tbody>\n",
       "    <tr>\n",
       "      <th>Train</th>\n",
       "      <td>0.451199</td>\n",
       "      <td>0.879929</td>\n",
       "      <td>0.858325</td>\n",
       "      <td>0.877333</td>\n",
       "      <td>0.954424</td>\n",
       "    </tr>\n",
       "    <tr>\n",
       "      <th>Validation</th>\n",
       "      <td>0.484292</td>\n",
       "      <td>0.863332</td>\n",
       "      <td>0.851167</td>\n",
       "      <td>0.851167</td>\n",
       "      <td>0.941661</td>\n",
       "    </tr>\n",
       "  </tbody>\n",
       "</table>\n",
       "</div>"
      ],
      "text/plain": [
       "                Loss  Accuracy    Recall Precision       AUC\n",
       "Train       0.451199  0.879929  0.858325  0.877333  0.954424\n",
       "Validation  0.484292  0.863332  0.851167  0.851167  0.941661"
      ]
     },
     "execution_count": 34,
     "metadata": {},
     "output_type": "execute_result"
    }
   ],
   "source": [
    "# Evaluate train and validation set:\n",
    "vgg16_withfinal_results_train = vgg16_withfinal.evaluate(train_images, train_labels)\n",
    "vgg16_withfinal_results_validation = vgg16_withfinal.evaluate(val_images, val_labels)\n",
    "\n",
    "\n",
    "# Construct a new dataframe to save results:\n",
    "vgg16_withfinal_results = pd.DataFrame(columns = ['Loss' , 'Accuracy', 'Recall', 'Precision', 'AUC'],\n",
    "                      index = ['Train', 'Validation'])\n",
    "\n",
    "for i in range(5):\n",
    "    vgg16_withfinal_results[vgg16_withfinal_results.columns[i]]['Train'] = vgg16_withfinal_results_train[i]\n",
    "    vgg16_withfinal_results[vgg16_withfinal_results.columns[i]]['Validation'] = vgg16_withfinal_results_validation[i]\n",
    "    \n",
    "vgg16_withfinal_results"
   ]
  },
  {
   "cell_type": "code",
   "execution_count": 37,
   "metadata": {},
   "outputs": [],
   "source": [
    "# Save the model results\n",
    "vgg16_withfinal_results.to_csv('../Saved_Models/vgg16_withfinal_results.csv', index=False)"
   ]
  },
  {
   "cell_type": "code",
   "execution_count": 38,
   "metadata": {},
   "outputs": [],
   "source": [
    "# Save weights of the model\n",
    "vgg16_withfinal.save_weights('../Saved_Models/vgg16_withfinal_weights.h5')"
   ]
  },
  {
   "cell_type": "markdown",
   "metadata": {},
   "source": [
    "**Analysis:**"
   ]
  },
  {
   "cell_type": "markdown",
   "metadata": {},
   "source": [
    "### Second Iteration"
   ]
  },
  {
   "cell_type": "code",
   "execution_count": 60,
   "metadata": {},
   "outputs": [],
   "source": [
    "# Create architecture of the model:\n",
    "vgg16_withfinal2 = models.Sequential()\n",
    "vgg16_withfinal2.add(vgg16_model)\n",
    "\n",
    "# adding more dense layers of CNN iterations from final model:\n",
    "vgg16_withfinal2.add(layers.Flatten())\n",
    "vgg16_withfinal2.add(Flatten())\n",
    "vgg16_withfinal2.add(Dense(512, activation='relu', kernel_regularizer=l2(l2=0.001)))\n",
    "vgg16_withfinal2.add(Dropout(0.5))\n",
    "vgg16_withfinal2.add(Dense(256, kernel_regularizer=l2(l2=0.001)))\n",
    "vgg16_withfinal2.add(BatchNormalization())\n",
    "vgg16_withfinal2.add(Activation('relu'))\n",
    "vgg16_withfinal2.add(Dropout(0.5))\n",
    "vgg16_withfinal2.add(Dense(16, kernel_regularizer=l2(l2=0.001)))\n",
    "vgg16_withfinal2.add(BatchNormalization())\n",
    "vgg16_withfinal2.add(Activation('relu'))\n",
    "vgg16_withfinal2.add(Dropout(0.5))\n",
    "vgg16_withfinal2.add(Dense(4, kernel_regularizer=l2(l2=0.001)))\n",
    "vgg16_withfinal2.add(BatchNormalization())\n",
    "vgg16_withfinal2.add(Activation('relu'))\n",
    "\n",
    "vgg16_withfinal2.add(layers.Dense(1, activation='sigmoid'))"
   ]
  },
  {
   "cell_type": "code",
   "execution_count": 40,
   "metadata": {},
   "outputs": [
    {
     "name": "stdout",
     "output_type": "stream",
     "text": [
      "Model: \"sequential_3\"\n",
      "_________________________________________________________________\n",
      "Layer (type)                 Output Shape              Param #   \n",
      "=================================================================\n",
      "vgg16 (Functional)           (None, 2, 2, 512)         14714688  \n",
      "_________________________________________________________________\n",
      "flatten_2 (Flatten)          (None, 2048)              0         \n",
      "_________________________________________________________________\n",
      "flatten_3 (Flatten)          (None, 2048)              0         \n",
      "_________________________________________________________________\n",
      "dense_4 (Dense)              (None, 512)               1049088   \n",
      "_________________________________________________________________\n",
      "dropout (Dropout)            (None, 512)               0         \n",
      "_________________________________________________________________\n",
      "dense_5 (Dense)              (None, 256)               131328    \n",
      "_________________________________________________________________\n",
      "batch_normalization (BatchNo (None, 256)               1024      \n",
      "_________________________________________________________________\n",
      "activation (Activation)      (None, 256)               0         \n",
      "_________________________________________________________________\n",
      "dropout_1 (Dropout)          (None, 256)               0         \n",
      "_________________________________________________________________\n",
      "dense_6 (Dense)              (None, 16)                4112      \n",
      "_________________________________________________________________\n",
      "batch_normalization_1 (Batch (None, 16)                64        \n",
      "_________________________________________________________________\n",
      "activation_1 (Activation)    (None, 16)                0         \n",
      "_________________________________________________________________\n",
      "dropout_2 (Dropout)          (None, 16)                0         \n",
      "_________________________________________________________________\n",
      "dense_7 (Dense)              (None, 4)                 68        \n",
      "_________________________________________________________________\n",
      "batch_normalization_2 (Batch (None, 4)                 16        \n",
      "_________________________________________________________________\n",
      "activation_2 (Activation)    (None, 4)                 0         \n",
      "_________________________________________________________________\n",
      "dense_8 (Dense)              (None, 1)                 5         \n",
      "=================================================================\n",
      "Total params: 15,900,393\n",
      "Trainable params: 1,185,153\n",
      "Non-trainable params: 14,715,240\n",
      "_________________________________________________________________\n"
     ]
    }
   ],
   "source": [
    "vgg16_withfinal2.summary()"
   ]
  },
  {
   "cell_type": "code",
   "execution_count": 42,
   "metadata": {},
   "outputs": [],
   "source": [
    "# Make sure that the pretrianed layers are untrainable\n",
    "for layer in vgg16_model.layers:\n",
    "    layer.trainable=False"
   ]
  },
  {
   "cell_type": "code",
   "execution_count": 43,
   "metadata": {},
   "outputs": [
    {
     "name": "stdout",
     "output_type": "stream",
     "text": [
      "vgg16 False\n",
      "flatten_2 True\n",
      "flatten_3 True\n",
      "dense_4 True\n",
      "dropout True\n",
      "dense_5 True\n",
      "batch_normalization True\n",
      "activation True\n",
      "dropout_1 True\n",
      "dense_6 True\n",
      "batch_normalization_1 True\n",
      "activation_1 True\n",
      "dropout_2 True\n",
      "dense_7 True\n",
      "batch_normalization_2 True\n",
      "activation_2 True\n",
      "dense_8 True\n"
     ]
    }
   ],
   "source": [
    "# Print out the layers' trainability condition:\n",
    "for layer in vgg16_withfinal2.layers:\n",
    "    print(layer.name, layer.trainable)"
   ]
  },
  {
   "cell_type": "code",
   "execution_count": 46,
   "metadata": {},
   "outputs": [],
   "source": [
    "# Define early stop criteria for model:\n",
    "early_stop2 = [\n",
    "    EarlyStopping(monitor='val_accuracy', mode='max', patience=5, restore_best_weights=True),\n",
    "    ModelCheckpoint(filepath='../Saved_Models/vgg16model2_best_model.h5', monitor='val_recall', mode='max', \n",
    "                             save_best_only=True, verbose=1)]\n"
   ]
  },
  {
   "cell_type": "code",
   "execution_count": 47,
   "metadata": {},
   "outputs": [
    {
     "name": "stdout",
     "output_type": "stream",
     "text": [
      "Epoch 1/30\n",
      "280/280 [==============================] - ETA: 0s - loss: 1.8435 - accuracy: 0.6149 - recall: 0.5148 - precision: 0.5924 - auc: 0.6544\n",
      "Epoch 00001: val_recall improved from -inf to 0.56031, saving model to ../Saved_Models\\vgg16model2_best_model.h5\n",
      "280/280 [==============================] - 367s 1s/step - loss: 1.8435 - accuracy: 0.6149 - recall: 0.5148 - precision: 0.5924 - auc: 0.6544 - val_loss: 1.7578 - val_accuracy: 0.7655 - val_recall: 0.5603 - val_precision: 0.8875 - val_auc: 0.8588\n",
      "Epoch 2/30\n",
      "280/280 [==============================] - ETA: 0s - loss: 1.7545 - accuracy: 0.7182 - recall: 0.5757 - precision: 0.7520 - auc: 0.7835\n",
      "Epoch 00002: val_recall improved from 0.56031 to 0.61770, saving model to ../Saved_Models\\vgg16model2_best_model.h5\n",
      "280/280 [==============================] - 401s 1s/step - loss: 1.7545 - accuracy: 0.7182 - recall: 0.5757 - precision: 0.7520 - auc: 0.7835 - val_loss: 1.6792 - val_accuracy: 0.7887 - val_recall: 0.6177 - val_precision: 0.8881 - val_auc: 0.8658\n",
      "Epoch 3/30\n",
      "280/280 [==============================] - ETA: 0s - loss: 1.6930 - accuracy: 0.7572 - recall: 0.6251 - precision: 0.8020 - auc: 0.8264\n",
      "Epoch 00003: val_recall improved from 0.61770 to 0.67899, saving model to ../Saved_Models\\vgg16model2_best_model.h5\n",
      "280/280 [==============================] - 461s 2s/step - loss: 1.6930 - accuracy: 0.7572 - recall: 0.6251 - precision: 0.8020 - auc: 0.8264 - val_loss: 1.6317 - val_accuracy: 0.8053 - val_recall: 0.6790 - val_precision: 0.8682 - val_auc: 0.8814\n",
      "Epoch 4/30\n",
      "280/280 [==============================] - ETA: 0s - loss: 1.6522 - accuracy: 0.7781 - recall: 0.6482 - precision: 0.8309 - auc: 0.8444\n",
      "Epoch 00004: val_recall improved from 0.67899 to 0.72568, saving model to ../Saved_Models\\vgg16model2_best_model.h5\n",
      "280/280 [==============================] - 376s 1s/step - loss: 1.6522 - accuracy: 0.7781 - recall: 0.6482 - precision: 0.8309 - auc: 0.8444 - val_loss: 1.5832 - val_accuracy: 0.8124 - val_recall: 0.7257 - val_precision: 0.8439 - val_auc: 0.8890\n",
      "Epoch 5/30\n",
      "280/280 [==============================] - ETA: 0s - loss: 1.6179 - accuracy: 0.7833 - recall: 0.6682 - precision: 0.8263 - auc: 0.8525\n",
      "Epoch 00005: val_recall did not improve from 0.72568\n",
      "280/280 [==============================] - 305s 1s/step - loss: 1.6179 - accuracy: 0.7833 - recall: 0.6682 - precision: 0.8263 - auc: 0.8525 - val_loss: 1.5758 - val_accuracy: 0.7954 - val_recall: 0.6245 - val_precision: 0.8992 - val_auc: 0.8912\n",
      "Epoch 6/30\n",
      "280/280 [==============================] - ETA: 0s - loss: 1.5876 - accuracy: 0.7983 - recall: 0.6926 - precision: 0.8397 - auc: 0.8647\n",
      "Epoch 00006: val_recall did not improve from 0.72568\n",
      "280/280 [==============================] - 332s 1s/step - loss: 1.5876 - accuracy: 0.7983 - recall: 0.6926 - precision: 0.8397 - auc: 0.8647 - val_loss: 1.5320 - val_accuracy: 0.8209 - val_recall: 0.7053 - val_precision: 0.8809 - val_auc: 0.8961\n",
      "Epoch 7/30\n",
      "280/280 [==============================] - ETA: 0s - loss: 1.5650 - accuracy: 0.8026 - recall: 0.7081 - precision: 0.8366 - auc: 0.8686\n",
      "Epoch 00007: val_recall did not improve from 0.72568\n",
      "280/280 [==============================] - 314s 1s/step - loss: 1.5650 - accuracy: 0.8026 - recall: 0.7081 - precision: 0.8366 - auc: 0.8686 - val_loss: 1.5158 - val_accuracy: 0.8254 - val_recall: 0.7004 - val_precision: 0.8966 - val_auc: 0.9024\n",
      "Epoch 8/30\n",
      "280/280 [==============================] - ETA: 0s - loss: 1.5449 - accuracy: 0.8039 - recall: 0.7162 - precision: 0.8330 - auc: 0.8721\n",
      "Epoch 00008: val_recall improved from 0.72568 to 0.73638, saving model to ../Saved_Models\\vgg16model2_best_model.h5\n",
      "280/280 [==============================] - 314s 1s/step - loss: 1.5449 - accuracy: 0.8039 - recall: 0.7162 - precision: 0.8330 - auc: 0.8721 - val_loss: 1.4890 - val_accuracy: 0.8294 - val_recall: 0.7364 - val_precision: 0.8721 - val_auc: 0.9070\n",
      "Epoch 9/30\n",
      "280/280 [==============================] - ETA: 0s - loss: 1.5282 - accuracy: 0.8062 - recall: 0.7286 - precision: 0.8284 - auc: 0.8764\n",
      "Epoch 00009: val_recall did not improve from 0.73638\n",
      "280/280 [==============================] - 285s 1s/step - loss: 1.5282 - accuracy: 0.8062 - recall: 0.7286 - precision: 0.8284 - auc: 0.8764 - val_loss: 1.4766 - val_accuracy: 0.8280 - val_recall: 0.7335 - val_precision: 0.8717 - val_auc: 0.9087\n",
      "Epoch 10/30\n",
      "280/280 [==============================] - ETA: 0s - loss: 1.5089 - accuracy: 0.8143 - recall: 0.7381 - precision: 0.8378 - auc: 0.8798\n",
      "Epoch 00010: val_recall did not improve from 0.73638\n",
      "280/280 [==============================] - 281s 1s/step - loss: 1.5089 - accuracy: 0.8143 - recall: 0.7381 - precision: 0.8378 - auc: 0.8798 - val_loss: 1.4527 - val_accuracy: 0.8321 - val_recall: 0.7325 - val_precision: 0.8817 - val_auc: 0.9150\n",
      "Epoch 11/30\n",
      "280/280 [==============================] - ETA: 0s - loss: 1.4963 - accuracy: 0.8118 - recall: 0.7361 - precision: 0.8342 - auc: 0.8806\n",
      "Epoch 00011: val_recall did not improve from 0.73638\n",
      "280/280 [==============================] - 260s 928ms/step - loss: 1.4963 - accuracy: 0.8118 - recall: 0.7361 - precision: 0.8342 - auc: 0.8806 - val_loss: 1.4389 - val_accuracy: 0.8347 - val_recall: 0.7228 - val_precision: 0.8973 - val_auc: 0.9183\n",
      "Epoch 12/30\n",
      "280/280 [==============================] - ETA: 0s - loss: 1.4748 - accuracy: 0.8176 - recall: 0.7498 - precision: 0.8358 - auc: 0.8872\n",
      "Epoch 00012: val_recall did not improve from 0.73638\n",
      "280/280 [==============================] - 276s 984ms/step - loss: 1.4748 - accuracy: 0.8176 - recall: 0.7498 - precision: 0.8358 - auc: 0.8872 - val_loss: 1.4365 - val_accuracy: 0.8249 - val_recall: 0.6946 - val_precision: 0.9015 - val_auc: 0.9167\n",
      "Epoch 13/30\n",
      "280/280 [==============================] - ETA: 0s - loss: 1.4552 - accuracy: 0.8193 - recall: 0.7517 - precision: 0.8378 - auc: 0.8920\n",
      "Epoch 00013: val_recall improved from 0.73638 to 0.76848, saving model to ../Saved_Models\\vgg16model2_best_model.h5\n",
      "280/280 [==============================] - 357s 1s/step - loss: 1.4552 - accuracy: 0.8193 - recall: 0.7517 - precision: 0.8378 - auc: 0.8920 - val_loss: 1.3982 - val_accuracy: 0.8401 - val_recall: 0.7685 - val_precision: 0.8681 - val_auc: 0.9233\n",
      "Epoch 14/30\n",
      "280/280 [==============================] - ETA: 0s - loss: 1.4376 - accuracy: 0.8188 - recall: 0.7568 - precision: 0.8331 - auc: 0.8936\n",
      "Epoch 00014: val_recall improved from 0.76848 to 0.80253, saving model to ../Saved_Models\\vgg16model2_best_model.h5\n",
      "280/280 [==============================] - 398s 1s/step - loss: 1.4376 - accuracy: 0.8188 - recall: 0.7568 - precision: 0.8331 - auc: 0.8936 - val_loss: 1.3853 - val_accuracy: 0.8477 - val_recall: 0.8025 - val_precision: 0.8567 - val_auc: 0.9240\n",
      "Epoch 15/30\n",
      "280/280 [==============================] - ETA: 0s - loss: 1.4253 - accuracy: 0.8205 - recall: 0.7619 - precision: 0.8327 - auc: 0.8964\n",
      "Epoch 00015: val_recall did not improve from 0.80253\n",
      "280/280 [==============================] - 395s 1s/step - loss: 1.4253 - accuracy: 0.8205 - recall: 0.7619 - precision: 0.8327 - auc: 0.8964 - val_loss: 1.3701 - val_accuracy: 0.8441 - val_recall: 0.7451 - val_precision: 0.8980 - val_auc: 0.9281\n",
      "Epoch 16/30\n",
      "280/280 [==============================] - ETA: 0s - loss: 1.4100 - accuracy: 0.8256 - recall: 0.7622 - precision: 0.8428 - auc: 0.8969\n",
      "Epoch 00016: val_recall did not improve from 0.80253\n",
      "280/280 [==============================] - 371s 1s/step - loss: 1.4100 - accuracy: 0.8256 - recall: 0.7622 - precision: 0.8428 - auc: 0.8969 - val_loss: 1.3649 - val_accuracy: 0.8352 - val_recall: 0.7189 - val_precision: 0.9023 - val_auc: 0.9265\n",
      "Epoch 17/30\n",
      "280/280 [==============================] - ETA: 0s - loss: 1.3983 - accuracy: 0.8211 - recall: 0.7619 - precision: 0.8338 - auc: 0.8975\n",
      "Epoch 00017: val_recall did not improve from 0.80253\n",
      "280/280 [==============================] - 426s 2s/step - loss: 1.3983 - accuracy: 0.8211 - recall: 0.7619 - precision: 0.8338 - auc: 0.8975 - val_loss: 1.3454 - val_accuracy: 0.8468 - val_recall: 0.7646 - val_precision: 0.8861 - val_auc: 0.9261\n",
      "Epoch 18/30\n",
      "280/280 [==============================] - ETA: 0s - loss: 1.3822 - accuracy: 0.8216 - recall: 0.7656 - precision: 0.8322 - auc: 0.9008\n",
      "Epoch 00018: val_recall did not improve from 0.80253\n",
      "280/280 [==============================] - 401s 1s/step - loss: 1.3822 - accuracy: 0.8216 - recall: 0.7656 - precision: 0.8322 - auc: 0.9008 - val_loss: 1.3320 - val_accuracy: 0.8459 - val_recall: 0.7403 - val_precision: 0.9070 - val_auc: 0.9285\n"
     ]
    },
    {
     "name": "stdout",
     "output_type": "stream",
     "text": [
      "Epoch 19/30\n",
      "280/280 [==============================] - ETA: 0s - loss: 1.3657 - accuracy: 0.8281 - recall: 0.7700 - precision: 0.8419 - auc: 0.9039\n",
      "Epoch 00019: val_recall did not improve from 0.80253\n",
      "280/280 [==============================] - 402s 1s/step - loss: 1.3657 - accuracy: 0.8281 - recall: 0.7700 - precision: 0.8419 - auc: 0.9039 - val_loss: 1.3240 - val_accuracy: 0.8392 - val_recall: 0.7267 - val_precision: 0.9044 - val_auc: 0.9268\n"
     ]
    }
   ],
   "source": [
    "# Compile and fit the model:\n",
    "vgg16_withfinal2.compile(optimizer='sgd',\n",
    "              loss='binary_crossentropy',\n",
    "             metrics=['accuracy', 'Recall', 'Precision', 'AUC'])\n",
    "\n",
    "vgg16_withfinal2_history = vgg16_withfinal2.fit(train_images,\n",
    "                    train_labels,\n",
    "                    epochs=30,\n",
    "                    batch_size=32,  # mini batches of 32 units!\n",
    "                    callbacks = early_stop2,\n",
    "                    validation_data=(val_images, val_labels))"
   ]
  },
  {
   "cell_type": "code",
   "execution_count": 48,
   "metadata": {},
   "outputs": [
    {
     "data": {
      "image/png": "[encoded data removed]",
      "text/plain": [
       "<Figure size 576x360 with 1 Axes>"
      ]
     },
     "metadata": {
      "needs_background": "light"
     },
     "output_type": "display_data"
    },
    {
     "data": {
      "image/png": "[encoded data removed]",
      "text/plain": [
       "<Figure size 576x360 with 1 Axes>"
      ]
     },
     "metadata": {
      "needs_background": "light"
     },
     "output_type": "display_data"
    }
   ],
   "source": [
    "# Visualize the modeling results:\n",
    "visualize_modeling_results(vgg16_withfinal2_history)"
   ]
  },
  {
   "cell_type": "code",
   "execution_count": 49,
   "metadata": {},
   "outputs": [
    {
     "data": {
      "image/png": "[encoded data removed]",
      "text/plain": [
       "<Figure size 432x288 with 2 Axes>"
      ]
     },
     "metadata": {
      "needs_background": "light"
     },
     "output_type": "display_data"
    }
   ],
   "source": [
    "# Plot confusion matrix:\n",
    "vgg16_withfinal2_predictions = (vgg16_withfinal2.predict(val_images) > 0.5).astype(\"int32\")\n",
    "vgg16_withfinal2_cm = confusion_matrix(val_labels, vgg16_withfinal2_predictions)\n",
    "vgg16_withfinal2_disp = ConfusionMatrixDisplay(confusion_matrix=vgg16_withfinal2_cm, display_labels=['Benign', 'Malignant'])\n",
    "vgg16_withfinal2_disp.plot()\n",
    "plt.show()"
   ]
  },
  {
   "cell_type": "code",
   "execution_count": 50,
   "metadata": {},
   "outputs": [
    {
     "data": {
      "image/png": "[encoded data removed]",
      "text/plain": [
       "<Figure size 432x288 with 2 Axes>"
      ]
     },
     "metadata": {
      "needs_background": "light"
     },
     "output_type": "display_data"
    }
   ],
   "source": [
    "# Plot confusion matrix with percentages:\n",
    "vgg16_withfinal2_predictions = (vgg16_withfinal2.predict(val_images) > 0.5).astype(\"int32\")\n",
    "vgg16_withfinal2_cm = confusion_matrix(val_labels, vgg16_withfinal2_predictions, normalize='true')\n",
    "vgg16_withfinal2_disp = ConfusionMatrixDisplay(confusion_matrix=vgg16_withfinal2_cm, display_labels=['Benign', 'Malignant'])\n",
    "vgg16_withfinal2_disp.plot()\n",
    "plt.show()"
   ]
  },
  {
   "cell_type": "code",
   "execution_count": 51,
   "metadata": {},
   "outputs": [
    {
     "name": "stdout",
     "output_type": "stream",
     "text": [
      "280/280 [==============================] - 338s 1s/step - loss: 1.3712 - accuracy: 0.8484 - recall: 0.8006 - precision: 0.8594 - auc: 0.9330\n",
      "70/70 [==============================] - 76s 1s/step - loss: 1.3853 - accuracy: 0.8477 - recall: 0.8025 - precision: 0.8567 - auc: 0.9240\n"
     ]
    },
    {
     "data": {
      "text/html": [
       "<div>\n",
       "<style scoped>\n",
       "    .dataframe tbody tr th:only-of-type {\n",
       "        vertical-align: middle;\n",
       "    }\n",
       "\n",
       "    .dataframe tbody tr th {\n",
       "        vertical-align: top;\n",
       "    }\n",
       "\n",
       "    .dataframe thead th {\n",
       "        text-align: right;\n",
       "    }\n",
       "</style>\n",
       "<table border=\"1\" class=\"dataframe\">\n",
       "  <thead>\n",
       "    <tr style=\"text-align: right;\">\n",
       "      <th></th>\n",
       "      <th>Loss</th>\n",
       "      <th>Accuracy</th>\n",
       "      <th>Recall</th>\n",
       "      <th>Precision</th>\n",
       "      <th>AUC</th>\n",
       "    </tr>\n",
       "  </thead>\n",
       "  <tbody>\n",
       "    <tr>\n",
       "      <th>Train</th>\n",
       "      <td>1.37118</td>\n",
       "      <td>0.848431</td>\n",
       "      <td>0.800633</td>\n",
       "      <td>0.85942</td>\n",
       "      <td>0.933046</td>\n",
       "    </tr>\n",
       "    <tr>\n",
       "      <th>Validation</th>\n",
       "      <td>1.38529</td>\n",
       "      <td>0.8477</td>\n",
       "      <td>0.802529</td>\n",
       "      <td>0.856698</td>\n",
       "      <td>0.923997</td>\n",
       "    </tr>\n",
       "  </tbody>\n",
       "</table>\n",
       "</div>"
      ],
      "text/plain": [
       "               Loss  Accuracy    Recall Precision       AUC\n",
       "Train       1.37118  0.848431  0.800633   0.85942  0.933046\n",
       "Validation  1.38529    0.8477  0.802529  0.856698  0.923997"
      ]
     },
     "execution_count": 51,
     "metadata": {},
     "output_type": "execute_result"
    }
   ],
   "source": [
    "# Evaluate train and validation set:\n",
    "vgg16_withfinal2_results_train = vgg16_withfinal2.evaluate(train_images, train_labels)\n",
    "vgg16_withfinal2_results_validation = vgg16_withfinal2.evaluate(val_images, val_labels)\n",
    "\n",
    "\n",
    "# Construct a new dataframe to save results:\n",
    "vgg16_withfinal2_results = pd.DataFrame(columns = ['Loss' , 'Accuracy', 'Recall', 'Precision', 'AUC'],\n",
    "                      index = ['Train', 'Validation'])\n",
    "\n",
    "for i in range(5):\n",
    "    vgg16_withfinal2_results[vgg16_withfinal2_results.columns[i]]['Train'] = vgg16_withfinal2_results_train[i]\n",
    "    vgg16_withfinal2_results[vgg16_withfinal2_results.columns[i]]['Validation'] = vgg16_withfinal2_results_validation[i]\n",
    "    \n",
    "vgg16_withfinal2_results"
   ]
  },
  {
   "cell_type": "code",
   "execution_count": 52,
   "metadata": {},
   "outputs": [],
   "source": [
    "# Save the model results\n",
    "vgg16_withfinal2_results.to_csv('../Saved_Models/vgg16_withfinal2_results.csv', index=False)"
   ]
  },
  {
   "cell_type": "markdown",
   "metadata": {},
   "source": [
    "### Test/Holdout Set Evaluation:"
   ]
  },
  {
   "cell_type": "code",
   "execution_count": 54,
   "metadata": {},
   "outputs": [
    {
     "name": "stdout",
     "output_type": "stream",
     "text": [
      "39/39 [==============================] - 26s 672ms/step - loss: 0.4424 - accuracy: 0.8923 - recall: 0.8436 - precision: 0.9062 - auc: 0.9570\n"
     ]
    }
   ],
   "source": [
    "# Test/Holdout set scores for first iteration of VGG-16 model:\n",
    "score1 = vgg16_withfinal.evaluate(test_images, test_labels)"
   ]
  },
  {
   "cell_type": "code",
   "execution_count": 55,
   "metadata": {},
   "outputs": [
    {
     "name": "stdout",
     "output_type": "stream",
     "text": [
      "accuracy: 89.23%\n",
      "recall: 84.36%\n"
     ]
    }
   ],
   "source": [
    "print(\"%s: %.2f%%\" % (vgg16_withfinal.metrics_names[1], score1[1]*100))\n",
    "print(\"%s: %.2f%%\" % (vgg16_withfinal.metrics_names[2], score1[2]*100))"
   ]
  },
  {
   "cell_type": "code",
   "execution_count": 56,
   "metadata": {},
   "outputs": [
    {
     "name": "stdout",
     "output_type": "stream",
     "text": [
      "39/39 [==============================] - 14s 355ms/step - loss: 1.3589 - accuracy: 0.8625 - recall: 0.7982 - precision: 0.8798 - auc: 0.9381\n"
     ]
    }
   ],
   "source": [
    "# # Test/Holdout set scores for second iteration of VGG-16 model:\n",
    "score2 = vgg16_withfinal2.evaluate(test_images, test_labels)"
   ]
  },
  {
   "cell_type": "code",
   "execution_count": 57,
   "metadata": {},
   "outputs": [
    {
     "name": "stdout",
     "output_type": "stream",
     "text": [
      "accuracy: 86.25%\n",
      "recall: 79.82%\n"
     ]
    }
   ],
   "source": [
    "print(\"%s: %.2f%%\" % (vgg16_withfinal2.metrics_names[1], score2[1]*100))\n",
    "print(\"%s: %.2f%%\" % (vgg16_withfinal2.metrics_names[2], score2[2]*100))"
   ]
  },
  {
   "cell_type": "code",
   "execution_count": null,
   "metadata": {},
   "outputs": [],
   "source": []
  }
 ],
 "metadata": {
  "kernelspec": {
   "display_name": "Python 3",
   "language": "python",
   "name": "python3"
  },
  "language_info": {
   "codemirror_mode": {
    "name": "ipython",
    "version": 3
   },
   "file_extension": ".py",
   "mimetype": "text/x-python",
   "name": "python",
   "nbconvert_exporter": "python",
   "pygments_lexer": "ipython3",
   "version": "3.8.5"
  }
 },
 "nbformat": 4,
 "nbformat_minor": 4
}
